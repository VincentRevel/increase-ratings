{
  "nbformat": 4,
  "nbformat_minor": 0,
  "metadata": {
    "colab": {
      "provenance": []
    },
    "kernelspec": {
      "name": "python3",
      "display_name": "Python 3"
    },
    "language_info": {
      "name": "python"
    }
  },
  "cells": [
    {
      "cell_type": "markdown",
      "source": [
        "# Kelompok 6"
      ],
      "metadata": {
        "id": "cGtHL-CAHQjH"
      }
    },
    {
      "cell_type": "markdown",
      "source": [
        "Anggota:\n",
        "\n",
        "1.   Vincent Revel Aldisa (205150200111019)\n",
        "2.   Bagus Dermawan Mulya (205150201111016)\n",
        "3.   Muhammad Haikal Fajri (205150207111016)\n",
        "\n"
      ],
      "metadata": {
        "id": "6KSSf9AjIHXH"
      }
    },
    {
      "cell_type": "markdown",
      "source": [
        "Sumber Dataset : https://www.kaggle.com/datasets/aprabowo/indonesia-tourism-destination"
      ],
      "metadata": {
        "id": "XD6IreHbKvQh"
      }
    },
    {
      "cell_type": "markdown",
      "source": [
        "# Import"
      ],
      "metadata": {
        "id": "r9oQBEvj5QK_"
      }
    },
    {
      "cell_type": "code",
      "source": [
        "!wget https://gist.githubusercontent.com/VincentRevel/4299105893a90d0b8ee9fdf7685964d3/raw/3fbd581fddcce5231fd38202b61fef67d6cb4dfd/tourism_with_id.csv\n",
        "!wget https://gist.githubusercontent.com/VincentRevel/c31859fa518ebeb79d34d7a1783b8aa7/raw/01ad7946106b6a8daf74bcbc9b36148d2dee90c6/user.csv\n",
        "!wget https://gist.githubusercontent.com/VincentRevel/3e8e937f7a9425295847277f70dbc236/raw/4fb21c870d9c952e8fbe2e8692d14ac9134e2079/tourism_rating.csv"
      ],
      "metadata": {
        "colab": {
          "base_uri": "https://localhost:8080/"
        },
        "id": "BuuOOAPL4Kt-",
        "outputId": "b4cb33f3-cf02-4649-9a58-97c05e491e13"
      },
      "execution_count": null,
      "outputs": [
        {
          "output_type": "stream",
          "name": "stdout",
          "text": [
            "--2022-06-21 06:12:22--  https://gist.githubusercontent.com/VincentRevel/4299105893a90d0b8ee9fdf7685964d3/raw/3fbd581fddcce5231fd38202b61fef67d6cb4dfd/tourism_with_id.csv\n",
            "Resolving gist.githubusercontent.com (gist.githubusercontent.com)... 185.199.108.133, 185.199.109.133, 185.199.110.133, ...\n",
            "Connecting to gist.githubusercontent.com (gist.githubusercontent.com)|185.199.108.133|:443... connected.\n",
            "HTTP request sent, awaiting response... 200 OK\n",
            "Length: 365359 (357K) [text/plain]\n",
            "Saving to: ‘tourism_with_id.csv.4’\n",
            "\n",
            "tourism_with_id.csv 100%[===================>] 356.80K  --.-KB/s    in 0.03s   \n",
            "\n",
            "2022-06-21 06:12:23 (10.4 MB/s) - ‘tourism_with_id.csv.4’ saved [365359/365359]\n",
            "\n",
            "--2022-06-21 06:12:23--  https://gist.githubusercontent.com/VincentRevel/c31859fa518ebeb79d34d7a1783b8aa7/raw/01ad7946106b6a8daf74bcbc9b36148d2dee90c6/user.csv\n",
            "Resolving gist.githubusercontent.com (gist.githubusercontent.com)... 185.199.108.133, 185.199.109.133, 185.199.110.133, ...\n",
            "Connecting to gist.githubusercontent.com (gist.githubusercontent.com)|185.199.108.133|:443... connected.\n",
            "HTTP request sent, awaiting response... 200 OK\n",
            "Length: 8917 (8.7K) [text/plain]\n",
            "Saving to: ‘user.csv.4’\n",
            "\n",
            "user.csv.4          100%[===================>]   8.71K  --.-KB/s    in 0s      \n",
            "\n",
            "2022-06-21 06:12:23 (59.2 MB/s) - ‘user.csv.4’ saved [8917/8917]\n",
            "\n",
            "--2022-06-21 06:12:23--  https://gist.githubusercontent.com/VincentRevel/3e8e937f7a9425295847277f70dbc236/raw/4fb21c870d9c952e8fbe2e8692d14ac9134e2079/tourism_rating.csv\n",
            "Resolving gist.githubusercontent.com (gist.githubusercontent.com)... 185.199.111.133, 185.199.108.133, 185.199.110.133, ...\n",
            "Connecting to gist.githubusercontent.com (gist.githubusercontent.com)|185.199.111.133|:443... connected.\n",
            "HTTP request sent, awaiting response... 200 OK\n",
            "Length: 94018 (92K) [text/plain]\n",
            "Saving to: ‘tourism_rating.csv.4’\n",
            "\n",
            "tourism_rating.csv. 100%[===================>]  91.81K  --.-KB/s    in 0.01s   \n",
            "\n",
            "2022-06-21 06:12:23 (6.31 MB/s) - ‘tourism_rating.csv.4’ saved [94018/94018]\n",
            "\n"
          ]
        }
      ]
    },
    {
      "cell_type": "code",
      "source": [
        "import numpy as np\n",
        "import pandas as pd\n",
        "import matplotlib.pyplot as plt\n",
        "import seaborn as sns\n",
        "sns.set_theme(style=\"whitegrid\", palette=\"pastel\")\n",
        "from sklearn import preprocessing\n",
        "from sklearn.impute import SimpleImputer\n",
        "from imblearn.over_sampling import RandomOverSampler\n",
        "from sklearn.metrics import accuracy_score\n",
        "from sklearn.model_selection import cross_val_score\n",
        "from sklearn.tree import plot_tree\n",
        "from sklearn.inspection import permutation_importance\n",
        "from sklearn.model_selection import GridSearchCV\n",
        "from sklearn.metrics import classification_report, confusion_matrix "
      ],
      "metadata": {
        "id": "0na-gzFQ4GfH"
      },
      "execution_count": null,
      "outputs": []
    },
    {
      "cell_type": "code",
      "execution_count": null,
      "metadata": {
        "id": "FzYlQwEv2nsc"
      },
      "outputs": [],
      "source": [
        "# Dataset\n",
        "data = pd.read_csv('tourism_with_id.csv')\n",
        "user = pd.read_csv('user.csv')\n",
        "user_rating = pd.read_csv('tourism_rating.csv')\n",
        "y = data['Rating']"
      ]
    },
    {
      "cell_type": "code",
      "source": [
        "# Membuang Tabel Yang Bernilai NULL\n",
        "data = data.drop(columns=['Unnamed: 11', 'Unnamed: 12'])\n",
        "X = data"
      ],
      "metadata": {
        "id": "M9llR43e91ej"
      },
      "execution_count": null,
      "outputs": []
    },
    {
      "cell_type": "code",
      "source": [
        "# Tabel Feature\n",
        "data.head()"
      ],
      "metadata": {
        "colab": {
          "base_uri": "https://localhost:8080/",
          "height": 424
        },
        "id": "QtsbX8bN5Bym",
        "outputId": "015bcd31-2bef-48af-f700-13f3e7085462"
      },
      "execution_count": null,
      "outputs": [
        {
          "output_type": "execute_result",
          "data": {
            "text/plain": [
              "   Place_Id                         Place_Name  \\\n",
              "0         1                   Monumen Nasional   \n",
              "1         2                           Kota Tua   \n",
              "2         3                      Dunia Fantasi   \n",
              "3         4  Taman Mini Indonesia Indah (TMII)   \n",
              "4         5           Atlantis Water Adventure   \n",
              "\n",
              "                                         Description       Category     City  \\\n",
              "0  Monumen Nasional atau yang populer disingkat d...         Budaya  Jakarta   \n",
              "1  Kota tua di Jakarta, yang juga bernama Kota Tu...         Budaya  Jakarta   \n",
              "2  Dunia Fantasi atau disebut juga Dufan adalah t...  Taman Hiburan  Jakarta   \n",
              "3  Taman Mini Indonesia Indah merupakan suatu kaw...  Taman Hiburan  Jakarta   \n",
              "4  Atlantis Water Adventure atau dikenal dengan A...  Taman Hiburan  Jakarta   \n",
              "\n",
              "    Price  Rating  Time_Minutes  \\\n",
              "0   20000     4.6          15.0   \n",
              "1       0     4.6          90.0   \n",
              "2  270000     4.6         360.0   \n",
              "3   10000     4.5           NaN   \n",
              "4   94000     4.5          60.0   \n",
              "\n",
              "                                        Coordinate       Lat        Long  \n",
              "0          {'lat': -6.1753924, 'lng': 106.8271528} -6.175392  106.827153  \n",
              "1  {'lat': -6.137644799999999, 'lng': 106.8171245} -6.137645  106.817125  \n",
              "2  {'lat': -6.125312399999999, 'lng': 106.8335377} -6.125312  106.833538  \n",
              "3  {'lat': -6.302445899999999, 'lng': 106.8951559} -6.302446  106.895156  \n",
              "4             {'lat': -6.12419, 'lng': 106.839134} -6.124190  106.839134  "
            ],
            "text/html": [
              "\n",
              "  <div id=\"df-1a1232b3-8acd-4cbf-9cd2-db67ae9a0a05\">\n",
              "    <div class=\"colab-df-container\">\n",
              "      <div>\n",
              "<style scoped>\n",
              "    .dataframe tbody tr th:only-of-type {\n",
              "        vertical-align: middle;\n",
              "    }\n",
              "\n",
              "    .dataframe tbody tr th {\n",
              "        vertical-align: top;\n",
              "    }\n",
              "\n",
              "    .dataframe thead th {\n",
              "        text-align: right;\n",
              "    }\n",
              "</style>\n",
              "<table border=\"1\" class=\"dataframe\">\n",
              "  <thead>\n",
              "    <tr style=\"text-align: right;\">\n",
              "      <th></th>\n",
              "      <th>Place_Id</th>\n",
              "      <th>Place_Name</th>\n",
              "      <th>Description</th>\n",
              "      <th>Category</th>\n",
              "      <th>City</th>\n",
              "      <th>Price</th>\n",
              "      <th>Rating</th>\n",
              "      <th>Time_Minutes</th>\n",
              "      <th>Coordinate</th>\n",
              "      <th>Lat</th>\n",
              "      <th>Long</th>\n",
              "    </tr>\n",
              "  </thead>\n",
              "  <tbody>\n",
              "    <tr>\n",
              "      <th>0</th>\n",
              "      <td>1</td>\n",
              "      <td>Monumen Nasional</td>\n",
              "      <td>Monumen Nasional atau yang populer disingkat d...</td>\n",
              "      <td>Budaya</td>\n",
              "      <td>Jakarta</td>\n",
              "      <td>20000</td>\n",
              "      <td>4.6</td>\n",
              "      <td>15.0</td>\n",
              "      <td>{'lat': -6.1753924, 'lng': 106.8271528}</td>\n",
              "      <td>-6.175392</td>\n",
              "      <td>106.827153</td>\n",
              "    </tr>\n",
              "    <tr>\n",
              "      <th>1</th>\n",
              "      <td>2</td>\n",
              "      <td>Kota Tua</td>\n",
              "      <td>Kota tua di Jakarta, yang juga bernama Kota Tu...</td>\n",
              "      <td>Budaya</td>\n",
              "      <td>Jakarta</td>\n",
              "      <td>0</td>\n",
              "      <td>4.6</td>\n",
              "      <td>90.0</td>\n",
              "      <td>{'lat': -6.137644799999999, 'lng': 106.8171245}</td>\n",
              "      <td>-6.137645</td>\n",
              "      <td>106.817125</td>\n",
              "    </tr>\n",
              "    <tr>\n",
              "      <th>2</th>\n",
              "      <td>3</td>\n",
              "      <td>Dunia Fantasi</td>\n",
              "      <td>Dunia Fantasi atau disebut juga Dufan adalah t...</td>\n",
              "      <td>Taman Hiburan</td>\n",
              "      <td>Jakarta</td>\n",
              "      <td>270000</td>\n",
              "      <td>4.6</td>\n",
              "      <td>360.0</td>\n",
              "      <td>{'lat': -6.125312399999999, 'lng': 106.8335377}</td>\n",
              "      <td>-6.125312</td>\n",
              "      <td>106.833538</td>\n",
              "    </tr>\n",
              "    <tr>\n",
              "      <th>3</th>\n",
              "      <td>4</td>\n",
              "      <td>Taman Mini Indonesia Indah (TMII)</td>\n",
              "      <td>Taman Mini Indonesia Indah merupakan suatu kaw...</td>\n",
              "      <td>Taman Hiburan</td>\n",
              "      <td>Jakarta</td>\n",
              "      <td>10000</td>\n",
              "      <td>4.5</td>\n",
              "      <td>NaN</td>\n",
              "      <td>{'lat': -6.302445899999999, 'lng': 106.8951559}</td>\n",
              "      <td>-6.302446</td>\n",
              "      <td>106.895156</td>\n",
              "    </tr>\n",
              "    <tr>\n",
              "      <th>4</th>\n",
              "      <td>5</td>\n",
              "      <td>Atlantis Water Adventure</td>\n",
              "      <td>Atlantis Water Adventure atau dikenal dengan A...</td>\n",
              "      <td>Taman Hiburan</td>\n",
              "      <td>Jakarta</td>\n",
              "      <td>94000</td>\n",
              "      <td>4.5</td>\n",
              "      <td>60.0</td>\n",
              "      <td>{'lat': -6.12419, 'lng': 106.839134}</td>\n",
              "      <td>-6.124190</td>\n",
              "      <td>106.839134</td>\n",
              "    </tr>\n",
              "  </tbody>\n",
              "</table>\n",
              "</div>\n",
              "      <button class=\"colab-df-convert\" onclick=\"convertToInteractive('df-1a1232b3-8acd-4cbf-9cd2-db67ae9a0a05')\"\n",
              "              title=\"Convert this dataframe to an interactive table.\"\n",
              "              style=\"display:none;\">\n",
              "        \n",
              "  <svg xmlns=\"http://www.w3.org/2000/svg\" height=\"24px\"viewBox=\"0 0 24 24\"\n",
              "       width=\"24px\">\n",
              "    <path d=\"M0 0h24v24H0V0z\" fill=\"none\"/>\n",
              "    <path d=\"M18.56 5.44l.94 2.06.94-2.06 2.06-.94-2.06-.94-.94-2.06-.94 2.06-2.06.94zm-11 1L8.5 8.5l.94-2.06 2.06-.94-2.06-.94L8.5 2.5l-.94 2.06-2.06.94zm10 10l.94 2.06.94-2.06 2.06-.94-2.06-.94-.94-2.06-.94 2.06-2.06.94z\"/><path d=\"M17.41 7.96l-1.37-1.37c-.4-.4-.92-.59-1.43-.59-.52 0-1.04.2-1.43.59L10.3 9.45l-7.72 7.72c-.78.78-.78 2.05 0 2.83L4 21.41c.39.39.9.59 1.41.59.51 0 1.02-.2 1.41-.59l7.78-7.78 2.81-2.81c.8-.78.8-2.07 0-2.86zM5.41 20L4 18.59l7.72-7.72 1.47 1.35L5.41 20z\"/>\n",
              "  </svg>\n",
              "      </button>\n",
              "      \n",
              "  <style>\n",
              "    .colab-df-container {\n",
              "      display:flex;\n",
              "      flex-wrap:wrap;\n",
              "      gap: 12px;\n",
              "    }\n",
              "\n",
              "    .colab-df-convert {\n",
              "      background-color: #E8F0FE;\n",
              "      border: none;\n",
              "      border-radius: 50%;\n",
              "      cursor: pointer;\n",
              "      display: none;\n",
              "      fill: #1967D2;\n",
              "      height: 32px;\n",
              "      padding: 0 0 0 0;\n",
              "      width: 32px;\n",
              "    }\n",
              "\n",
              "    .colab-df-convert:hover {\n",
              "      background-color: #E2EBFA;\n",
              "      box-shadow: 0px 1px 2px rgba(60, 64, 67, 0.3), 0px 1px 3px 1px rgba(60, 64, 67, 0.15);\n",
              "      fill: #174EA6;\n",
              "    }\n",
              "\n",
              "    [theme=dark] .colab-df-convert {\n",
              "      background-color: #3B4455;\n",
              "      fill: #D2E3FC;\n",
              "    }\n",
              "\n",
              "    [theme=dark] .colab-df-convert:hover {\n",
              "      background-color: #434B5C;\n",
              "      box-shadow: 0px 1px 3px 1px rgba(0, 0, 0, 0.15);\n",
              "      filter: drop-shadow(0px 1px 2px rgba(0, 0, 0, 0.3));\n",
              "      fill: #FFFFFF;\n",
              "    }\n",
              "  </style>\n",
              "\n",
              "      <script>\n",
              "        const buttonEl =\n",
              "          document.querySelector('#df-1a1232b3-8acd-4cbf-9cd2-db67ae9a0a05 button.colab-df-convert');\n",
              "        buttonEl.style.display =\n",
              "          google.colab.kernel.accessAllowed ? 'block' : 'none';\n",
              "\n",
              "        async function convertToInteractive(key) {\n",
              "          const element = document.querySelector('#df-1a1232b3-8acd-4cbf-9cd2-db67ae9a0a05');\n",
              "          const dataTable =\n",
              "            await google.colab.kernel.invokeFunction('convertToInteractive',\n",
              "                                                     [key], {});\n",
              "          if (!dataTable) return;\n",
              "\n",
              "          const docLinkHtml = 'Like what you see? Visit the ' +\n",
              "            '<a target=\"_blank\" href=https://colab.research.google.com/notebooks/data_table.ipynb>data table notebook</a>'\n",
              "            + ' to learn more about interactive tables.';\n",
              "          element.innerHTML = '';\n",
              "          dataTable['output_type'] = 'display_data';\n",
              "          await google.colab.output.renderOutput(dataTable, element);\n",
              "          const docLink = document.createElement('div');\n",
              "          docLink.innerHTML = docLinkHtml;\n",
              "          element.appendChild(docLink);\n",
              "        }\n",
              "      </script>\n",
              "    </div>\n",
              "  </div>\n",
              "  "
            ]
          },
          "metadata": {},
          "execution_count": 205
        }
      ]
    },
    {
      "cell_type": "code",
      "source": [
        "data.info()"
      ],
      "metadata": {
        "colab": {
          "base_uri": "https://localhost:8080/"
        },
        "id": "xjDqvCJO5Lob",
        "outputId": "ce4c1ab4-698d-4d2c-9b65-af7d3459837e"
      },
      "execution_count": null,
      "outputs": [
        {
          "output_type": "stream",
          "name": "stdout",
          "text": [
            "<class 'pandas.core.frame.DataFrame'>\n",
            "RangeIndex: 437 entries, 0 to 436\n",
            "Data columns (total 11 columns):\n",
            " #   Column        Non-Null Count  Dtype  \n",
            "---  ------        --------------  -----  \n",
            " 0   Place_Id      437 non-null    int64  \n",
            " 1   Place_Name    437 non-null    object \n",
            " 2   Description   437 non-null    object \n",
            " 3   Category      437 non-null    object \n",
            " 4   City          437 non-null    object \n",
            " 5   Price         437 non-null    int64  \n",
            " 6   Rating        437 non-null    float64\n",
            " 7   Time_Minutes  205 non-null    float64\n",
            " 8   Coordinate    437 non-null    object \n",
            " 9   Lat           437 non-null    float64\n",
            " 10  Long          437 non-null    float64\n",
            "dtypes: float64(4), int64(2), object(5)\n",
            "memory usage: 37.7+ KB\n"
          ]
        }
      ]
    },
    {
      "cell_type": "code",
      "source": [
        "# Tabel Label\n",
        "y.head(len(y))"
      ],
      "metadata": {
        "colab": {
          "base_uri": "https://localhost:8080/"
        },
        "id": "zVxLEbPl95Nc",
        "outputId": "a5fa0e30-166e-459a-bdd3-4f2d4757a270"
      },
      "execution_count": null,
      "outputs": [
        {
          "output_type": "execute_result",
          "data": {
            "text/plain": [
              "0      4.6\n",
              "1      4.6\n",
              "2      4.6\n",
              "3      4.5\n",
              "4      4.5\n",
              "      ... \n",
              "432    4.4\n",
              "433    4.6\n",
              "434    4.4\n",
              "435    4.6\n",
              "436    4.8\n",
              "Name: Rating, Length: 437, dtype: float64"
            ]
          },
          "metadata": {},
          "execution_count": 207
        }
      ]
    },
    {
      "cell_type": "markdown",
      "source": [
        "# Exploratory Data Analysis (EDA)"
      ],
      "metadata": {
        "id": "YhLugDiw99-3"
      }
    },
    {
      "cell_type": "markdown",
      "source": [
        "### Distribusi rating/label"
      ],
      "metadata": {
        "id": "6DyIC9lMYvsv"
      }
    },
    {
      "cell_type": "code",
      "source": [
        "sns.countplot(x='Rating', data=data)\n",
        "plt.title('Rating pengguna terhadap tempat wisata', pad=20)\n",
        "plt.show()"
      ],
      "metadata": {
        "id": "j-Z_Imye-ERN",
        "colab": {
          "base_uri": "https://localhost:8080/",
          "height": 315
        },
        "outputId": "a599d5f6-9d3b-4e00-bbb0-50c484a6c732"
      },
      "execution_count": null,
      "outputs": [
        {
          "output_type": "display_data",
          "data": {
            "text/plain": [
              "<Figure size 432x288 with 1 Axes>"
            ],
            "image/png": "[encoded data removed]"
          },
          "metadata": {}
        }
      ]
    },
    {
      "cell_type": "markdown",
      "source": [
        "### Informasi mengenai jumlah tempat wisata"
      ],
      "metadata": {
        "id": "kgYL8_ZbY9xC"
      }
    },
    {
      "cell_type": "code",
      "source": [
        "sns.countplot(x='City', data=data)\n",
        "plt.title('Jumlah Tempat Wisata di Tiap Kota', pad=20)\n",
        "plt.show()"
      ],
      "metadata": {
        "colab": {
          "base_uri": "https://localhost:8080/",
          "height": 315
        },
        "id": "BkNUozYEX42D",
        "outputId": "4657e293-7f8e-43e5-8e18-a57343c1905b"
      },
      "execution_count": null,
      "outputs": [
        {
          "output_type": "display_data",
          "data": {
            "text/plain": [
              "<Figure size 432x288 with 1 Axes>"
            ],
            "image/png": "[encoded data removed]"
          },
          "metadata": {}
        }
      ]
    },
    {
      "cell_type": "code",
      "source": [
        "sns.countplot(y='Category', data=data)\n",
        "plt.title('Jumlah Tempat Wisata Berdasarkan Kategori', pad=20)\n",
        "plt.show()"
      ],
      "metadata": {
        "colab": {
          "base_uri": "https://localhost:8080/",
          "height": 315
        },
        "id": "5VYHwj6PcQbr",
        "outputId": "80c1fdfc-1981-4286-caa9-8acca1906e3a"
      },
      "execution_count": null,
      "outputs": [
        {
          "output_type": "display_data",
          "data": {
            "text/plain": [
              "<Figure size 432x288 with 1 Axes>"
            ],
            "image/png": "[encoded data removed]"
          },
          "metadata": {}
        }
      ]
    },
    {
      "cell_type": "markdown",
      "source": [
        "### Heatmap Hubungan antar fitur"
      ],
      "metadata": {
        "id": "Gywy8UmYaH99"
      }
    },
    {
      "cell_type": "code",
      "source": [
        "plt.figure(figsize=(10,10))\n",
        "sns.heatmap(data.corr(),cbar=True,annot=True,cmap='Blues')\n",
        "plt.title('Hubungan Antar Fitur', pad=20)"
      ],
      "metadata": {
        "colab": {
          "base_uri": "https://localhost:8080/",
          "height": 642
        },
        "id": "aqTKZ4QxYsne",
        "outputId": "60e2aa10-57b0-497b-deac-843d7738b4fb"
      },
      "execution_count": null,
      "outputs": [
        {
          "output_type": "execute_result",
          "data": {
            "text/plain": [
              "Text(0.5, 1.0, 'Hubungan Antar Fitur')"
            ]
          },
          "metadata": {},
          "execution_count": 211
        },
        {
          "output_type": "display_data",
          "data": {
            "text/plain": [
              "<Figure size 720x720 with 2 Axes>"
            ],
            "image/png": "[encoded data removed]"
          },
          "metadata": {}
        }
      ]
    },
    {
      "cell_type": "markdown",
      "source": [
        "### Distribusi usia user yang memberikan rating"
      ],
      "metadata": {
        "id": "hDW41TmJaR6j"
      }
    },
    {
      "cell_type": "code",
      "source": [
        "import plotly.express as px\n",
        "fig = px.box(data_frame=user, x=['Age'], title=\"Distribusi Usia User\", width=600, height=400,)\n",
        "fig.show()"
      ],
      "metadata": {
        "colab": {
          "base_uri": "https://localhost:8080/",
          "height": 417
        },
        "id": "5zrd5syuYHW2",
        "outputId": "fbf76014-68ad-4b7c-9a8e-1dad3690d927"
      },
      "execution_count": null,
      "outputs": [
        {
          "output_type": "display_data",
          "data": {
            "text/html": [
              "<html>\n",
              "<head><meta charset=\"utf-8\" /></head>\n",
              "<body>\n",
              "    <div>            <script src=\"https://cdnjs.cloudflare.com/ajax/libs/mathjax/2.7.5/MathJax.js?config=TeX-AMS-MML_SVG\"></script><script type=\"text/javascript\">if (window.MathJax) {MathJax.Hub.Config({SVG: {font: \"STIX-Web\"}});}</script>                <script type=\"text/javascript\">window.PlotlyConfig = {MathJaxConfig: 'local'};</script>\n",
              "        <script src=\"https://cdn.plot.ly/plotly-2.8.3.min.js\"></script>                <div id=\"a3d983e6-567f-4c2d-9dcf-0f7ab38bd867\" class=\"plotly-graph-div\" style=\"height:400px; width:600px;\"></div>            <script type=\"text/javascript\">                                    window.PLOTLYENV=window.PLOTLYENV || {};                                    if (document.getElementById(\"a3d983e6-567f-4c2d-9dcf-0f7ab38bd867\")) {                    Plotly.newPlot(                        \"a3d983e6-567f-4c2d-9dcf-0f7ab38bd867\",                        [{\"alignmentgroup\":\"True\",\"hovertemplate\":\"value=%{x}<br>variable=%{y}<extra></extra>\",\"legendgroup\":\"\",\"marker\":{\"color\":\"#636efa\"},\"name\":\"\",\"notched\":false,\"offsetgroup\":\"\",\"orientation\":\"h\",\"showlegend\":false,\"x\":[20,21,23,21,20,18,39,40,38,39,20,37,18,26,34,40,31,39,26,30,30,25,37,36,40,38,22,38,34,30,26,34,24,31,24,20,21,26,32,27,24,37,33,21,25,38,31,35,24,19,29,18,28,31,19,18,21,21,26,25,23,36,35,38,22,33,25,37,24,21,39,19,29,30,19,19,34,22,31,32,29,24,32,35,31,32,30,27,35,29,32,39,18,34,27,19,38,28,33,28,39,21,30,27,37,32,24,33,18,39,38,18,38,39,26,23,30,32,25,32,35,24,32,22,24,32,38,28,29,27,21,31,29,27,22,35,28,25,33,25,34,29,25,18,37,38,18,33,30,40,36,25,39,31,37,31,28,23,20,36,33,25,40,19,23,26,19,38,18,19,33,34,29,32,36,31,35,33,27,24,29,34,37,30,33,28,25,37,21,18,32,37,20,31,29,28,27,26,18,34,21,21,24,21,24,30,20,27,19,18,22,28,20,30,23,28,20,29,24,23,30,30,20,28,19,23,25,18,20,20,28,30,23,27,18,23,20,30,23,22,20,20,20,27,27,28,28,29,19,27,29,30,34,34,30,39,25,38,27,33,38,38,27,37,30,32,31,32,36,25,37,30,33,38,34,39,29,40,28,40,30,39,37,29,29,35,27,30,35,34,25,29,34,28,31,31,39,38,27,26],\"x0\":\" \",\"xaxis\":\"x\",\"y\":[\"Age\",\"Age\",\"Age\",\"Age\",\"Age\",\"Age\",\"Age\",\"Age\",\"Age\",\"Age\",\"Age\",\"Age\",\"Age\",\"Age\",\"Age\",\"Age\",\"Age\",\"Age\",\"Age\",\"Age\",\"Age\",\"Age\",\"Age\",\"Age\",\"Age\",\"Age\",\"Age\",\"Age\",\"Age\",\"Age\",\"Age\",\"Age\",\"Age\",\"Age\",\"Age\",\"Age\",\"Age\",\"Age\",\"Age\",\"Age\",\"Age\",\"Age\",\"Age\",\"Age\",\"Age\",\"Age\",\"Age\",\"Age\",\"Age\",\"Age\",\"Age\",\"Age\",\"Age\",\"Age\",\"Age\",\"Age\",\"Age\",\"Age\",\"Age\",\"Age\",\"Age\",\"Age\",\"Age\",\"Age\",\"Age\",\"Age\",\"Age\",\"Age\",\"Age\",\"Age\",\"Age\",\"Age\",\"Age\",\"Age\",\"Age\",\"Age\",\"Age\",\"Age\",\"Age\",\"Age\",\"Age\",\"Age\",\"Age\",\"Age\",\"Age\",\"Age\",\"Age\",\"Age\",\"Age\",\"Age\",\"Age\",\"Age\",\"Age\",\"Age\",\"Age\",\"Age\",\"Age\",\"Age\",\"Age\",\"Age\",\"Age\",\"Age\",\"Age\",\"Age\",\"Age\",\"Age\",\"Age\",\"Age\",\"Age\",\"Age\",\"Age\",\"Age\",\"Age\",\"Age\",\"Age\",\"Age\",\"Age\",\"Age\",\"Age\",\"Age\",\"Age\",\"Age\",\"Age\",\"Age\",\"Age\",\"Age\",\"Age\",\"Age\",\"Age\",\"Age\",\"Age\",\"Age\",\"Age\",\"Age\",\"Age\",\"Age\",\"Age\",\"Age\",\"Age\",\"Age\",\"Age\",\"Age\",\"Age\",\"Age\",\"Age\",\"Age\",\"Age\",\"Age\",\"Age\",\"Age\",\"Age\",\"Age\",\"Age\",\"Age\",\"Age\",\"Age\",\"Age\",\"Age\",\"Age\",\"Age\",\"Age\",\"Age\",\"Age\",\"Age\",\"Age\",\"Age\",\"Age\",\"Age\",\"Age\",\"Age\",\"Age\",\"Age\",\"Age\",\"Age\",\"Age\",\"Age\",\"Age\",\"Age\",\"Age\",\"Age\",\"Age\",\"Age\",\"Age\",\"Age\",\"Age\",\"Age\",\"Age\",\"Age\",\"Age\",\"Age\",\"Age\",\"Age\",\"Age\",\"Age\",\"Age\",\"Age\",\"Age\",\"Age\",\"Age\",\"Age\",\"Age\",\"Age\",\"Age\",\"Age\",\"Age\",\"Age\",\"Age\",\"Age\",\"Age\",\"Age\",\"Age\",\"Age\",\"Age\",\"Age\",\"Age\",\"Age\",\"Age\",\"Age\",\"Age\",\"Age\",\"Age\",\"Age\",\"Age\",\"Age\",\"Age\",\"Age\",\"Age\",\"Age\",\"Age\",\"Age\",\"Age\",\"Age\",\"Age\",\"Age\",\"Age\",\"Age\",\"Age\",\"Age\",\"Age\",\"Age\",\"Age\",\"Age\",\"Age\",\"Age\",\"Age\",\"Age\",\"Age\",\"Age\",\"Age\",\"Age\",\"Age\",\"Age\",\"Age\",\"Age\",\"Age\",\"Age\",\"Age\",\"Age\",\"Age\",\"Age\",\"Age\",\"Age\",\"Age\",\"Age\",\"Age\",\"Age\",\"Age\",\"Age\",\"Age\",\"Age\",\"Age\",\"Age\",\"Age\",\"Age\",\"Age\",\"Age\",\"Age\",\"Age\",\"Age\",\"Age\",\"Age\",\"Age\",\"Age\",\"Age\",\"Age\",\"Age\",\"Age\",\"Age\",\"Age\",\"Age\",\"Age\",\"Age\",\"Age\",\"Age\",\"Age\",\"Age\",\"Age\",\"Age\",\"Age\",\"Age\"],\"y0\":\" \",\"yaxis\":\"y\",\"type\":\"box\"}],                        {\"template\":{\"data\":{\"bar\":[{\"error_x\":{\"color\":\"#2a3f5f\"},\"error_y\":{\"color\":\"#2a3f5f\"},\"marker\":{\"line\":{\"color\":\"#E5ECF6\",\"width\":0.5},\"pattern\":{\"fillmode\":\"overlay\",\"size\":10,\"solidity\":0.2}},\"type\":\"bar\"}],\"barpolar\":[{\"marker\":{\"line\":{\"color\":\"#E5ECF6\",\"width\":0.5},\"pattern\":{\"fillmode\":\"overlay\",\"size\":10,\"solidity\":0.2}},\"type\":\"barpolar\"}],\"carpet\":[{\"aaxis\":{\"endlinecolor\":\"#2a3f5f\",\"gridcolor\":\"white\",\"linecolor\":\"white\",\"minorgridcolor\":\"white\",\"startlinecolor\":\"#2a3f5f\"},\"baxis\":{\"endlinecolor\":\"#2a3f5f\",\"gridcolor\":\"white\",\"linecolor\":\"white\",\"minorgridcolor\":\"white\",\"startlinecolor\":\"#2a3f5f\"},\"type\":\"carpet\"}],\"choropleth\":[{\"colorbar\":{\"outlinewidth\":0,\"ticks\":\"\"},\"type\":\"choropleth\"}],\"contour\":[{\"colorbar\":{\"outlinewidth\":0,\"ticks\":\"\"},\"colorscale\":[[0.0,\"#0d0887\"],[0.1111111111111111,\"#46039f\"],[0.2222222222222222,\"#7201a8\"],[0.3333333333333333,\"#9c179e\"],[0.4444444444444444,\"#bd3786\"],[0.5555555555555556,\"#d8576b\"],[0.6666666666666666,\"#ed7953\"],[0.7777777777777778,\"#fb9f3a\"],[0.8888888888888888,\"#fdca26\"],[1.0,\"#f0f921\"]],\"type\":\"contour\"}],\"contourcarpet\":[{\"colorbar\":{\"outlinewidth\":0,\"ticks\":\"\"},\"type\":\"contourcarpet\"}],\"heatmap\":[{\"colorbar\":{\"outlinewidth\":0,\"ticks\":\"\"},\"colorscale\":[[0.0,\"#0d0887\"],[0.1111111111111111,\"#46039f\"],[0.2222222222222222,\"#7201a8\"],[0.3333333333333333,\"#9c179e\"],[0.4444444444444444,\"#bd3786\"],[0.5555555555555556,\"#d8576b\"],[0.6666666666666666,\"#ed7953\"],[0.7777777777777778,\"#fb9f3a\"],[0.8888888888888888,\"#fdca26\"],[1.0,\"#f0f921\"]],\"type\":\"heatmap\"}],\"heatmapgl\":[{\"colorbar\":{\"outlinewidth\":0,\"ticks\":\"\"},\"colorscale\":[[0.0,\"#0d0887\"],[0.1111111111111111,\"#46039f\"],[0.2222222222222222,\"#7201a8\"],[0.3333333333333333,\"#9c179e\"],[0.4444444444444444,\"#bd3786\"],[0.5555555555555556,\"#d8576b\"],[0.6666666666666666,\"#ed7953\"],[0.7777777777777778,\"#fb9f3a\"],[0.8888888888888888,\"#fdca26\"],[1.0,\"#f0f921\"]],\"type\":\"heatmapgl\"}],\"histogram\":[{\"marker\":{\"pattern\":{\"fillmode\":\"overlay\",\"size\":10,\"solidity\":0.2}},\"type\":\"histogram\"}],\"histogram2d\":[{\"colorbar\":{\"outlinewidth\":0,\"ticks\":\"\"},\"colorscale\":[[0.0,\"#0d0887\"],[0.1111111111111111,\"#46039f\"],[0.2222222222222222,\"#7201a8\"],[0.3333333333333333,\"#9c179e\"],[0.4444444444444444,\"#bd3786\"],[0.5555555555555556,\"#d8576b\"],[0.6666666666666666,\"#ed7953\"],[0.7777777777777778,\"#fb9f3a\"],[0.8888888888888888,\"#fdca26\"],[1.0,\"#f0f921\"]],\"type\":\"histogram2d\"}],\"histogram2dcontour\":[{\"colorbar\":{\"outlinewidth\":0,\"ticks\":\"\"},\"colorscale\":[[0.0,\"#0d0887\"],[0.1111111111111111,\"#46039f\"],[0.2222222222222222,\"#7201a8\"],[0.3333333333333333,\"#9c179e\"],[0.4444444444444444,\"#bd3786\"],[0.5555555555555556,\"#d8576b\"],[0.6666666666666666,\"#ed7953\"],[0.7777777777777778,\"#fb9f3a\"],[0.8888888888888888,\"#fdca26\"],[1.0,\"#f0f921\"]],\"type\":\"histogram2dcontour\"}],\"mesh3d\":[{\"colorbar\":{\"outlinewidth\":0,\"ticks\":\"\"},\"type\":\"mesh3d\"}],\"parcoords\":[{\"line\":{\"colorbar\":{\"outlinewidth\":0,\"ticks\":\"\"}},\"type\":\"parcoords\"}],\"pie\":[{\"automargin\":true,\"type\":\"pie\"}],\"scatter\":[{\"marker\":{\"colorbar\":{\"outlinewidth\":0,\"ticks\":\"\"}},\"type\":\"scatter\"}],\"scatter3d\":[{\"line\":{\"colorbar\":{\"outlinewidth\":0,\"ticks\":\"\"}},\"marker\":{\"colorbar\":{\"outlinewidth\":0,\"ticks\":\"\"}},\"type\":\"scatter3d\"}],\"scattercarpet\":[{\"marker\":{\"colorbar\":{\"outlinewidth\":0,\"ticks\":\"\"}},\"type\":\"scattercarpet\"}],\"scattergeo\":[{\"marker\":{\"colorbar\":{\"outlinewidth\":0,\"ticks\":\"\"}},\"type\":\"scattergeo\"}],\"scattergl\":[{\"marker\":{\"colorbar\":{\"outlinewidth\":0,\"ticks\":\"\"}},\"type\":\"scattergl\"}],\"scattermapbox\":[{\"marker\":{\"colorbar\":{\"outlinewidth\":0,\"ticks\":\"\"}},\"type\":\"scattermapbox\"}],\"scatterpolar\":[{\"marker\":{\"colorbar\":{\"outlinewidth\":0,\"ticks\":\"\"}},\"type\":\"scatterpolar\"}],\"scatterpolargl\":[{\"marker\":{\"colorbar\":{\"outlinewidth\":0,\"ticks\":\"\"}},\"type\":\"scatterpolargl\"}],\"scatterternary\":[{\"marker\":{\"colorbar\":{\"outlinewidth\":0,\"ticks\":\"\"}},\"type\":\"scatterternary\"}],\"surface\":[{\"colorbar\":{\"outlinewidth\":0,\"ticks\":\"\"},\"colorscale\":[[0.0,\"#0d0887\"],[0.1111111111111111,\"#46039f\"],[0.2222222222222222,\"#7201a8\"],[0.3333333333333333,\"#9c179e\"],[0.4444444444444444,\"#bd3786\"],[0.5555555555555556,\"#d8576b\"],[0.6666666666666666,\"#ed7953\"],[0.7777777777777778,\"#fb9f3a\"],[0.8888888888888888,\"#fdca26\"],[1.0,\"#f0f921\"]],\"type\":\"surface\"}],\"table\":[{\"cells\":{\"fill\":{\"color\":\"#EBF0F8\"},\"line\":{\"color\":\"white\"}},\"header\":{\"fill\":{\"color\":\"#C8D4E3\"},\"line\":{\"color\":\"white\"}},\"type\":\"table\"}]},\"layout\":{\"annotationdefaults\":{\"arrowcolor\":\"#2a3f5f\",\"arrowhead\":0,\"arrowwidth\":1},\"autotypenumbers\":\"strict\",\"coloraxis\":{\"colorbar\":{\"outlinewidth\":0,\"ticks\":\"\"}},\"colorscale\":{\"diverging\":[[0,\"#8e0152\"],[0.1,\"#c51b7d\"],[0.2,\"#de77ae\"],[0.3,\"#f1b6da\"],[0.4,\"#fde0ef\"],[0.5,\"#f7f7f7\"],[0.6,\"#e6f5d0\"],[0.7,\"#b8e186\"],[0.8,\"#7fbc41\"],[0.9,\"#4d9221\"],[1,\"#276419\"]],\"sequential\":[[0.0,\"#0d0887\"],[0.1111111111111111,\"#46039f\"],[0.2222222222222222,\"#7201a8\"],[0.3333333333333333,\"#9c179e\"],[0.4444444444444444,\"#bd3786\"],[0.5555555555555556,\"#d8576b\"],[0.6666666666666666,\"#ed7953\"],[0.7777777777777778,\"#fb9f3a\"],[0.8888888888888888,\"#fdca26\"],[1.0,\"#f0f921\"]],\"sequentialminus\":[[0.0,\"#0d0887\"],[0.1111111111111111,\"#46039f\"],[0.2222222222222222,\"#7201a8\"],[0.3333333333333333,\"#9c179e\"],[0.4444444444444444,\"#bd3786\"],[0.5555555555555556,\"#d8576b\"],[0.6666666666666666,\"#ed7953\"],[0.7777777777777778,\"#fb9f3a\"],[0.8888888888888888,\"#fdca26\"],[1.0,\"#f0f921\"]]},\"colorway\":[\"#636efa\",\"#EF553B\",\"#00cc96\",\"#ab63fa\",\"#FFA15A\",\"#19d3f3\",\"#FF6692\",\"#B6E880\",\"#FF97FF\",\"#FECB52\"],\"font\":{\"color\":\"#2a3f5f\"},\"geo\":{\"bgcolor\":\"white\",\"lakecolor\":\"white\",\"landcolor\":\"#E5ECF6\",\"showlakes\":true,\"showland\":true,\"subunitcolor\":\"white\"},\"hoverlabel\":{\"align\":\"left\"},\"hovermode\":\"closest\",\"mapbox\":{\"style\":\"light\"},\"paper_bgcolor\":\"white\",\"plot_bgcolor\":\"#E5ECF6\",\"polar\":{\"angularaxis\":{\"gridcolor\":\"white\",\"linecolor\":\"white\",\"ticks\":\"\"},\"bgcolor\":\"#E5ECF6\",\"radialaxis\":{\"gridcolor\":\"white\",\"linecolor\":\"white\",\"ticks\":\"\"}},\"scene\":{\"xaxis\":{\"backgroundcolor\":\"#E5ECF6\",\"gridcolor\":\"white\",\"gridwidth\":2,\"linecolor\":\"white\",\"showbackground\":true,\"ticks\":\"\",\"zerolinecolor\":\"white\"},\"yaxis\":{\"backgroundcolor\":\"#E5ECF6\",\"gridcolor\":\"white\",\"gridwidth\":2,\"linecolor\":\"white\",\"showbackground\":true,\"ticks\":\"\",\"zerolinecolor\":\"white\"},\"zaxis\":{\"backgroundcolor\":\"#E5ECF6\",\"gridcolor\":\"white\",\"gridwidth\":2,\"linecolor\":\"white\",\"showbackground\":true,\"ticks\":\"\",\"zerolinecolor\":\"white\"}},\"shapedefaults\":{\"line\":{\"color\":\"#2a3f5f\"}},\"ternary\":{\"aaxis\":{\"gridcolor\":\"white\",\"linecolor\":\"white\",\"ticks\":\"\"},\"baxis\":{\"gridcolor\":\"white\",\"linecolor\":\"white\",\"ticks\":\"\"},\"bgcolor\":\"#E5ECF6\",\"caxis\":{\"gridcolor\":\"white\",\"linecolor\":\"white\",\"ticks\":\"\"}},\"title\":{\"x\":0.05},\"xaxis\":{\"automargin\":true,\"gridcolor\":\"white\",\"linecolor\":\"white\",\"ticks\":\"\",\"title\":{\"standoff\":15},\"zerolinecolor\":\"white\",\"zerolinewidth\":2},\"yaxis\":{\"automargin\":true,\"gridcolor\":\"white\",\"linecolor\":\"white\",\"ticks\":\"\",\"title\":{\"standoff\":15},\"zerolinecolor\":\"white\",\"zerolinewidth\":2}}},\"xaxis\":{\"anchor\":\"y\",\"domain\":[0.0,1.0],\"title\":{\"text\":\"value\"}},\"yaxis\":{\"anchor\":\"x\",\"domain\":[0.0,1.0],\"title\":{\"text\":\"variable\"}},\"legend\":{\"tracegroupgap\":0},\"title\":{\"text\":\"Distribusi Usia User\"},\"boxmode\":\"group\",\"height\":400,\"width\":600},                        {\"responsive\": true}                    ).then(function(){\n",
              "                            \n",
              "var gd = document.getElementById('a3d983e6-567f-4c2d-9dcf-0f7ab38bd867');\n",
              "var x = new MutationObserver(function (mutations, observer) {{\n",
              "        var display = window.getComputedStyle(gd).display;\n",
              "        if (!display || display === 'none') {{\n",
              "            console.log([gd, 'removed!']);\n",
              "            Plotly.purge(gd);\n",
              "            observer.disconnect();\n",
              "        }}\n",
              "}});\n",
              "\n",
              "// Listen for the removal of the full notebook cells\n",
              "var notebookContainer = gd.closest('#notebook-container');\n",
              "if (notebookContainer) {{\n",
              "    x.observe(notebookContainer, {childList: true});\n",
              "}}\n",
              "\n",
              "// Listen for the clearing of the current output cell\n",
              "var outputEl = gd.closest('.output');\n",
              "if (outputEl) {{\n",
              "    x.observe(outputEl, {childList: true});\n",
              "}}\n",
              "\n",
              "                        })                };                            </script>        </div>\n",
              "</body>\n",
              "</html>"
            ]
          },
          "metadata": {}
        }
      ]
    },
    {
      "cell_type": "markdown",
      "source": [
        "### Distribusi Fitur"
      ],
      "metadata": {
        "id": "am_bvvEZaX_V"
      }
    },
    {
      "cell_type": "code",
      "source": [
        "import plotly.express as px\n",
        "px.box(data_frame=data, x=['Price'], title=\"Distribusi Harga Masuk Tempat Wisata\", width=600, height=400,)"
      ],
      "metadata": {
        "colab": {
          "base_uri": "https://localhost:8080/",
          "height": 417
        },
        "id": "73oO2jIQYJJF",
        "outputId": "9caeeaf8-86ee-47bd-806e-2894c53b56df"
      },
      "execution_count": null,
      "outputs": [
        {
          "output_type": "display_data",
          "data": {
            "text/html": [
              "<html>\n",
              "<head><meta charset=\"utf-8\" /></head>\n",
              "<body>\n",
              "    <div>            <script src=\"https://cdnjs.cloudflare.com/ajax/libs/mathjax/2.7.5/MathJax.js?config=TeX-AMS-MML_SVG\"></script><script type=\"text/javascript\">if (window.MathJax) {MathJax.Hub.Config({SVG: {font: \"STIX-Web\"}});}</script>                <script type=\"text/javascript\">window.PlotlyConfig = {MathJaxConfig: 'local'};</script>\n",
              "        <script src=\"https://cdn.plot.ly/plotly-2.8.3.min.js\"></script>                <div id=\"ed081435-70fa-4c3f-9d34-a6839a9c3d7a\" class=\"plotly-graph-div\" style=\"height:400px; width:600px;\"></div>            <script type=\"text/javascript\">                                    window.PLOTLYENV=window.PLOTLYENV || {};                                    if (document.getElementById(\"ed081435-70fa-4c3f-9d34-a6839a9c3d7a\")) {                    Plotly.newPlot(                        \"ed081435-70fa-4c3f-9d34-a6839a9c3d7a\",                        [{\"alignmentgroup\":\"True\",\"hovertemplate\":\"value=%{x}<br>variable=%{y}<extra></extra>\",\"legendgroup\":\"\",\"marker\":{\"color\":\"#636efa\"},\"name\":\"\",\"notched\":false,\"offsetgroup\":\"\",\"orientation\":\"h\",\"showlegend\":false,\"x\":[20000,0,270000,10000,94000,25000,4000,180000,175000,150000,5000,150000,5000,900000,0,0,5000,2000,185000,2000,5000,0,0,5000,0,0,115000,35000,0,0,25000,0,0,0,0,110000,10000,0,100000,0,2000,5000,70000,0,185000,40000,0,5000,0,2000,12000,15000,5000,0,0,25000,0,0,2000,5000,0,30000,2000,2000,1000,10000,25000,0,0,0,50000,300000,5000,0,180000,20000,0,1000,0,0,0,5000,200000,0,6000,15000,20000,3000,50000,5000,0,0,60000,7000,0,0,15000,15000,0,0,0,40000,0,20000,0,0,5000,0,3000,3000,3000,25000,0,30000,15000,2500,22000,5000,5000,250000,50000,2500,0,0,0,4000,10000,0,2000,10000,5000,20000,5000,10000,0,10000,20000,20000,10000,0,3000,0,2000,500000,5000,10000,0,5000,3000,7000,0,5000,10000,10000,5000,10000,10000,10000,2500,0,5000,220000,2500,2500,2000,6000,0,10000,5000,50000,5000,10000,10000,0,100000,10000,10000,40000,75000,10000,5000,5000,150000,10000,10000,5000,10000,10000,10000,4000,10000,15000,50000,5000,5000,3000,5000,5000,5000,5000,5000,10000,40000,0,50000,8000,15000,10000,10000,3000,30000,0,5000,280000,15000,30000,20000,81000,15000,25000,2000,0,0,40000,50000,20000,0,3000,45000,30000,50000,25000,30000,75000,15000,0,75000,7500,50000,7000,0,12000,15000,10000,20000,10000,15000,50000,100000,50000,0,15000,25000,0,15000,10000,0,5000,0,0,10000,50000,5000,0,0,0,50000,50000,7500,25000,0,0,7500,0,20000,10000,15000,0,0,0,60000,7500,0,0,0,0,25000,0,10000,5000,50000,0,0,0,0,70000,375000,0,10000,10000,50000,0,0,2500,10000,150000,5000,15000,25000,0,25000,11000,10000,0,5000,10000,15000,20000,5000,23000,30000,0,0,15000,75000,10000,15000,10000,0,40000,175000,20000,20000,50000,10000,15000,3000,10000,35000,0,3000,3000,3000,3000,10000,0,0,20000,5000,5000,50000,0,0,10000,75000,150000,10000,0,25000,5000,10000,15000,5000,80000,2500,20000,7000,3000,7500,5000,25000,2000,10000,6000,0,30000,35000,0,5000,0,0,200000,0,0,0,9000,5500,25000,0,5000,7500,0,0,35000,0,15000,0,0,0,0,0,0,0,35000,50000,0,0,15000,0,95000,0,0,2000,0,5000,0,10000,5000,0,0,10000,0,0,15000,35000,0,0,0,0,125000,5000,0,2000,0,0,0,10000],\"x0\":\" \",\"xaxis\":\"x\",\"y\":[\"Price\",\"Price\",\"Price\",\"Price\",\"Price\",\"Price\",\"Price\",\"Price\",\"Price\",\"Price\",\"Price\",\"Price\",\"Price\",\"Price\",\"Price\",\"Price\",\"Price\",\"Price\",\"Price\",\"Price\",\"Price\",\"Price\",\"Price\",\"Price\",\"Price\",\"Price\",\"Price\",\"Price\",\"Price\",\"Price\",\"Price\",\"Price\",\"Price\",\"Price\",\"Price\",\"Price\",\"Price\",\"Price\",\"Price\",\"Price\",\"Price\",\"Price\",\"Price\",\"Price\",\"Price\",\"Price\",\"Price\",\"Price\",\"Price\",\"Price\",\"Price\",\"Price\",\"Price\",\"Price\",\"Price\",\"Price\",\"Price\",\"Price\",\"Price\",\"Price\",\"Price\",\"Price\",\"Price\",\"Price\",\"Price\",\"Price\",\"Price\",\"Price\",\"Price\",\"Price\",\"Price\",\"Price\",\"Price\",\"Price\",\"Price\",\"Price\",\"Price\",\"Price\",\"Price\",\"Price\",\"Price\",\"Price\",\"Price\",\"Price\",\"Price\",\"Price\",\"Price\",\"Price\",\"Price\",\"Price\",\"Price\",\"Price\",\"Price\",\"Price\",\"Price\",\"Price\",\"Price\",\"Price\",\"Price\",\"Price\",\"Price\",\"Price\",\"Price\",\"Price\",\"Price\",\"Price\",\"Price\",\"Price\",\"Price\",\"Price\",\"Price\",\"Price\",\"Price\",\"Price\",\"Price\",\"Price\",\"Price\",\"Price\",\"Price\",\"Price\",\"Price\",\"Price\",\"Price\",\"Price\",\"Price\",\"Price\",\"Price\",\"Price\",\"Price\",\"Price\",\"Price\",\"Price\",\"Price\",\"Price\",\"Price\",\"Price\",\"Price\",\"Price\",\"Price\",\"Price\",\"Price\",\"Price\",\"Price\",\"Price\",\"Price\",\"Price\",\"Price\",\"Price\",\"Price\",\"Price\",\"Price\",\"Price\",\"Price\",\"Price\",\"Price\",\"Price\",\"Price\",\"Price\",\"Price\",\"Price\",\"Price\",\"Price\",\"Price\",\"Price\",\"Price\",\"Price\",\"Price\",\"Price\",\"Price\",\"Price\",\"Price\",\"Price\",\"Price\",\"Price\",\"Price\",\"Price\",\"Price\",\"Price\",\"Price\",\"Price\",\"Price\",\"Price\",\"Price\",\"Price\",\"Price\",\"Price\",\"Price\",\"Price\",\"Price\",\"Price\",\"Price\",\"Price\",\"Price\",\"Price\",\"Price\",\"Price\",\"Price\",\"Price\",\"Price\",\"Price\",\"Price\",\"Price\",\"Price\",\"Price\",\"Price\",\"Price\",\"Price\",\"Price\",\"Price\",\"Price\",\"Price\",\"Price\",\"Price\",\"Price\",\"Price\",\"Price\",\"Price\",\"Price\",\"Price\",\"Price\",\"Price\",\"Price\",\"Price\",\"Price\",\"Price\",\"Price\",\"Price\",\"Price\",\"Price\",\"Price\",\"Price\",\"Price\",\"Price\",\"Price\",\"Price\",\"Price\",\"Price\",\"Price\",\"Price\",\"Price\",\"Price\",\"Price\",\"Price\",\"Price\",\"Price\",\"Price\",\"Price\",\"Price\",\"Price\",\"Price\",\"Price\",\"Price\",\"Price\",\"Price\",\"Price\",\"Price\",\"Price\",\"Price\",\"Price\",\"Price\",\"Price\",\"Price\",\"Price\",\"Price\",\"Price\",\"Price\",\"Price\",\"Price\",\"Price\",\"Price\",\"Price\",\"Price\",\"Price\",\"Price\",\"Price\",\"Price\",\"Price\",\"Price\",\"Price\",\"Price\",\"Price\",\"Price\",\"Price\",\"Price\",\"Price\",\"Price\",\"Price\",\"Price\",\"Price\",\"Price\",\"Price\",\"Price\",\"Price\",\"Price\",\"Price\",\"Price\",\"Price\",\"Price\",\"Price\",\"Price\",\"Price\",\"Price\",\"Price\",\"Price\",\"Price\",\"Price\",\"Price\",\"Price\",\"Price\",\"Price\",\"Price\",\"Price\",\"Price\",\"Price\",\"Price\",\"Price\",\"Price\",\"Price\",\"Price\",\"Price\",\"Price\",\"Price\",\"Price\",\"Price\",\"Price\",\"Price\",\"Price\",\"Price\",\"Price\",\"Price\",\"Price\",\"Price\",\"Price\",\"Price\",\"Price\",\"Price\",\"Price\",\"Price\",\"Price\",\"Price\",\"Price\",\"Price\",\"Price\",\"Price\",\"Price\",\"Price\",\"Price\",\"Price\",\"Price\",\"Price\",\"Price\",\"Price\",\"Price\",\"Price\",\"Price\",\"Price\",\"Price\",\"Price\",\"Price\",\"Price\",\"Price\",\"Price\",\"Price\",\"Price\",\"Price\",\"Price\",\"Price\",\"Price\",\"Price\",\"Price\",\"Price\",\"Price\",\"Price\",\"Price\",\"Price\",\"Price\",\"Price\",\"Price\",\"Price\",\"Price\",\"Price\",\"Price\",\"Price\",\"Price\",\"Price\",\"Price\",\"Price\",\"Price\",\"Price\",\"Price\",\"Price\",\"Price\",\"Price\",\"Price\",\"Price\",\"Price\",\"Price\",\"Price\",\"Price\",\"Price\",\"Price\",\"Price\",\"Price\",\"Price\",\"Price\",\"Price\",\"Price\",\"Price\",\"Price\",\"Price\",\"Price\",\"Price\",\"Price\",\"Price\",\"Price\",\"Price\",\"Price\",\"Price\",\"Price\",\"Price\",\"Price\",\"Price\",\"Price\",\"Price\",\"Price\",\"Price\",\"Price\",\"Price\",\"Price\",\"Price\",\"Price\",\"Price\",\"Price\",\"Price\",\"Price\",\"Price\",\"Price\"],\"y0\":\" \",\"yaxis\":\"y\",\"type\":\"box\"}],                        {\"template\":{\"data\":{\"bar\":[{\"error_x\":{\"color\":\"#2a3f5f\"},\"error_y\":{\"color\":\"#2a3f5f\"},\"marker\":{\"line\":{\"color\":\"#E5ECF6\",\"width\":0.5},\"pattern\":{\"fillmode\":\"overlay\",\"size\":10,\"solidity\":0.2}},\"type\":\"bar\"}],\"barpolar\":[{\"marker\":{\"line\":{\"color\":\"#E5ECF6\",\"width\":0.5},\"pattern\":{\"fillmode\":\"overlay\",\"size\":10,\"solidity\":0.2}},\"type\":\"barpolar\"}],\"carpet\":[{\"aaxis\":{\"endlinecolor\":\"#2a3f5f\",\"gridcolor\":\"white\",\"linecolor\":\"white\",\"minorgridcolor\":\"white\",\"startlinecolor\":\"#2a3f5f\"},\"baxis\":{\"endlinecolor\":\"#2a3f5f\",\"gridcolor\":\"white\",\"linecolor\":\"white\",\"minorgridcolor\":\"white\",\"startlinecolor\":\"#2a3f5f\"},\"type\":\"carpet\"}],\"choropleth\":[{\"colorbar\":{\"outlinewidth\":0,\"ticks\":\"\"},\"type\":\"choropleth\"}],\"contour\":[{\"colorbar\":{\"outlinewidth\":0,\"ticks\":\"\"},\"colorscale\":[[0.0,\"#0d0887\"],[0.1111111111111111,\"#46039f\"],[0.2222222222222222,\"#7201a8\"],[0.3333333333333333,\"#9c179e\"],[0.4444444444444444,\"#bd3786\"],[0.5555555555555556,\"#d8576b\"],[0.6666666666666666,\"#ed7953\"],[0.7777777777777778,\"#fb9f3a\"],[0.8888888888888888,\"#fdca26\"],[1.0,\"#f0f921\"]],\"type\":\"contour\"}],\"contourcarpet\":[{\"colorbar\":{\"outlinewidth\":0,\"ticks\":\"\"},\"type\":\"contourcarpet\"}],\"heatmap\":[{\"colorbar\":{\"outlinewidth\":0,\"ticks\":\"\"},\"colorscale\":[[0.0,\"#0d0887\"],[0.1111111111111111,\"#46039f\"],[0.2222222222222222,\"#7201a8\"],[0.3333333333333333,\"#9c179e\"],[0.4444444444444444,\"#bd3786\"],[0.5555555555555556,\"#d8576b\"],[0.6666666666666666,\"#ed7953\"],[0.7777777777777778,\"#fb9f3a\"],[0.8888888888888888,\"#fdca26\"],[1.0,\"#f0f921\"]],\"type\":\"heatmap\"}],\"heatmapgl\":[{\"colorbar\":{\"outlinewidth\":0,\"ticks\":\"\"},\"colorscale\":[[0.0,\"#0d0887\"],[0.1111111111111111,\"#46039f\"],[0.2222222222222222,\"#7201a8\"],[0.3333333333333333,\"#9c179e\"],[0.4444444444444444,\"#bd3786\"],[0.5555555555555556,\"#d8576b\"],[0.6666666666666666,\"#ed7953\"],[0.7777777777777778,\"#fb9f3a\"],[0.8888888888888888,\"#fdca26\"],[1.0,\"#f0f921\"]],\"type\":\"heatmapgl\"}],\"histogram\":[{\"marker\":{\"pattern\":{\"fillmode\":\"overlay\",\"size\":10,\"solidity\":0.2}},\"type\":\"histogram\"}],\"histogram2d\":[{\"colorbar\":{\"outlinewidth\":0,\"ticks\":\"\"},\"colorscale\":[[0.0,\"#0d0887\"],[0.1111111111111111,\"#46039f\"],[0.2222222222222222,\"#7201a8\"],[0.3333333333333333,\"#9c179e\"],[0.4444444444444444,\"#bd3786\"],[0.5555555555555556,\"#d8576b\"],[0.6666666666666666,\"#ed7953\"],[0.7777777777777778,\"#fb9f3a\"],[0.8888888888888888,\"#fdca26\"],[1.0,\"#f0f921\"]],\"type\":\"histogram2d\"}],\"histogram2dcontour\":[{\"colorbar\":{\"outlinewidth\":0,\"ticks\":\"\"},\"colorscale\":[[0.0,\"#0d0887\"],[0.1111111111111111,\"#46039f\"],[0.2222222222222222,\"#7201a8\"],[0.3333333333333333,\"#9c179e\"],[0.4444444444444444,\"#bd3786\"],[0.5555555555555556,\"#d8576b\"],[0.6666666666666666,\"#ed7953\"],[0.7777777777777778,\"#fb9f3a\"],[0.8888888888888888,\"#fdca26\"],[1.0,\"#f0f921\"]],\"type\":\"histogram2dcontour\"}],\"mesh3d\":[{\"colorbar\":{\"outlinewidth\":0,\"ticks\":\"\"},\"type\":\"mesh3d\"}],\"parcoords\":[{\"line\":{\"colorbar\":{\"outlinewidth\":0,\"ticks\":\"\"}},\"type\":\"parcoords\"}],\"pie\":[{\"automargin\":true,\"type\":\"pie\"}],\"scatter\":[{\"marker\":{\"colorbar\":{\"outlinewidth\":0,\"ticks\":\"\"}},\"type\":\"scatter\"}],\"scatter3d\":[{\"line\":{\"colorbar\":{\"outlinewidth\":0,\"ticks\":\"\"}},\"marker\":{\"colorbar\":{\"outlinewidth\":0,\"ticks\":\"\"}},\"type\":\"scatter3d\"}],\"scattercarpet\":[{\"marker\":{\"colorbar\":{\"outlinewidth\":0,\"ticks\":\"\"}},\"type\":\"scattercarpet\"}],\"scattergeo\":[{\"marker\":{\"colorbar\":{\"outlinewidth\":0,\"ticks\":\"\"}},\"type\":\"scattergeo\"}],\"scattergl\":[{\"marker\":{\"colorbar\":{\"outlinewidth\":0,\"ticks\":\"\"}},\"type\":\"scattergl\"}],\"scattermapbox\":[{\"marker\":{\"colorbar\":{\"outlinewidth\":0,\"ticks\":\"\"}},\"type\":\"scattermapbox\"}],\"scatterpolar\":[{\"marker\":{\"colorbar\":{\"outlinewidth\":0,\"ticks\":\"\"}},\"type\":\"scatterpolar\"}],\"scatterpolargl\":[{\"marker\":{\"colorbar\":{\"outlinewidth\":0,\"ticks\":\"\"}},\"type\":\"scatterpolargl\"}],\"scatterternary\":[{\"marker\":{\"colorbar\":{\"outlinewidth\":0,\"ticks\":\"\"}},\"type\":\"scatterternary\"}],\"surface\":[{\"colorbar\":{\"outlinewidth\":0,\"ticks\":\"\"},\"colorscale\":[[0.0,\"#0d0887\"],[0.1111111111111111,\"#46039f\"],[0.2222222222222222,\"#7201a8\"],[0.3333333333333333,\"#9c179e\"],[0.4444444444444444,\"#bd3786\"],[0.5555555555555556,\"#d8576b\"],[0.6666666666666666,\"#ed7953\"],[0.7777777777777778,\"#fb9f3a\"],[0.8888888888888888,\"#fdca26\"],[1.0,\"#f0f921\"]],\"type\":\"surface\"}],\"table\":[{\"cells\":{\"fill\":{\"color\":\"#EBF0F8\"},\"line\":{\"color\":\"white\"}},\"header\":{\"fill\":{\"color\":\"#C8D4E3\"},\"line\":{\"color\":\"white\"}},\"type\":\"table\"}]},\"layout\":{\"annotationdefaults\":{\"arrowcolor\":\"#2a3f5f\",\"arrowhead\":0,\"arrowwidth\":1},\"autotypenumbers\":\"strict\",\"coloraxis\":{\"colorbar\":{\"outlinewidth\":0,\"ticks\":\"\"}},\"colorscale\":{\"diverging\":[[0,\"#8e0152\"],[0.1,\"#c51b7d\"],[0.2,\"#de77ae\"],[0.3,\"#f1b6da\"],[0.4,\"#fde0ef\"],[0.5,\"#f7f7f7\"],[0.6,\"#e6f5d0\"],[0.7,\"#b8e186\"],[0.8,\"#7fbc41\"],[0.9,\"#4d9221\"],[1,\"#276419\"]],\"sequential\":[[0.0,\"#0d0887\"],[0.1111111111111111,\"#46039f\"],[0.2222222222222222,\"#7201a8\"],[0.3333333333333333,\"#9c179e\"],[0.4444444444444444,\"#bd3786\"],[0.5555555555555556,\"#d8576b\"],[0.6666666666666666,\"#ed7953\"],[0.7777777777777778,\"#fb9f3a\"],[0.8888888888888888,\"#fdca26\"],[1.0,\"#f0f921\"]],\"sequentialminus\":[[0.0,\"#0d0887\"],[0.1111111111111111,\"#46039f\"],[0.2222222222222222,\"#7201a8\"],[0.3333333333333333,\"#9c179e\"],[0.4444444444444444,\"#bd3786\"],[0.5555555555555556,\"#d8576b\"],[0.6666666666666666,\"#ed7953\"],[0.7777777777777778,\"#fb9f3a\"],[0.8888888888888888,\"#fdca26\"],[1.0,\"#f0f921\"]]},\"colorway\":[\"#636efa\",\"#EF553B\",\"#00cc96\",\"#ab63fa\",\"#FFA15A\",\"#19d3f3\",\"#FF6692\",\"#B6E880\",\"#FF97FF\",\"#FECB52\"],\"font\":{\"color\":\"#2a3f5f\"},\"geo\":{\"bgcolor\":\"white\",\"lakecolor\":\"white\",\"landcolor\":\"#E5ECF6\",\"showlakes\":true,\"showland\":true,\"subunitcolor\":\"white\"},\"hoverlabel\":{\"align\":\"left\"},\"hovermode\":\"closest\",\"mapbox\":{\"style\":\"light\"},\"paper_bgcolor\":\"white\",\"plot_bgcolor\":\"#E5ECF6\",\"polar\":{\"angularaxis\":{\"gridcolor\":\"white\",\"linecolor\":\"white\",\"ticks\":\"\"},\"bgcolor\":\"#E5ECF6\",\"radialaxis\":{\"gridcolor\":\"white\",\"linecolor\":\"white\",\"ticks\":\"\"}},\"scene\":{\"xaxis\":{\"backgroundcolor\":\"#E5ECF6\",\"gridcolor\":\"white\",\"gridwidth\":2,\"linecolor\":\"white\",\"showbackground\":true,\"ticks\":\"\",\"zerolinecolor\":\"white\"},\"yaxis\":{\"backgroundcolor\":\"#E5ECF6\",\"gridcolor\":\"white\",\"gridwidth\":2,\"linecolor\":\"white\",\"showbackground\":true,\"ticks\":\"\",\"zerolinecolor\":\"white\"},\"zaxis\":{\"backgroundcolor\":\"#E5ECF6\",\"gridcolor\":\"white\",\"gridwidth\":2,\"linecolor\":\"white\",\"showbackground\":true,\"ticks\":\"\",\"zerolinecolor\":\"white\"}},\"shapedefaults\":{\"line\":{\"color\":\"#2a3f5f\"}},\"ternary\":{\"aaxis\":{\"gridcolor\":\"white\",\"linecolor\":\"white\",\"ticks\":\"\"},\"baxis\":{\"gridcolor\":\"white\",\"linecolor\":\"white\",\"ticks\":\"\"},\"bgcolor\":\"#E5ECF6\",\"caxis\":{\"gridcolor\":\"white\",\"linecolor\":\"white\",\"ticks\":\"\"}},\"title\":{\"x\":0.05},\"xaxis\":{\"automargin\":true,\"gridcolor\":\"white\",\"linecolor\":\"white\",\"ticks\":\"\",\"title\":{\"standoff\":15},\"zerolinecolor\":\"white\",\"zerolinewidth\":2},\"yaxis\":{\"automargin\":true,\"gridcolor\":\"white\",\"linecolor\":\"white\",\"ticks\":\"\",\"title\":{\"standoff\":15},\"zerolinecolor\":\"white\",\"zerolinewidth\":2}}},\"xaxis\":{\"anchor\":\"y\",\"domain\":[0.0,1.0],\"title\":{\"text\":\"value\"}},\"yaxis\":{\"anchor\":\"x\",\"domain\":[0.0,1.0],\"title\":{\"text\":\"variable\"}},\"legend\":{\"tracegroupgap\":0},\"title\":{\"text\":\"Distribusi Harga Masuk Tempat Wisata\"},\"boxmode\":\"group\",\"height\":400,\"width\":600},                        {\"responsive\": true}                    ).then(function(){\n",
              "                            \n",
              "var gd = document.getElementById('ed081435-70fa-4c3f-9d34-a6839a9c3d7a');\n",
              "var x = new MutationObserver(function (mutations, observer) {{\n",
              "        var display = window.getComputedStyle(gd).display;\n",
              "        if (!display || display === 'none') {{\n",
              "            console.log([gd, 'removed!']);\n",
              "            Plotly.purge(gd);\n",
              "            observer.disconnect();\n",
              "        }}\n",
              "}});\n",
              "\n",
              "// Listen for the removal of the full notebook cells\n",
              "var notebookContainer = gd.closest('#notebook-container');\n",
              "if (notebookContainer) {{\n",
              "    x.observe(notebookContainer, {childList: true});\n",
              "}}\n",
              "\n",
              "// Listen for the clearing of the current output cell\n",
              "var outputEl = gd.closest('.output');\n",
              "if (outputEl) {{\n",
              "    x.observe(outputEl, {childList: true});\n",
              "}}\n",
              "\n",
              "                        })                };                            </script>        </div>\n",
              "</body>\n",
              "</html>"
            ]
          },
          "metadata": {}
        }
      ]
    },
    {
      "cell_type": "code",
      "source": [
        "import plotly.express as px\n",
        "px.box(data_frame=data, x=['Time_Minutes'], title=\"Distribusi Waktu Kunjungan Tempat Wisata\", width=600, height=400,)"
      ],
      "metadata": {
        "colab": {
          "base_uri": "https://localhost:8080/",
          "height": 417
        },
        "id": "o2kljAqgaef4",
        "outputId": "d7901f9d-2171-4fc6-e1f3-4bfcedd0834e"
      },
      "execution_count": null,
      "outputs": [
        {
          "output_type": "display_data",
          "data": {
            "text/html": [
              "<html>\n",
              "<head><meta charset=\"utf-8\" /></head>\n",
              "<body>\n",
              "    <div>            <script src=\"https://cdnjs.cloudflare.com/ajax/libs/mathjax/2.7.5/MathJax.js?config=TeX-AMS-MML_SVG\"></script><script type=\"text/javascript\">if (window.MathJax) {MathJax.Hub.Config({SVG: {font: \"STIX-Web\"}});}</script>                <script type=\"text/javascript\">window.PlotlyConfig = {MathJaxConfig: 'local'};</script>\n",
              "        <script src=\"https://cdn.plot.ly/plotly-2.8.3.min.js\"></script>                <div id=\"644dce29-c64a-4a27-80f6-4f9296d98f82\" class=\"plotly-graph-div\" style=\"height:400px; width:600px;\"></div>            <script type=\"text/javascript\">                                    window.PLOTLYENV=window.PLOTLYENV || {};                                    if (document.getElementById(\"644dce29-c64a-4a27-80f6-4f9296d98f82\")) {                    Plotly.newPlot(                        \"644dce29-c64a-4a27-80f6-4f9296d98f82\",                        [{\"alignmentgroup\":\"True\",\"hovertemplate\":\"value=%{x}<br>variable=%{y}<extra></extra>\",\"legendgroup\":\"\",\"marker\":{\"color\":\"#636efa\"},\"name\":\"\",\"notched\":false,\"offsetgroup\":\"\",\"orientation\":\"h\",\"showlegend\":false,\"x\":[15.0,90.0,360.0,null,60.0,10.0,null,null,null,null,null,null,null,null,90.0,null,null,null,300.0,90.0,150.0,null,null,null,45.0,20.0,180.0,null,null,null,null,null,null,60.0,120.0,180.0,null,null,120.0,null,120.0,null,120.0,15.0,null,null,null,null,90.0,null,120.0,null,90.0,null,null,null,null,45.0,null,45.0,null,null,45.0,45.0,90.0,90.0,15.0,45.0,null,240.0,null,null,null,120.0,null,null,60.0,null,30.0,120.0,60.0,150.0,null,null,120.0,null,120.0,120.0,null,null,60.0,45.0,null,null,null,60.0,30.0,60.0,null,210.0,null,15.0,15.0,null,25.0,null,null,null,null,null,null,90.0,null,null,null,45.0,90.0,120.0,30.0,90.0,null,45.0,null,null,60.0,null,null,90.0,60.0,120.0,30.0,60.0,90.0,60.0,null,90.0,90.0,120.0,60.0,60.0,45.0,150.0,90.0,null,60.0,null,null,30.0,90.0,null,90.0,45.0,null,null,null,null,null,null,null,null,90.0,null,60.0,60.0,60.0,null,60.0,90.0,90.0,120.0,60.0,null,null,60.0,120.0,60.0,null,null,90.0,null,null,120.0,null,120.0,null,null,null,null,null,45.0,null,null,null,null,null,null,null,null,null,null,90.0,null,null,null,null,60.0,120.0,150.0,null,null,null,null,null,240.0,90.0,null,180.0,null,null,null,null,60.0,null,150.0,150.0,120.0,60.0,null,90.0,null,180.0,null,null,45.0,45.0,45.0,null,null,210.0,60.0,120.0,null,null,null,150.0,120.0,null,null,30.0,null,null,60.0,null,60.0,180.0,null,null,null,45.0,null,null,null,90.0,null,60.0,null,null,150.0,null,null,45.0,120.0,120.0,null,180.0,30.0,null,null,null,null,null,60.0,null,null,45.0,null,null,null,null,null,null,null,null,90.0,null,null,120.0,null,120.0,null,150.0,null,null,null,null,null,null,null,null,45.0,150.0,90.0,90.0,180.0,null,null,30.0,null,null,60.0,null,null,90.0,90.0,null,null,null,90.0,45.0,null,150.0,90.0,null,null,null,null,30.0,null,null,90.0,null,90.0,null,null,null,45.0,45.0,null,90.0,90.0,null,null,null,90.0,null,180.0,45.0,null,90.0,null,null,null,null,60.0,null,150.0,null,null,20.0,60.0,90.0,null,60.0,null,90.0,30.0,null,60.0,null,null,null,90.0,60.0,90.0,45.0,null,60.0,null,30.0,45.0,45.0,60.0,60.0,45.0,null,30.0,45.0,30.0,20.0,25.0,null,120.0,30.0,120.0,null,30.0,45.0,180.0,15.0,90.0,null,null,null,30.0,60.0,null,null,null,30.0,45.0,null,15.0,30.0,45.0,null,60.0,null,15.0,30.0,120.0,null,30.0,45.0,null,45.0,null,null],\"x0\":\" \",\"xaxis\":\"x\",\"y\":[\"Time_Minutes\",\"Time_Minutes\",\"Time_Minutes\",\"Time_Minutes\",\"Time_Minutes\",\"Time_Minutes\",\"Time_Minutes\",\"Time_Minutes\",\"Time_Minutes\",\"Time_Minutes\",\"Time_Minutes\",\"Time_Minutes\",\"Time_Minutes\",\"Time_Minutes\",\"Time_Minutes\",\"Time_Minutes\",\"Time_Minutes\",\"Time_Minutes\",\"Time_Minutes\",\"Time_Minutes\",\"Time_Minutes\",\"Time_Minutes\",\"Time_Minutes\",\"Time_Minutes\",\"Time_Minutes\",\"Time_Minutes\",\"Time_Minutes\",\"Time_Minutes\",\"Time_Minutes\",\"Time_Minutes\",\"Time_Minutes\",\"Time_Minutes\",\"Time_Minutes\",\"Time_Minutes\",\"Time_Minutes\",\"Time_Minutes\",\"Time_Minutes\",\"Time_Minutes\",\"Time_Minutes\",\"Time_Minutes\",\"Time_Minutes\",\"Time_Minutes\",\"Time_Minutes\",\"Time_Minutes\",\"Time_Minutes\",\"Time_Minutes\",\"Time_Minutes\",\"Time_Minutes\",\"Time_Minutes\",\"Time_Minutes\",\"Time_Minutes\",\"Time_Minutes\",\"Time_Minutes\",\"Time_Minutes\",\"Time_Minutes\",\"Time_Minutes\",\"Time_Minutes\",\"Time_Minutes\",\"Time_Minutes\",\"Time_Minutes\",\"Time_Minutes\",\"Time_Minutes\",\"Time_Minutes\",\"Time_Minutes\",\"Time_Minutes\",\"Time_Minutes\",\"Time_Minutes\",\"Time_Minutes\",\"Time_Minutes\",\"Time_Minutes\",\"Time_Minutes\",\"Time_Minutes\",\"Time_Minutes\",\"Time_Minutes\",\"Time_Minutes\",\"Time_Minutes\",\"Time_Minutes\",\"Time_Minutes\",\"Time_Minutes\",\"Time_Minutes\",\"Time_Minutes\",\"Time_Minutes\",\"Time_Minutes\",\"Time_Minutes\",\"Time_Minutes\",\"Time_Minutes\",\"Time_Minutes\",\"Time_Minutes\",\"Time_Minutes\",\"Time_Minutes\",\"Time_Minutes\",\"Time_Minutes\",\"Time_Minutes\",\"Time_Minutes\",\"Time_Minutes\",\"Time_Minutes\",\"Time_Minutes\",\"Time_Minutes\",\"Time_Minutes\",\"Time_Minutes\",\"Time_Minutes\",\"Time_Minutes\",\"Time_Minutes\",\"Time_Minutes\",\"Time_Minutes\",\"Time_Minutes\",\"Time_Minutes\",\"Time_Minutes\",\"Time_Minutes\",\"Time_Minutes\",\"Time_Minutes\",\"Time_Minutes\",\"Time_Minutes\",\"Time_Minutes\",\"Time_Minutes\",\"Time_Minutes\",\"Time_Minutes\",\"Time_Minutes\",\"Time_Minutes\",\"Time_Minutes\",\"Time_Minutes\",\"Time_Minutes\",\"Time_Minutes\",\"Time_Minutes\",\"Time_Minutes\",\"Time_Minutes\",\"Time_Minutes\",\"Time_Minutes\",\"Time_Minutes\",\"Time_Minutes\",\"Time_Minutes\",\"Time_Minutes\",\"Time_Minutes\",\"Time_Minutes\",\"Time_Minutes\",\"Time_Minutes\",\"Time_Minutes\",\"Time_Minutes\",\"Time_Minutes\",\"Time_Minutes\",\"Time_Minutes\",\"Time_Minutes\",\"Time_Minutes\",\"Time_Minutes\",\"Time_Minutes\",\"Time_Minutes\",\"Time_Minutes\",\"Time_Minutes\",\"Time_Minutes\",\"Time_Minutes\",\"Time_Minutes\",\"Time_Minutes\",\"Time_Minutes\",\"Time_Minutes\",\"Time_Minutes\",\"Time_Minutes\",\"Time_Minutes\",\"Time_Minutes\",\"Time_Minutes\",\"Time_Minutes\",\"Time_Minutes\",\"Time_Minutes\",\"Time_Minutes\",\"Time_Minutes\",\"Time_Minutes\",\"Time_Minutes\",\"Time_Minutes\",\"Time_Minutes\",\"Time_Minutes\",\"Time_Minutes\",\"Time_Minutes\",\"Time_Minutes\",\"Time_Minutes\",\"Time_Minutes\",\"Time_Minutes\",\"Time_Minutes\",\"Time_Minutes\",\"Time_Minutes\",\"Time_Minutes\",\"Time_Minutes\",\"Time_Minutes\",\"Time_Minutes\",\"Time_Minutes\",\"Time_Minutes\",\"Time_Minutes\",\"Time_Minutes\",\"Time_Minutes\",\"Time_Minutes\",\"Time_Minutes\",\"Time_Minutes\",\"Time_Minutes\",\"Time_Minutes\",\"Time_Minutes\",\"Time_Minutes\",\"Time_Minutes\",\"Time_Minutes\",\"Time_Minutes\",\"Time_Minutes\",\"Time_Minutes\",\"Time_Minutes\",\"Time_Minutes\",\"Time_Minutes\",\"Time_Minutes\",\"Time_Minutes\",\"Time_Minutes\",\"Time_Minutes\",\"Time_Minutes\",\"Time_Minutes\",\"Time_Minutes\",\"Time_Minutes\",\"Time_Minutes\",\"Time_Minutes\",\"Time_Minutes\",\"Time_Minutes\",\"Time_Minutes\",\"Time_Minutes\",\"Time_Minutes\",\"Time_Minutes\",\"Time_Minutes\",\"Time_Minutes\",\"Time_Minutes\",\"Time_Minutes\",\"Time_Minutes\",\"Time_Minutes\",\"Time_Minutes\",\"Time_Minutes\",\"Time_Minutes\",\"Time_Minutes\",\"Time_Minutes\",\"Time_Minutes\",\"Time_Minutes\",\"Time_Minutes\",\"Time_Minutes\",\"Time_Minutes\",\"Time_Minutes\",\"Time_Minutes\",\"Time_Minutes\",\"Time_Minutes\",\"Time_Minutes\",\"Time_Minutes\",\"Time_Minutes\",\"Time_Minutes\",\"Time_Minutes\",\"Time_Minutes\",\"Time_Minutes\",\"Time_Minutes\",\"Time_Minutes\",\"Time_Minutes\",\"Time_Minutes\",\"Time_Minutes\",\"Time_Minutes\",\"Time_Minutes\",\"Time_Minutes\",\"Time_Minutes\",\"Time_Minutes\",\"Time_Minutes\",\"Time_Minutes\",\"Time_Minutes\",\"Time_Minutes\",\"Time_Minutes\",\"Time_Minutes\",\"Time_Minutes\",\"Time_Minutes\",\"Time_Minutes\",\"Time_Minutes\",\"Time_Minutes\",\"Time_Minutes\",\"Time_Minutes\",\"Time_Minutes\",\"Time_Minutes\",\"Time_Minutes\",\"Time_Minutes\",\"Time_Minutes\",\"Time_Minutes\",\"Time_Minutes\",\"Time_Minutes\",\"Time_Minutes\",\"Time_Minutes\",\"Time_Minutes\",\"Time_Minutes\",\"Time_Minutes\",\"Time_Minutes\",\"Time_Minutes\",\"Time_Minutes\",\"Time_Minutes\",\"Time_Minutes\",\"Time_Minutes\",\"Time_Minutes\",\"Time_Minutes\",\"Time_Minutes\",\"Time_Minutes\",\"Time_Minutes\",\"Time_Minutes\",\"Time_Minutes\",\"Time_Minutes\",\"Time_Minutes\",\"Time_Minutes\",\"Time_Minutes\",\"Time_Minutes\",\"Time_Minutes\",\"Time_Minutes\",\"Time_Minutes\",\"Time_Minutes\",\"Time_Minutes\",\"Time_Minutes\",\"Time_Minutes\",\"Time_Minutes\",\"Time_Minutes\",\"Time_Minutes\",\"Time_Minutes\",\"Time_Minutes\",\"Time_Minutes\",\"Time_Minutes\",\"Time_Minutes\",\"Time_Minutes\",\"Time_Minutes\",\"Time_Minutes\",\"Time_Minutes\",\"Time_Minutes\",\"Time_Minutes\",\"Time_Minutes\",\"Time_Minutes\",\"Time_Minutes\",\"Time_Minutes\",\"Time_Minutes\",\"Time_Minutes\",\"Time_Minutes\",\"Time_Minutes\",\"Time_Minutes\",\"Time_Minutes\",\"Time_Minutes\",\"Time_Minutes\",\"Time_Minutes\",\"Time_Minutes\",\"Time_Minutes\",\"Time_Minutes\",\"Time_Minutes\",\"Time_Minutes\",\"Time_Minutes\",\"Time_Minutes\",\"Time_Minutes\",\"Time_Minutes\",\"Time_Minutes\",\"Time_Minutes\",\"Time_Minutes\",\"Time_Minutes\",\"Time_Minutes\",\"Time_Minutes\",\"Time_Minutes\",\"Time_Minutes\",\"Time_Minutes\",\"Time_Minutes\",\"Time_Minutes\",\"Time_Minutes\",\"Time_Minutes\",\"Time_Minutes\",\"Time_Minutes\",\"Time_Minutes\",\"Time_Minutes\",\"Time_Minutes\",\"Time_Minutes\",\"Time_Minutes\",\"Time_Minutes\",\"Time_Minutes\",\"Time_Minutes\",\"Time_Minutes\",\"Time_Minutes\",\"Time_Minutes\",\"Time_Minutes\",\"Time_Minutes\",\"Time_Minutes\",\"Time_Minutes\",\"Time_Minutes\",\"Time_Minutes\",\"Time_Minutes\",\"Time_Minutes\",\"Time_Minutes\",\"Time_Minutes\",\"Time_Minutes\",\"Time_Minutes\",\"Time_Minutes\",\"Time_Minutes\",\"Time_Minutes\",\"Time_Minutes\",\"Time_Minutes\",\"Time_Minutes\",\"Time_Minutes\",\"Time_Minutes\",\"Time_Minutes\",\"Time_Minutes\",\"Time_Minutes\",\"Time_Minutes\",\"Time_Minutes\",\"Time_Minutes\",\"Time_Minutes\",\"Time_Minutes\",\"Time_Minutes\",\"Time_Minutes\",\"Time_Minutes\",\"Time_Minutes\",\"Time_Minutes\",\"Time_Minutes\",\"Time_Minutes\",\"Time_Minutes\",\"Time_Minutes\",\"Time_Minutes\",\"Time_Minutes\",\"Time_Minutes\",\"Time_Minutes\",\"Time_Minutes\",\"Time_Minutes\",\"Time_Minutes\",\"Time_Minutes\",\"Time_Minutes\",\"Time_Minutes\",\"Time_Minutes\",\"Time_Minutes\",\"Time_Minutes\",\"Time_Minutes\",\"Time_Minutes\",\"Time_Minutes\",\"Time_Minutes\",\"Time_Minutes\",\"Time_Minutes\",\"Time_Minutes\",\"Time_Minutes\",\"Time_Minutes\",\"Time_Minutes\",\"Time_Minutes\",\"Time_Minutes\",\"Time_Minutes\",\"Time_Minutes\",\"Time_Minutes\",\"Time_Minutes\",\"Time_Minutes\",\"Time_Minutes\",\"Time_Minutes\"],\"y0\":\" \",\"yaxis\":\"y\",\"type\":\"box\"}],                        {\"template\":{\"data\":{\"bar\":[{\"error_x\":{\"color\":\"#2a3f5f\"},\"error_y\":{\"color\":\"#2a3f5f\"},\"marker\":{\"line\":{\"color\":\"#E5ECF6\",\"width\":0.5},\"pattern\":{\"fillmode\":\"overlay\",\"size\":10,\"solidity\":0.2}},\"type\":\"bar\"}],\"barpolar\":[{\"marker\":{\"line\":{\"color\":\"#E5ECF6\",\"width\":0.5},\"pattern\":{\"fillmode\":\"overlay\",\"size\":10,\"solidity\":0.2}},\"type\":\"barpolar\"}],\"carpet\":[{\"aaxis\":{\"endlinecolor\":\"#2a3f5f\",\"gridcolor\":\"white\",\"linecolor\":\"white\",\"minorgridcolor\":\"white\",\"startlinecolor\":\"#2a3f5f\"},\"baxis\":{\"endlinecolor\":\"#2a3f5f\",\"gridcolor\":\"white\",\"linecolor\":\"white\",\"minorgridcolor\":\"white\",\"startlinecolor\":\"#2a3f5f\"},\"type\":\"carpet\"}],\"choropleth\":[{\"colorbar\":{\"outlinewidth\":0,\"ticks\":\"\"},\"type\":\"choropleth\"}],\"contour\":[{\"colorbar\":{\"outlinewidth\":0,\"ticks\":\"\"},\"colorscale\":[[0.0,\"#0d0887\"],[0.1111111111111111,\"#46039f\"],[0.2222222222222222,\"#7201a8\"],[0.3333333333333333,\"#9c179e\"],[0.4444444444444444,\"#bd3786\"],[0.5555555555555556,\"#d8576b\"],[0.6666666666666666,\"#ed7953\"],[0.7777777777777778,\"#fb9f3a\"],[0.8888888888888888,\"#fdca26\"],[1.0,\"#f0f921\"]],\"type\":\"contour\"}],\"contourcarpet\":[{\"colorbar\":{\"outlinewidth\":0,\"ticks\":\"\"},\"type\":\"contourcarpet\"}],\"heatmap\":[{\"colorbar\":{\"outlinewidth\":0,\"ticks\":\"\"},\"colorscale\":[[0.0,\"#0d0887\"],[0.1111111111111111,\"#46039f\"],[0.2222222222222222,\"#7201a8\"],[0.3333333333333333,\"#9c179e\"],[0.4444444444444444,\"#bd3786\"],[0.5555555555555556,\"#d8576b\"],[0.6666666666666666,\"#ed7953\"],[0.7777777777777778,\"#fb9f3a\"],[0.8888888888888888,\"#fdca26\"],[1.0,\"#f0f921\"]],\"type\":\"heatmap\"}],\"heatmapgl\":[{\"colorbar\":{\"outlinewidth\":0,\"ticks\":\"\"},\"colorscale\":[[0.0,\"#0d0887\"],[0.1111111111111111,\"#46039f\"],[0.2222222222222222,\"#7201a8\"],[0.3333333333333333,\"#9c179e\"],[0.4444444444444444,\"#bd3786\"],[0.5555555555555556,\"#d8576b\"],[0.6666666666666666,\"#ed7953\"],[0.7777777777777778,\"#fb9f3a\"],[0.8888888888888888,\"#fdca26\"],[1.0,\"#f0f921\"]],\"type\":\"heatmapgl\"}],\"histogram\":[{\"marker\":{\"pattern\":{\"fillmode\":\"overlay\",\"size\":10,\"solidity\":0.2}},\"type\":\"histogram\"}],\"histogram2d\":[{\"colorbar\":{\"outlinewidth\":0,\"ticks\":\"\"},\"colorscale\":[[0.0,\"#0d0887\"],[0.1111111111111111,\"#46039f\"],[0.2222222222222222,\"#7201a8\"],[0.3333333333333333,\"#9c179e\"],[0.4444444444444444,\"#bd3786\"],[0.5555555555555556,\"#d8576b\"],[0.6666666666666666,\"#ed7953\"],[0.7777777777777778,\"#fb9f3a\"],[0.8888888888888888,\"#fdca26\"],[1.0,\"#f0f921\"]],\"type\":\"histogram2d\"}],\"histogram2dcontour\":[{\"colorbar\":{\"outlinewidth\":0,\"ticks\":\"\"},\"colorscale\":[[0.0,\"#0d0887\"],[0.1111111111111111,\"#46039f\"],[0.2222222222222222,\"#7201a8\"],[0.3333333333333333,\"#9c179e\"],[0.4444444444444444,\"#bd3786\"],[0.5555555555555556,\"#d8576b\"],[0.6666666666666666,\"#ed7953\"],[0.7777777777777778,\"#fb9f3a\"],[0.8888888888888888,\"#fdca26\"],[1.0,\"#f0f921\"]],\"type\":\"histogram2dcontour\"}],\"mesh3d\":[{\"colorbar\":{\"outlinewidth\":0,\"ticks\":\"\"},\"type\":\"mesh3d\"}],\"parcoords\":[{\"line\":{\"colorbar\":{\"outlinewidth\":0,\"ticks\":\"\"}},\"type\":\"parcoords\"}],\"pie\":[{\"automargin\":true,\"type\":\"pie\"}],\"scatter\":[{\"marker\":{\"colorbar\":{\"outlinewidth\":0,\"ticks\":\"\"}},\"type\":\"scatter\"}],\"scatter3d\":[{\"line\":{\"colorbar\":{\"outlinewidth\":0,\"ticks\":\"\"}},\"marker\":{\"colorbar\":{\"outlinewidth\":0,\"ticks\":\"\"}},\"type\":\"scatter3d\"}],\"scattercarpet\":[{\"marker\":{\"colorbar\":{\"outlinewidth\":0,\"ticks\":\"\"}},\"type\":\"scattercarpet\"}],\"scattergeo\":[{\"marker\":{\"colorbar\":{\"outlinewidth\":0,\"ticks\":\"\"}},\"type\":\"scattergeo\"}],\"scattergl\":[{\"marker\":{\"colorbar\":{\"outlinewidth\":0,\"ticks\":\"\"}},\"type\":\"scattergl\"}],\"scattermapbox\":[{\"marker\":{\"colorbar\":{\"outlinewidth\":0,\"ticks\":\"\"}},\"type\":\"scattermapbox\"}],\"scatterpolar\":[{\"marker\":{\"colorbar\":{\"outlinewidth\":0,\"ticks\":\"\"}},\"type\":\"scatterpolar\"}],\"scatterpolargl\":[{\"marker\":{\"colorbar\":{\"outlinewidth\":0,\"ticks\":\"\"}},\"type\":\"scatterpolargl\"}],\"scatterternary\":[{\"marker\":{\"colorbar\":{\"outlinewidth\":0,\"ticks\":\"\"}},\"type\":\"scatterternary\"}],\"surface\":[{\"colorbar\":{\"outlinewidth\":0,\"ticks\":\"\"},\"colorscale\":[[0.0,\"#0d0887\"],[0.1111111111111111,\"#46039f\"],[0.2222222222222222,\"#7201a8\"],[0.3333333333333333,\"#9c179e\"],[0.4444444444444444,\"#bd3786\"],[0.5555555555555556,\"#d8576b\"],[0.6666666666666666,\"#ed7953\"],[0.7777777777777778,\"#fb9f3a\"],[0.8888888888888888,\"#fdca26\"],[1.0,\"#f0f921\"]],\"type\":\"surface\"}],\"table\":[{\"cells\":{\"fill\":{\"color\":\"#EBF0F8\"},\"line\":{\"color\":\"white\"}},\"header\":{\"fill\":{\"color\":\"#C8D4E3\"},\"line\":{\"color\":\"white\"}},\"type\":\"table\"}]},\"layout\":{\"annotationdefaults\":{\"arrowcolor\":\"#2a3f5f\",\"arrowhead\":0,\"arrowwidth\":1},\"autotypenumbers\":\"strict\",\"coloraxis\":{\"colorbar\":{\"outlinewidth\":0,\"ticks\":\"\"}},\"colorscale\":{\"diverging\":[[0,\"#8e0152\"],[0.1,\"#c51b7d\"],[0.2,\"#de77ae\"],[0.3,\"#f1b6da\"],[0.4,\"#fde0ef\"],[0.5,\"#f7f7f7\"],[0.6,\"#e6f5d0\"],[0.7,\"#b8e186\"],[0.8,\"#7fbc41\"],[0.9,\"#4d9221\"],[1,\"#276419\"]],\"sequential\":[[0.0,\"#0d0887\"],[0.1111111111111111,\"#46039f\"],[0.2222222222222222,\"#7201a8\"],[0.3333333333333333,\"#9c179e\"],[0.4444444444444444,\"#bd3786\"],[0.5555555555555556,\"#d8576b\"],[0.6666666666666666,\"#ed7953\"],[0.7777777777777778,\"#fb9f3a\"],[0.8888888888888888,\"#fdca26\"],[1.0,\"#f0f921\"]],\"sequentialminus\":[[0.0,\"#0d0887\"],[0.1111111111111111,\"#46039f\"],[0.2222222222222222,\"#7201a8\"],[0.3333333333333333,\"#9c179e\"],[0.4444444444444444,\"#bd3786\"],[0.5555555555555556,\"#d8576b\"],[0.6666666666666666,\"#ed7953\"],[0.7777777777777778,\"#fb9f3a\"],[0.8888888888888888,\"#fdca26\"],[1.0,\"#f0f921\"]]},\"colorway\":[\"#636efa\",\"#EF553B\",\"#00cc96\",\"#ab63fa\",\"#FFA15A\",\"#19d3f3\",\"#FF6692\",\"#B6E880\",\"#FF97FF\",\"#FECB52\"],\"font\":{\"color\":\"#2a3f5f\"},\"geo\":{\"bgcolor\":\"white\",\"lakecolor\":\"white\",\"landcolor\":\"#E5ECF6\",\"showlakes\":true,\"showland\":true,\"subunitcolor\":\"white\"},\"hoverlabel\":{\"align\":\"left\"},\"hovermode\":\"closest\",\"mapbox\":{\"style\":\"light\"},\"paper_bgcolor\":\"white\",\"plot_bgcolor\":\"#E5ECF6\",\"polar\":{\"angularaxis\":{\"gridcolor\":\"white\",\"linecolor\":\"white\",\"ticks\":\"\"},\"bgcolor\":\"#E5ECF6\",\"radialaxis\":{\"gridcolor\":\"white\",\"linecolor\":\"white\",\"ticks\":\"\"}},\"scene\":{\"xaxis\":{\"backgroundcolor\":\"#E5ECF6\",\"gridcolor\":\"white\",\"gridwidth\":2,\"linecolor\":\"white\",\"showbackground\":true,\"ticks\":\"\",\"zerolinecolor\":\"white\"},\"yaxis\":{\"backgroundcolor\":\"#E5ECF6\",\"gridcolor\":\"white\",\"gridwidth\":2,\"linecolor\":\"white\",\"showbackground\":true,\"ticks\":\"\",\"zerolinecolor\":\"white\"},\"zaxis\":{\"backgroundcolor\":\"#E5ECF6\",\"gridcolor\":\"white\",\"gridwidth\":2,\"linecolor\":\"white\",\"showbackground\":true,\"ticks\":\"\",\"zerolinecolor\":\"white\"}},\"shapedefaults\":{\"line\":{\"color\":\"#2a3f5f\"}},\"ternary\":{\"aaxis\":{\"gridcolor\":\"white\",\"linecolor\":\"white\",\"ticks\":\"\"},\"baxis\":{\"gridcolor\":\"white\",\"linecolor\":\"white\",\"ticks\":\"\"},\"bgcolor\":\"#E5ECF6\",\"caxis\":{\"gridcolor\":\"white\",\"linecolor\":\"white\",\"ticks\":\"\"}},\"title\":{\"x\":0.05},\"xaxis\":{\"automargin\":true,\"gridcolor\":\"white\",\"linecolor\":\"white\",\"ticks\":\"\",\"title\":{\"standoff\":15},\"zerolinecolor\":\"white\",\"zerolinewidth\":2},\"yaxis\":{\"automargin\":true,\"gridcolor\":\"white\",\"linecolor\":\"white\",\"ticks\":\"\",\"title\":{\"standoff\":15},\"zerolinecolor\":\"white\",\"zerolinewidth\":2}}},\"xaxis\":{\"anchor\":\"y\",\"domain\":[0.0,1.0],\"title\":{\"text\":\"value\"}},\"yaxis\":{\"anchor\":\"x\",\"domain\":[0.0,1.0],\"title\":{\"text\":\"variable\"}},\"legend\":{\"tracegroupgap\":0},\"title\":{\"text\":\"Distribusi Waktu Kunjungan Tempat Wisata\"},\"boxmode\":\"group\",\"height\":400,\"width\":600},                        {\"responsive\": true}                    ).then(function(){\n",
              "                            \n",
              "var gd = document.getElementById('644dce29-c64a-4a27-80f6-4f9296d98f82');\n",
              "var x = new MutationObserver(function (mutations, observer) {{\n",
              "        var display = window.getComputedStyle(gd).display;\n",
              "        if (!display || display === 'none') {{\n",
              "            console.log([gd, 'removed!']);\n",
              "            Plotly.purge(gd);\n",
              "            observer.disconnect();\n",
              "        }}\n",
              "}});\n",
              "\n",
              "// Listen for the removal of the full notebook cells\n",
              "var notebookContainer = gd.closest('#notebook-container');\n",
              "if (notebookContainer) {{\n",
              "    x.observe(notebookContainer, {childList: true});\n",
              "}}\n",
              "\n",
              "// Listen for the clearing of the current output cell\n",
              "var outputEl = gd.closest('.output');\n",
              "if (outputEl) {{\n",
              "    x.observe(outputEl, {childList: true});\n",
              "}}\n",
              "\n",
              "                        })                };                            </script>        </div>\n",
              "</body>\n",
              "</html>"
            ]
          },
          "metadata": {}
        }
      ]
    },
    {
      "cell_type": "markdown",
      "source": [
        "Distribusi harga tiket masuk dan waktu kunjungan tempat wisata terlalu tersebar. Oleh karena itu, nantinya saat proses preprocessing akan dilakukan normalisasi pada kolom \"Price\" dan \"Time_Minutes\"."
      ],
      "metadata": {
        "id": "ODUMV4AUbCQH"
      }
    },
    {
      "cell_type": "markdown",
      "source": [
        "### Heatmap Missing Value"
      ],
      "metadata": {
        "id": "BDjjQQflbPaU"
      }
    },
    {
      "cell_type": "code",
      "source": [
        "sns.heatmap(data.isnull(),cbar=False,cmap='viridis')\n",
        "plt.title('Heatmap Missing Value', pad=20)"
      ],
      "metadata": {
        "colab": {
          "base_uri": "https://localhost:8080/",
          "height": 381
        },
        "id": "qhRh3I16YiSj",
        "outputId": "1c998911-f85b-447a-90f9-17f1b2cff8a7"
      },
      "execution_count": null,
      "outputs": [
        {
          "output_type": "execute_result",
          "data": {
            "text/plain": [
              "Text(0.5, 1.0, 'Heatmap Missing Value')"
            ]
          },
          "metadata": {},
          "execution_count": 215
        },
        {
          "output_type": "display_data",
          "data": {
            "text/plain": [
              "<Figure size 432x288 with 1 Axes>"
            ],
            "image/png": "[encoded data removed]"
          },
          "metadata": {}
        }
      ]
    },
    {
      "cell_type": "markdown",
      "source": [
        "Dari digaram yang dihasilkan, dapat dilihat bahwa fitur Time_Minutes memiliki beberapa missing value dikarenakan beberapa tempat wisata tidak membatasi waktu kunjungan untuk pengunjung. Oleh karena itu, nantinya pada proses preprocessing akan dilakukan penanganan missing value untuk kolom \"Time_Minutes\"."
      ],
      "metadata": {
        "id": "LhKPazQnbVIb"
      }
    },
    {
      "cell_type": "markdown",
      "source": [
        "# Pre-Processing"
      ],
      "metadata": {
        "id": "qvlkrHcZ5147"
      }
    },
    {
      "cell_type": "markdown",
      "source": [
        "#### Menghapus kolom yang tidak digunakan  "
      ],
      "metadata": {
        "id": "sr14gMpvAMnL"
      }
    },
    {
      "cell_type": "code",
      "source": [
        "X = X.drop(columns=['Place_Id', 'Place_Name', 'Rating', 'Description', 'Coordinate', 'Lat', 'Long'])\n",
        "X.head()"
      ],
      "metadata": {
        "colab": {
          "base_uri": "https://localhost:8080/",
          "height": 206
        },
        "id": "_1Qvlu8mAPBo",
        "outputId": "f8bb0f02-bfb7-4ebf-cfdd-9622f785210c"
      },
      "execution_count": null,
      "outputs": [
        {
          "output_type": "execute_result",
          "data": {
            "text/plain": [
              "        Category     City   Price  Time_Minutes\n",
              "0         Budaya  Jakarta   20000          15.0\n",
              "1         Budaya  Jakarta       0          90.0\n",
              "2  Taman Hiburan  Jakarta  270000         360.0\n",
              "3  Taman Hiburan  Jakarta   10000           NaN\n",
              "4  Taman Hiburan  Jakarta   94000          60.0"
            ],
            "text/html": [
              "\n",
              "  <div id=\"df-5c8a9528-3bb4-4824-9f29-e8f1ee607981\">\n",
              "    <div class=\"colab-df-container\">\n",
              "      <div>\n",
              "<style scoped>\n",
              "    .dataframe tbody tr th:only-of-type {\n",
              "        vertical-align: middle;\n",
              "    }\n",
              "\n",
              "    .dataframe tbody tr th {\n",
              "        vertical-align: top;\n",
              "    }\n",
              "\n",
              "    .dataframe thead th {\n",
              "        text-align: right;\n",
              "    }\n",
              "</style>\n",
              "<table border=\"1\" class=\"dataframe\">\n",
              "  <thead>\n",
              "    <tr style=\"text-align: right;\">\n",
              "      <th></th>\n",
              "      <th>Category</th>\n",
              "      <th>City</th>\n",
              "      <th>Price</th>\n",
              "      <th>Time_Minutes</th>\n",
              "    </tr>\n",
              "  </thead>\n",
              "  <tbody>\n",
              "    <tr>\n",
              "      <th>0</th>\n",
              "      <td>Budaya</td>\n",
              "      <td>Jakarta</td>\n",
              "      <td>20000</td>\n",
              "      <td>15.0</td>\n",
              "    </tr>\n",
              "    <tr>\n",
              "      <th>1</th>\n",
              "      <td>Budaya</td>\n",
              "      <td>Jakarta</td>\n",
              "      <td>0</td>\n",
              "      <td>90.0</td>\n",
              "    </tr>\n",
              "    <tr>\n",
              "      <th>2</th>\n",
              "      <td>Taman Hiburan</td>\n",
              "      <td>Jakarta</td>\n",
              "      <td>270000</td>\n",
              "      <td>360.0</td>\n",
              "    </tr>\n",
              "    <tr>\n",
              "      <th>3</th>\n",
              "      <td>Taman Hiburan</td>\n",
              "      <td>Jakarta</td>\n",
              "      <td>10000</td>\n",
              "      <td>NaN</td>\n",
              "    </tr>\n",
              "    <tr>\n",
              "      <th>4</th>\n",
              "      <td>Taman Hiburan</td>\n",
              "      <td>Jakarta</td>\n",
              "      <td>94000</td>\n",
              "      <td>60.0</td>\n",
              "    </tr>\n",
              "  </tbody>\n",
              "</table>\n",
              "</div>\n",
              "      <button class=\"colab-df-convert\" onclick=\"convertToInteractive('df-5c8a9528-3bb4-4824-9f29-e8f1ee607981')\"\n",
              "              title=\"Convert this dataframe to an interactive table.\"\n",
              "              style=\"display:none;\">\n",
              "        \n",
              "  <svg xmlns=\"http://www.w3.org/2000/svg\" height=\"24px\"viewBox=\"0 0 24 24\"\n",
              "       width=\"24px\">\n",
              "    <path d=\"M0 0h24v24H0V0z\" fill=\"none\"/>\n",
              "    <path d=\"M18.56 5.44l.94 2.06.94-2.06 2.06-.94-2.06-.94-.94-2.06-.94 2.06-2.06.94zm-11 1L8.5 8.5l.94-2.06 2.06-.94-2.06-.94L8.5 2.5l-.94 2.06-2.06.94zm10 10l.94 2.06.94-2.06 2.06-.94-2.06-.94-.94-2.06-.94 2.06-2.06.94z\"/><path d=\"M17.41 7.96l-1.37-1.37c-.4-.4-.92-.59-1.43-.59-.52 0-1.04.2-1.43.59L10.3 9.45l-7.72 7.72c-.78.78-.78 2.05 0 2.83L4 21.41c.39.39.9.59 1.41.59.51 0 1.02-.2 1.41-.59l7.78-7.78 2.81-2.81c.8-.78.8-2.07 0-2.86zM5.41 20L4 18.59l7.72-7.72 1.47 1.35L5.41 20z\"/>\n",
              "  </svg>\n",
              "      </button>\n",
              "      \n",
              "  <style>\n",
              "    .colab-df-container {\n",
              "      display:flex;\n",
              "      flex-wrap:wrap;\n",
              "      gap: 12px;\n",
              "    }\n",
              "\n",
              "    .colab-df-convert {\n",
              "      background-color: #E8F0FE;\n",
              "      border: none;\n",
              "      border-radius: 50%;\n",
              "      cursor: pointer;\n",
              "      display: none;\n",
              "      fill: #1967D2;\n",
              "      height: 32px;\n",
              "      padding: 0 0 0 0;\n",
              "      width: 32px;\n",
              "    }\n",
              "\n",
              "    .colab-df-convert:hover {\n",
              "      background-color: #E2EBFA;\n",
              "      box-shadow: 0px 1px 2px rgba(60, 64, 67, 0.3), 0px 1px 3px 1px rgba(60, 64, 67, 0.15);\n",
              "      fill: #174EA6;\n",
              "    }\n",
              "\n",
              "    [theme=dark] .colab-df-convert {\n",
              "      background-color: #3B4455;\n",
              "      fill: #D2E3FC;\n",
              "    }\n",
              "\n",
              "    [theme=dark] .colab-df-convert:hover {\n",
              "      background-color: #434B5C;\n",
              "      box-shadow: 0px 1px 3px 1px rgba(0, 0, 0, 0.15);\n",
              "      filter: drop-shadow(0px 1px 2px rgba(0, 0, 0, 0.3));\n",
              "      fill: #FFFFFF;\n",
              "    }\n",
              "  </style>\n",
              "\n",
              "      <script>\n",
              "        const buttonEl =\n",
              "          document.querySelector('#df-5c8a9528-3bb4-4824-9f29-e8f1ee607981 button.colab-df-convert');\n",
              "        buttonEl.style.display =\n",
              "          google.colab.kernel.accessAllowed ? 'block' : 'none';\n",
              "\n",
              "        async function convertToInteractive(key) {\n",
              "          const element = document.querySelector('#df-5c8a9528-3bb4-4824-9f29-e8f1ee607981');\n",
              "          const dataTable =\n",
              "            await google.colab.kernel.invokeFunction('convertToInteractive',\n",
              "                                                     [key], {});\n",
              "          if (!dataTable) return;\n",
              "\n",
              "          const docLinkHtml = 'Like what you see? Visit the ' +\n",
              "            '<a target=\"_blank\" href=https://colab.research.google.com/notebooks/data_table.ipynb>data table notebook</a>'\n",
              "            + ' to learn more about interactive tables.';\n",
              "          element.innerHTML = '';\n",
              "          dataTable['output_type'] = 'display_data';\n",
              "          await google.colab.output.renderOutput(dataTable, element);\n",
              "          const docLink = document.createElement('div');\n",
              "          docLink.innerHTML = docLinkHtml;\n",
              "          element.appendChild(docLink);\n",
              "        }\n",
              "      </script>\n",
              "    </div>\n",
              "  </div>\n",
              "  "
            ]
          },
          "metadata": {},
          "execution_count": 216
        }
      ]
    },
    {
      "cell_type": "markdown",
      "source": [
        "#### Mengubah kolom nilainya bersifat kategorik menggunakan LabelEncoder dari library scikit-learn"
      ],
      "metadata": {
        "id": "lKVrBndU9zDu"
      }
    },
    {
      "cell_type": "code",
      "source": [
        "# Mengambil kolom yang bersifat kategorik (Category dan City)\n",
        "object_clm = X.select_dtypes(include=[object])\n",
        "object_clm.head()"
      ],
      "metadata": {
        "colab": {
          "base_uri": "https://localhost:8080/",
          "height": 206
        },
        "id": "1JbqXtpM1DPy",
        "outputId": "df5ace38-d023-4181-92e9-5244906bb8f6"
      },
      "execution_count": null,
      "outputs": [
        {
          "output_type": "execute_result",
          "data": {
            "text/plain": [
              "        Category     City\n",
              "0         Budaya  Jakarta\n",
              "1         Budaya  Jakarta\n",
              "2  Taman Hiburan  Jakarta\n",
              "3  Taman Hiburan  Jakarta\n",
              "4  Taman Hiburan  Jakarta"
            ],
            "text/html": [
              "\n",
              "  <div id=\"df-2e45dfdd-b9e1-49b6-8588-16c88d62395e\">\n",
              "    <div class=\"colab-df-container\">\n",
              "      <div>\n",
              "<style scoped>\n",
              "    .dataframe tbody tr th:only-of-type {\n",
              "        vertical-align: middle;\n",
              "    }\n",
              "\n",
              "    .dataframe tbody tr th {\n",
              "        vertical-align: top;\n",
              "    }\n",
              "\n",
              "    .dataframe thead th {\n",
              "        text-align: right;\n",
              "    }\n",
              "</style>\n",
              "<table border=\"1\" class=\"dataframe\">\n",
              "  <thead>\n",
              "    <tr style=\"text-align: right;\">\n",
              "      <th></th>\n",
              "      <th>Category</th>\n",
              "      <th>City</th>\n",
              "    </tr>\n",
              "  </thead>\n",
              "  <tbody>\n",
              "    <tr>\n",
              "      <th>0</th>\n",
              "      <td>Budaya</td>\n",
              "      <td>Jakarta</td>\n",
              "    </tr>\n",
              "    <tr>\n",
              "      <th>1</th>\n",
              "      <td>Budaya</td>\n",
              "      <td>Jakarta</td>\n",
              "    </tr>\n",
              "    <tr>\n",
              "      <th>2</th>\n",
              "      <td>Taman Hiburan</td>\n",
              "      <td>Jakarta</td>\n",
              "    </tr>\n",
              "    <tr>\n",
              "      <th>3</th>\n",
              "      <td>Taman Hiburan</td>\n",
              "      <td>Jakarta</td>\n",
              "    </tr>\n",
              "    <tr>\n",
              "      <th>4</th>\n",
              "      <td>Taman Hiburan</td>\n",
              "      <td>Jakarta</td>\n",
              "    </tr>\n",
              "  </tbody>\n",
              "</table>\n",
              "</div>\n",
              "      <button class=\"colab-df-convert\" onclick=\"convertToInteractive('df-2e45dfdd-b9e1-49b6-8588-16c88d62395e')\"\n",
              "              title=\"Convert this dataframe to an interactive table.\"\n",
              "              style=\"display:none;\">\n",
              "        \n",
              "  <svg xmlns=\"http://www.w3.org/2000/svg\" height=\"24px\"viewBox=\"0 0 24 24\"\n",
              "       width=\"24px\">\n",
              "    <path d=\"M0 0h24v24H0V0z\" fill=\"none\"/>\n",
              "    <path d=\"M18.56 5.44l.94 2.06.94-2.06 2.06-.94-2.06-.94-.94-2.06-.94 2.06-2.06.94zm-11 1L8.5 8.5l.94-2.06 2.06-.94-2.06-.94L8.5 2.5l-.94 2.06-2.06.94zm10 10l.94 2.06.94-2.06 2.06-.94-2.06-.94-.94-2.06-.94 2.06-2.06.94z\"/><path d=\"M17.41 7.96l-1.37-1.37c-.4-.4-.92-.59-1.43-.59-.52 0-1.04.2-1.43.59L10.3 9.45l-7.72 7.72c-.78.78-.78 2.05 0 2.83L4 21.41c.39.39.9.59 1.41.59.51 0 1.02-.2 1.41-.59l7.78-7.78 2.81-2.81c.8-.78.8-2.07 0-2.86zM5.41 20L4 18.59l7.72-7.72 1.47 1.35L5.41 20z\"/>\n",
              "  </svg>\n",
              "      </button>\n",
              "      \n",
              "  <style>\n",
              "    .colab-df-container {\n",
              "      display:flex;\n",
              "      flex-wrap:wrap;\n",
              "      gap: 12px;\n",
              "    }\n",
              "\n",
              "    .colab-df-convert {\n",
              "      background-color: #E8F0FE;\n",
              "      border: none;\n",
              "      border-radius: 50%;\n",
              "      cursor: pointer;\n",
              "      display: none;\n",
              "      fill: #1967D2;\n",
              "      height: 32px;\n",
              "      padding: 0 0 0 0;\n",
              "      width: 32px;\n",
              "    }\n",
              "\n",
              "    .colab-df-convert:hover {\n",
              "      background-color: #E2EBFA;\n",
              "      box-shadow: 0px 1px 2px rgba(60, 64, 67, 0.3), 0px 1px 3px 1px rgba(60, 64, 67, 0.15);\n",
              "      fill: #174EA6;\n",
              "    }\n",
              "\n",
              "    [theme=dark] .colab-df-convert {\n",
              "      background-color: #3B4455;\n",
              "      fill: #D2E3FC;\n",
              "    }\n",
              "\n",
              "    [theme=dark] .colab-df-convert:hover {\n",
              "      background-color: #434B5C;\n",
              "      box-shadow: 0px 1px 3px 1px rgba(0, 0, 0, 0.15);\n",
              "      filter: drop-shadow(0px 1px 2px rgba(0, 0, 0, 0.3));\n",
              "      fill: #FFFFFF;\n",
              "    }\n",
              "  </style>\n",
              "\n",
              "      <script>\n",
              "        const buttonEl =\n",
              "          document.querySelector('#df-2e45dfdd-b9e1-49b6-8588-16c88d62395e button.colab-df-convert');\n",
              "        buttonEl.style.display =\n",
              "          google.colab.kernel.accessAllowed ? 'block' : 'none';\n",
              "\n",
              "        async function convertToInteractive(key) {\n",
              "          const element = document.querySelector('#df-2e45dfdd-b9e1-49b6-8588-16c88d62395e');\n",
              "          const dataTable =\n",
              "            await google.colab.kernel.invokeFunction('convertToInteractive',\n",
              "                                                     [key], {});\n",
              "          if (!dataTable) return;\n",
              "\n",
              "          const docLinkHtml = 'Like what you see? Visit the ' +\n",
              "            '<a target=\"_blank\" href=https://colab.research.google.com/notebooks/data_table.ipynb>data table notebook</a>'\n",
              "            + ' to learn more about interactive tables.';\n",
              "          element.innerHTML = '';\n",
              "          dataTable['output_type'] = 'display_data';\n",
              "          await google.colab.output.renderOutput(dataTable, element);\n",
              "          const docLink = document.createElement('div');\n",
              "          docLink.innerHTML = docLinkHtml;\n",
              "          element.appendChild(docLink);\n",
              "        }\n",
              "      </script>\n",
              "    </div>\n",
              "  </div>\n",
              "  "
            ]
          },
          "metadata": {},
          "execution_count": 217
        }
      ]
    },
    {
      "cell_type": "code",
      "source": [
        "# Penerapan LabelEncoder pada kolom yang sudah diambil\n",
        "le = preprocessing.LabelEncoder()\n",
        "encode = object_clm.apply(le.fit_transform)\n",
        "encode.head()"
      ],
      "metadata": {
        "colab": {
          "base_uri": "https://localhost:8080/",
          "height": 206
        },
        "id": "JDxgDqCJ1taZ",
        "outputId": "02de75db-fec6-41fc-aceb-ef5731e97514"
      },
      "execution_count": null,
      "outputs": [
        {
          "output_type": "execute_result",
          "data": {
            "text/plain": [
              "   Category  City\n",
              "0         1     1\n",
              "1         1     1\n",
              "2         4     1\n",
              "3         4     1\n",
              "4         4     1"
            ],
            "text/html": [
              "\n",
              "  <div id=\"df-b1fa27cf-5fa0-4d9f-8486-ab43e4ef00f6\">\n",
              "    <div class=\"colab-df-container\">\n",
              "      <div>\n",
              "<style scoped>\n",
              "    .dataframe tbody tr th:only-of-type {\n",
              "        vertical-align: middle;\n",
              "    }\n",
              "\n",
              "    .dataframe tbody tr th {\n",
              "        vertical-align: top;\n",
              "    }\n",
              "\n",
              "    .dataframe thead th {\n",
              "        text-align: right;\n",
              "    }\n",
              "</style>\n",
              "<table border=\"1\" class=\"dataframe\">\n",
              "  <thead>\n",
              "    <tr style=\"text-align: right;\">\n",
              "      <th></th>\n",
              "      <th>Category</th>\n",
              "      <th>City</th>\n",
              "    </tr>\n",
              "  </thead>\n",
              "  <tbody>\n",
              "    <tr>\n",
              "      <th>0</th>\n",
              "      <td>1</td>\n",
              "      <td>1</td>\n",
              "    </tr>\n",
              "    <tr>\n",
              "      <th>1</th>\n",
              "      <td>1</td>\n",
              "      <td>1</td>\n",
              "    </tr>\n",
              "    <tr>\n",
              "      <th>2</th>\n",
              "      <td>4</td>\n",
              "      <td>1</td>\n",
              "    </tr>\n",
              "    <tr>\n",
              "      <th>3</th>\n",
              "      <td>4</td>\n",
              "      <td>1</td>\n",
              "    </tr>\n",
              "    <tr>\n",
              "      <th>4</th>\n",
              "      <td>4</td>\n",
              "      <td>1</td>\n",
              "    </tr>\n",
              "  </tbody>\n",
              "</table>\n",
              "</div>\n",
              "      <button class=\"colab-df-convert\" onclick=\"convertToInteractive('df-b1fa27cf-5fa0-4d9f-8486-ab43e4ef00f6')\"\n",
              "              title=\"Convert this dataframe to an interactive table.\"\n",
              "              style=\"display:none;\">\n",
              "        \n",
              "  <svg xmlns=\"http://www.w3.org/2000/svg\" height=\"24px\"viewBox=\"0 0 24 24\"\n",
              "       width=\"24px\">\n",
              "    <path d=\"M0 0h24v24H0V0z\" fill=\"none\"/>\n",
              "    <path d=\"M18.56 5.44l.94 2.06.94-2.06 2.06-.94-2.06-.94-.94-2.06-.94 2.06-2.06.94zm-11 1L8.5 8.5l.94-2.06 2.06-.94-2.06-.94L8.5 2.5l-.94 2.06-2.06.94zm10 10l.94 2.06.94-2.06 2.06-.94-2.06-.94-.94-2.06-.94 2.06-2.06.94z\"/><path d=\"M17.41 7.96l-1.37-1.37c-.4-.4-.92-.59-1.43-.59-.52 0-1.04.2-1.43.59L10.3 9.45l-7.72 7.72c-.78.78-.78 2.05 0 2.83L4 21.41c.39.39.9.59 1.41.59.51 0 1.02-.2 1.41-.59l7.78-7.78 2.81-2.81c.8-.78.8-2.07 0-2.86zM5.41 20L4 18.59l7.72-7.72 1.47 1.35L5.41 20z\"/>\n",
              "  </svg>\n",
              "      </button>\n",
              "      \n",
              "  <style>\n",
              "    .colab-df-container {\n",
              "      display:flex;\n",
              "      flex-wrap:wrap;\n",
              "      gap: 12px;\n",
              "    }\n",
              "\n",
              "    .colab-df-convert {\n",
              "      background-color: #E8F0FE;\n",
              "      border: none;\n",
              "      border-radius: 50%;\n",
              "      cursor: pointer;\n",
              "      display: none;\n",
              "      fill: #1967D2;\n",
              "      height: 32px;\n",
              "      padding: 0 0 0 0;\n",
              "      width: 32px;\n",
              "    }\n",
              "\n",
              "    .colab-df-convert:hover {\n",
              "      background-color: #E2EBFA;\n",
              "      box-shadow: 0px 1px 2px rgba(60, 64, 67, 0.3), 0px 1px 3px 1px rgba(60, 64, 67, 0.15);\n",
              "      fill: #174EA6;\n",
              "    }\n",
              "\n",
              "    [theme=dark] .colab-df-convert {\n",
              "      background-color: #3B4455;\n",
              "      fill: #D2E3FC;\n",
              "    }\n",
              "\n",
              "    [theme=dark] .colab-df-convert:hover {\n",
              "      background-color: #434B5C;\n",
              "      box-shadow: 0px 1px 3px 1px rgba(0, 0, 0, 0.15);\n",
              "      filter: drop-shadow(0px 1px 2px rgba(0, 0, 0, 0.3));\n",
              "      fill: #FFFFFF;\n",
              "    }\n",
              "  </style>\n",
              "\n",
              "      <script>\n",
              "        const buttonEl =\n",
              "          document.querySelector('#df-b1fa27cf-5fa0-4d9f-8486-ab43e4ef00f6 button.colab-df-convert');\n",
              "        buttonEl.style.display =\n",
              "          google.colab.kernel.accessAllowed ? 'block' : 'none';\n",
              "\n",
              "        async function convertToInteractive(key) {\n",
              "          const element = document.querySelector('#df-b1fa27cf-5fa0-4d9f-8486-ab43e4ef00f6');\n",
              "          const dataTable =\n",
              "            await google.colab.kernel.invokeFunction('convertToInteractive',\n",
              "                                                     [key], {});\n",
              "          if (!dataTable) return;\n",
              "\n",
              "          const docLinkHtml = 'Like what you see? Visit the ' +\n",
              "            '<a target=\"_blank\" href=https://colab.research.google.com/notebooks/data_table.ipynb>data table notebook</a>'\n",
              "            + ' to learn more about interactive tables.';\n",
              "          element.innerHTML = '';\n",
              "          dataTable['output_type'] = 'display_data';\n",
              "          await google.colab.output.renderOutput(dataTable, element);\n",
              "          const docLink = document.createElement('div');\n",
              "          docLink.innerHTML = docLinkHtml;\n",
              "          element.appendChild(docLink);\n",
              "        }\n",
              "      </script>\n",
              "    </div>\n",
              "  </div>\n",
              "  "
            ]
          },
          "metadata": {},
          "execution_count": 218
        }
      ]
    },
    {
      "cell_type": "code",
      "source": [
        "# Menggabungkan hasil proses LabelEncoder kembali ke dataframe X\n",
        "X = X.drop(columns=['Category', 'City'])\n",
        "X = pd.concat([X, encode], axis = 1)\n",
        "X.head()"
      ],
      "metadata": {
        "colab": {
          "base_uri": "https://localhost:8080/",
          "height": 206
        },
        "id": "NCOHzNlR9_2z",
        "outputId": "d61cfffe-7297-4352-ddb3-558429c21432"
      },
      "execution_count": null,
      "outputs": [
        {
          "output_type": "execute_result",
          "data": {
            "text/plain": [
              "    Price  Time_Minutes  Category  City\n",
              "0   20000          15.0         1     1\n",
              "1       0          90.0         1     1\n",
              "2  270000         360.0         4     1\n",
              "3   10000           NaN         4     1\n",
              "4   94000          60.0         4     1"
            ],
            "text/html": [
              "\n",
              "  <div id=\"df-c429b527-8aa3-4b15-9813-176b7fbdbb70\">\n",
              "    <div class=\"colab-df-container\">\n",
              "      <div>\n",
              "<style scoped>\n",
              "    .dataframe tbody tr th:only-of-type {\n",
              "        vertical-align: middle;\n",
              "    }\n",
              "\n",
              "    .dataframe tbody tr th {\n",
              "        vertical-align: top;\n",
              "    }\n",
              "\n",
              "    .dataframe thead th {\n",
              "        text-align: right;\n",
              "    }\n",
              "</style>\n",
              "<table border=\"1\" class=\"dataframe\">\n",
              "  <thead>\n",
              "    <tr style=\"text-align: right;\">\n",
              "      <th></th>\n",
              "      <th>Price</th>\n",
              "      <th>Time_Minutes</th>\n",
              "      <th>Category</th>\n",
              "      <th>City</th>\n",
              "    </tr>\n",
              "  </thead>\n",
              "  <tbody>\n",
              "    <tr>\n",
              "      <th>0</th>\n",
              "      <td>20000</td>\n",
              "      <td>15.0</td>\n",
              "      <td>1</td>\n",
              "      <td>1</td>\n",
              "    </tr>\n",
              "    <tr>\n",
              "      <th>1</th>\n",
              "      <td>0</td>\n",
              "      <td>90.0</td>\n",
              "      <td>1</td>\n",
              "      <td>1</td>\n",
              "    </tr>\n",
              "    <tr>\n",
              "      <th>2</th>\n",
              "      <td>270000</td>\n",
              "      <td>360.0</td>\n",
              "      <td>4</td>\n",
              "      <td>1</td>\n",
              "    </tr>\n",
              "    <tr>\n",
              "      <th>3</th>\n",
              "      <td>10000</td>\n",
              "      <td>NaN</td>\n",
              "      <td>4</td>\n",
              "      <td>1</td>\n",
              "    </tr>\n",
              "    <tr>\n",
              "      <th>4</th>\n",
              "      <td>94000</td>\n",
              "      <td>60.0</td>\n",
              "      <td>4</td>\n",
              "      <td>1</td>\n",
              "    </tr>\n",
              "  </tbody>\n",
              "</table>\n",
              "</div>\n",
              "      <button class=\"colab-df-convert\" onclick=\"convertToInteractive('df-c429b527-8aa3-4b15-9813-176b7fbdbb70')\"\n",
              "              title=\"Convert this dataframe to an interactive table.\"\n",
              "              style=\"display:none;\">\n",
              "        \n",
              "  <svg xmlns=\"http://www.w3.org/2000/svg\" height=\"24px\"viewBox=\"0 0 24 24\"\n",
              "       width=\"24px\">\n",
              "    <path d=\"M0 0h24v24H0V0z\" fill=\"none\"/>\n",
              "    <path d=\"M18.56 5.44l.94 2.06.94-2.06 2.06-.94-2.06-.94-.94-2.06-.94 2.06-2.06.94zm-11 1L8.5 8.5l.94-2.06 2.06-.94-2.06-.94L8.5 2.5l-.94 2.06-2.06.94zm10 10l.94 2.06.94-2.06 2.06-.94-2.06-.94-.94-2.06-.94 2.06-2.06.94z\"/><path d=\"M17.41 7.96l-1.37-1.37c-.4-.4-.92-.59-1.43-.59-.52 0-1.04.2-1.43.59L10.3 9.45l-7.72 7.72c-.78.78-.78 2.05 0 2.83L4 21.41c.39.39.9.59 1.41.59.51 0 1.02-.2 1.41-.59l7.78-7.78 2.81-2.81c.8-.78.8-2.07 0-2.86zM5.41 20L4 18.59l7.72-7.72 1.47 1.35L5.41 20z\"/>\n",
              "  </svg>\n",
              "      </button>\n",
              "      \n",
              "  <style>\n",
              "    .colab-df-container {\n",
              "      display:flex;\n",
              "      flex-wrap:wrap;\n",
              "      gap: 12px;\n",
              "    }\n",
              "\n",
              "    .colab-df-convert {\n",
              "      background-color: #E8F0FE;\n",
              "      border: none;\n",
              "      border-radius: 50%;\n",
              "      cursor: pointer;\n",
              "      display: none;\n",
              "      fill: #1967D2;\n",
              "      height: 32px;\n",
              "      padding: 0 0 0 0;\n",
              "      width: 32px;\n",
              "    }\n",
              "\n",
              "    .colab-df-convert:hover {\n",
              "      background-color: #E2EBFA;\n",
              "      box-shadow: 0px 1px 2px rgba(60, 64, 67, 0.3), 0px 1px 3px 1px rgba(60, 64, 67, 0.15);\n",
              "      fill: #174EA6;\n",
              "    }\n",
              "\n",
              "    [theme=dark] .colab-df-convert {\n",
              "      background-color: #3B4455;\n",
              "      fill: #D2E3FC;\n",
              "    }\n",
              "\n",
              "    [theme=dark] .colab-df-convert:hover {\n",
              "      background-color: #434B5C;\n",
              "      box-shadow: 0px 1px 3px 1px rgba(0, 0, 0, 0.15);\n",
              "      filter: drop-shadow(0px 1px 2px rgba(0, 0, 0, 0.3));\n",
              "      fill: #FFFFFF;\n",
              "    }\n",
              "  </style>\n",
              "\n",
              "      <script>\n",
              "        const buttonEl =\n",
              "          document.querySelector('#df-c429b527-8aa3-4b15-9813-176b7fbdbb70 button.colab-df-convert');\n",
              "        buttonEl.style.display =\n",
              "          google.colab.kernel.accessAllowed ? 'block' : 'none';\n",
              "\n",
              "        async function convertToInteractive(key) {\n",
              "          const element = document.querySelector('#df-c429b527-8aa3-4b15-9813-176b7fbdbb70');\n",
              "          const dataTable =\n",
              "            await google.colab.kernel.invokeFunction('convertToInteractive',\n",
              "                                                     [key], {});\n",
              "          if (!dataTable) return;\n",
              "\n",
              "          const docLinkHtml = 'Like what you see? Visit the ' +\n",
              "            '<a target=\"_blank\" href=https://colab.research.google.com/notebooks/data_table.ipynb>data table notebook</a>'\n",
              "            + ' to learn more about interactive tables.';\n",
              "          element.innerHTML = '';\n",
              "          dataTable['output_type'] = 'display_data';\n",
              "          await google.colab.output.renderOutput(dataTable, element);\n",
              "          const docLink = document.createElement('div');\n",
              "          docLink.innerHTML = docLinkHtml;\n",
              "          element.appendChild(docLink);\n",
              "        }\n",
              "      </script>\n",
              "    </div>\n",
              "  </div>\n",
              "  "
            ]
          },
          "metadata": {},
          "execution_count": 219
        }
      ]
    },
    {
      "cell_type": "markdown",
      "source": [
        "#### Penanganan missing value"
      ],
      "metadata": {
        "id": "LegGGbTN-uRu"
      }
    },
    {
      "cell_type": "code",
      "source": [
        "# Pengecekan missing value dataframe X\n",
        "X.isna().sum()"
      ],
      "metadata": {
        "colab": {
          "base_uri": "https://localhost:8080/"
        },
        "id": "KAYSL0EUBi15",
        "outputId": "1dc0266b-7c89-4f91-828d-45982e39cb5d"
      },
      "execution_count": null,
      "outputs": [
        {
          "output_type": "execute_result",
          "data": {
            "text/plain": [
              "Price             0\n",
              "Time_Minutes    232\n",
              "Category          0\n",
              "City              0\n",
              "dtype: int64"
            ]
          },
          "metadata": {},
          "execution_count": 220
        }
      ]
    },
    {
      "cell_type": "code",
      "source": [
        "# Pengecekan missing value dataframe y\n",
        "y.isna().sum()"
      ],
      "metadata": {
        "colab": {
          "base_uri": "https://localhost:8080/"
        },
        "id": "V1JEQU1VBtcy",
        "outputId": "77bb971c-682f-4573-a04f-2b8a9c0b875e"
      },
      "execution_count": null,
      "outputs": [
        {
          "output_type": "execute_result",
          "data": {
            "text/plain": [
              "0"
            ]
          },
          "metadata": {},
          "execution_count": 221
        }
      ]
    },
    {
      "cell_type": "markdown",
      "source": [
        "Penanganan missin value dilakukan karena terdapat kolom yang memiliki nilai missing value terlalu besar, yakni 232 baris data pada kolom \"Time_minutes\". Missing value diganti dengan nilai rata-rata dari data pada kolom tersebut."
      ],
      "metadata": {
        "id": "wkV_PVElkloq"
      }
    },
    {
      "cell_type": "code",
      "source": [
        "# Penanganan missing value menggunakan Simpleimputer\n",
        "imputer = SimpleImputer(missing_values=np.nan, strategy='mean')\n",
        "X.iloc[:,1:2] = imputer.fit_transform(X[[\"Time_Minutes\"]])\n",
        "X.head()"
      ],
      "metadata": {
        "id": "dXRQMmdzxM2n",
        "colab": {
          "base_uri": "https://localhost:8080/",
          "height": 206
        },
        "outputId": "10c4e886-8385-4c8a-f7fa-3491665d0ab4"
      },
      "execution_count": null,
      "outputs": [
        {
          "output_type": "execute_result",
          "data": {
            "text/plain": [
              "    Price  Time_Minutes  Category  City\n",
              "0   20000     15.000000         1     1\n",
              "1       0     90.000000         1     1\n",
              "2  270000    360.000000         4     1\n",
              "3   10000     82.609756         4     1\n",
              "4   94000     60.000000         4     1"
            ],
            "text/html": [
              "\n",
              "  <div id=\"df-040c40c5-cc68-4033-a086-3c706dcc83f1\">\n",
              "    <div class=\"colab-df-container\">\n",
              "      <div>\n",
              "<style scoped>\n",
              "    .dataframe tbody tr th:only-of-type {\n",
              "        vertical-align: middle;\n",
              "    }\n",
              "\n",
              "    .dataframe tbody tr th {\n",
              "        vertical-align: top;\n",
              "    }\n",
              "\n",
              "    .dataframe thead th {\n",
              "        text-align: right;\n",
              "    }\n",
              "</style>\n",
              "<table border=\"1\" class=\"dataframe\">\n",
              "  <thead>\n",
              "    <tr style=\"text-align: right;\">\n",
              "      <th></th>\n",
              "      <th>Price</th>\n",
              "      <th>Time_Minutes</th>\n",
              "      <th>Category</th>\n",
              "      <th>City</th>\n",
              "    </tr>\n",
              "  </thead>\n",
              "  <tbody>\n",
              "    <tr>\n",
              "      <th>0</th>\n",
              "      <td>20000</td>\n",
              "      <td>15.000000</td>\n",
              "      <td>1</td>\n",
              "      <td>1</td>\n",
              "    </tr>\n",
              "    <tr>\n",
              "      <th>1</th>\n",
              "      <td>0</td>\n",
              "      <td>90.000000</td>\n",
              "      <td>1</td>\n",
              "      <td>1</td>\n",
              "    </tr>\n",
              "    <tr>\n",
              "      <th>2</th>\n",
              "      <td>270000</td>\n",
              "      <td>360.000000</td>\n",
              "      <td>4</td>\n",
              "      <td>1</td>\n",
              "    </tr>\n",
              "    <tr>\n",
              "      <th>3</th>\n",
              "      <td>10000</td>\n",
              "      <td>82.609756</td>\n",
              "      <td>4</td>\n",
              "      <td>1</td>\n",
              "    </tr>\n",
              "    <tr>\n",
              "      <th>4</th>\n",
              "      <td>94000</td>\n",
              "      <td>60.000000</td>\n",
              "      <td>4</td>\n",
              "      <td>1</td>\n",
              "    </tr>\n",
              "  </tbody>\n",
              "</table>\n",
              "</div>\n",
              "      <button class=\"colab-df-convert\" onclick=\"convertToInteractive('df-040c40c5-cc68-4033-a086-3c706dcc83f1')\"\n",
              "              title=\"Convert this dataframe to an interactive table.\"\n",
              "              style=\"display:none;\">\n",
              "        \n",
              "  <svg xmlns=\"http://www.w3.org/2000/svg\" height=\"24px\"viewBox=\"0 0 24 24\"\n",
              "       width=\"24px\">\n",
              "    <path d=\"M0 0h24v24H0V0z\" fill=\"none\"/>\n",
              "    <path d=\"M18.56 5.44l.94 2.06.94-2.06 2.06-.94-2.06-.94-.94-2.06-.94 2.06-2.06.94zm-11 1L8.5 8.5l.94-2.06 2.06-.94-2.06-.94L8.5 2.5l-.94 2.06-2.06.94zm10 10l.94 2.06.94-2.06 2.06-.94-2.06-.94-.94-2.06-.94 2.06-2.06.94z\"/><path d=\"M17.41 7.96l-1.37-1.37c-.4-.4-.92-.59-1.43-.59-.52 0-1.04.2-1.43.59L10.3 9.45l-7.72 7.72c-.78.78-.78 2.05 0 2.83L4 21.41c.39.39.9.59 1.41.59.51 0 1.02-.2 1.41-.59l7.78-7.78 2.81-2.81c.8-.78.8-2.07 0-2.86zM5.41 20L4 18.59l7.72-7.72 1.47 1.35L5.41 20z\"/>\n",
              "  </svg>\n",
              "      </button>\n",
              "      \n",
              "  <style>\n",
              "    .colab-df-container {\n",
              "      display:flex;\n",
              "      flex-wrap:wrap;\n",
              "      gap: 12px;\n",
              "    }\n",
              "\n",
              "    .colab-df-convert {\n",
              "      background-color: #E8F0FE;\n",
              "      border: none;\n",
              "      border-radius: 50%;\n",
              "      cursor: pointer;\n",
              "      display: none;\n",
              "      fill: #1967D2;\n",
              "      height: 32px;\n",
              "      padding: 0 0 0 0;\n",
              "      width: 32px;\n",
              "    }\n",
              "\n",
              "    .colab-df-convert:hover {\n",
              "      background-color: #E2EBFA;\n",
              "      box-shadow: 0px 1px 2px rgba(60, 64, 67, 0.3), 0px 1px 3px 1px rgba(60, 64, 67, 0.15);\n",
              "      fill: #174EA6;\n",
              "    }\n",
              "\n",
              "    [theme=dark] .colab-df-convert {\n",
              "      background-color: #3B4455;\n",
              "      fill: #D2E3FC;\n",
              "    }\n",
              "\n",
              "    [theme=dark] .colab-df-convert:hover {\n",
              "      background-color: #434B5C;\n",
              "      box-shadow: 0px 1px 3px 1px rgba(0, 0, 0, 0.15);\n",
              "      filter: drop-shadow(0px 1px 2px rgba(0, 0, 0, 0.3));\n",
              "      fill: #FFFFFF;\n",
              "    }\n",
              "  </style>\n",
              "\n",
              "      <script>\n",
              "        const buttonEl =\n",
              "          document.querySelector('#df-040c40c5-cc68-4033-a086-3c706dcc83f1 button.colab-df-convert');\n",
              "        buttonEl.style.display =\n",
              "          google.colab.kernel.accessAllowed ? 'block' : 'none';\n",
              "\n",
              "        async function convertToInteractive(key) {\n",
              "          const element = document.querySelector('#df-040c40c5-cc68-4033-a086-3c706dcc83f1');\n",
              "          const dataTable =\n",
              "            await google.colab.kernel.invokeFunction('convertToInteractive',\n",
              "                                                     [key], {});\n",
              "          if (!dataTable) return;\n",
              "\n",
              "          const docLinkHtml = 'Like what you see? Visit the ' +\n",
              "            '<a target=\"_blank\" href=https://colab.research.google.com/notebooks/data_table.ipynb>data table notebook</a>'\n",
              "            + ' to learn more about interactive tables.';\n",
              "          element.innerHTML = '';\n",
              "          dataTable['output_type'] = 'display_data';\n",
              "          await google.colab.output.renderOutput(dataTable, element);\n",
              "          const docLink = document.createElement('div');\n",
              "          docLink.innerHTML = docLinkHtml;\n",
              "          element.appendChild(docLink);\n",
              "        }\n",
              "      </script>\n",
              "    </div>\n",
              "  </div>\n",
              "  "
            ]
          },
          "metadata": {},
          "execution_count": 222
        }
      ]
    },
    {
      "cell_type": "code",
      "source": [
        "# Pengecekan ulang missing value\n",
        "X.isna().sum()"
      ],
      "metadata": {
        "colab": {
          "base_uri": "https://localhost:8080/"
        },
        "id": "hntpJphWBx58",
        "outputId": "58bf2df6-f785-40b9-f140-03f8dd37b8fa"
      },
      "execution_count": null,
      "outputs": [
        {
          "output_type": "execute_result",
          "data": {
            "text/plain": [
              "Price           0\n",
              "Time_Minutes    0\n",
              "Category        0\n",
              "City            0\n",
              "dtype: int64"
            ]
          },
          "metadata": {},
          "execution_count": 223
        }
      ]
    },
    {
      "cell_type": "markdown",
      "source": [
        "#### Normalisasi menggunakan MinMaxScaler dari library scikit-learn"
      ],
      "metadata": {
        "id": "eBrWlFMRB09q"
      }
    },
    {
      "cell_type": "markdown",
      "source": [
        "Normalisasi dilakukan karena data pada beberapa kolom fitur memiliki rentang nilai yang besar, seperti yang sudah ditampilkan pada bagian Exploratory Data Analysis."
      ],
      "metadata": {
        "id": "sv_9LPAJB9JT"
      }
    },
    {
      "cell_type": "code",
      "source": [
        "scaler = preprocessing.MinMaxScaler()\n",
        "X.iloc[:,:2] = scaler.fit_transform(X.iloc[:,:2])"
      ],
      "metadata": {
        "id": "rVeZwuhxDWoh"
      },
      "execution_count": null,
      "outputs": []
    },
    {
      "cell_type": "code",
      "source": [
        "# Data setelah diterapkan Normalisasi pada kolom Price dan Time Minutes\n",
        "X.head()"
      ],
      "metadata": {
        "colab": {
          "base_uri": "https://localhost:8080/",
          "height": 206
        },
        "id": "lSrOveJUDjAE",
        "outputId": "870e4a37-ff7e-4c5a-9c0f-626c2767e952"
      },
      "execution_count": null,
      "outputs": [
        {
          "output_type": "execute_result",
          "data": {
            "text/plain": [
              "      Price  Time_Minutes  Category  City\n",
              "0  0.022222      0.014286         1     1\n",
              "1  0.000000      0.228571         1     1\n",
              "2  0.300000      1.000000         4     1\n",
              "3  0.011111      0.207456         4     1\n",
              "4  0.104444      0.142857         4     1"
            ],
            "text/html": [
              "\n",
              "  <div id=\"df-a75c8454-1c8e-4128-9c7a-b0092a970a73\">\n",
              "    <div class=\"colab-df-container\">\n",
              "      <div>\n",
              "<style scoped>\n",
              "    .dataframe tbody tr th:only-of-type {\n",
              "        vertical-align: middle;\n",
              "    }\n",
              "\n",
              "    .dataframe tbody tr th {\n",
              "        vertical-align: top;\n",
              "    }\n",
              "\n",
              "    .dataframe thead th {\n",
              "        text-align: right;\n",
              "    }\n",
              "</style>\n",
              "<table border=\"1\" class=\"dataframe\">\n",
              "  <thead>\n",
              "    <tr style=\"text-align: right;\">\n",
              "      <th></th>\n",
              "      <th>Price</th>\n",
              "      <th>Time_Minutes</th>\n",
              "      <th>Category</th>\n",
              "      <th>City</th>\n",
              "    </tr>\n",
              "  </thead>\n",
              "  <tbody>\n",
              "    <tr>\n",
              "      <th>0</th>\n",
              "      <td>0.022222</td>\n",
              "      <td>0.014286</td>\n",
              "      <td>1</td>\n",
              "      <td>1</td>\n",
              "    </tr>\n",
              "    <tr>\n",
              "      <th>1</th>\n",
              "      <td>0.000000</td>\n",
              "      <td>0.228571</td>\n",
              "      <td>1</td>\n",
              "      <td>1</td>\n",
              "    </tr>\n",
              "    <tr>\n",
              "      <th>2</th>\n",
              "      <td>0.300000</td>\n",
              "      <td>1.000000</td>\n",
              "      <td>4</td>\n",
              "      <td>1</td>\n",
              "    </tr>\n",
              "    <tr>\n",
              "      <th>3</th>\n",
              "      <td>0.011111</td>\n",
              "      <td>0.207456</td>\n",
              "      <td>4</td>\n",
              "      <td>1</td>\n",
              "    </tr>\n",
              "    <tr>\n",
              "      <th>4</th>\n",
              "      <td>0.104444</td>\n",
              "      <td>0.142857</td>\n",
              "      <td>4</td>\n",
              "      <td>1</td>\n",
              "    </tr>\n",
              "  </tbody>\n",
              "</table>\n",
              "</div>\n",
              "      <button class=\"colab-df-convert\" onclick=\"convertToInteractive('df-a75c8454-1c8e-4128-9c7a-b0092a970a73')\"\n",
              "              title=\"Convert this dataframe to an interactive table.\"\n",
              "              style=\"display:none;\">\n",
              "        \n",
              "  <svg xmlns=\"http://www.w3.org/2000/svg\" height=\"24px\"viewBox=\"0 0 24 24\"\n",
              "       width=\"24px\">\n",
              "    <path d=\"M0 0h24v24H0V0z\" fill=\"none\"/>\n",
              "    <path d=\"M18.56 5.44l.94 2.06.94-2.06 2.06-.94-2.06-.94-.94-2.06-.94 2.06-2.06.94zm-11 1L8.5 8.5l.94-2.06 2.06-.94-2.06-.94L8.5 2.5l-.94 2.06-2.06.94zm10 10l.94 2.06.94-2.06 2.06-.94-2.06-.94-.94-2.06-.94 2.06-2.06.94z\"/><path d=\"M17.41 7.96l-1.37-1.37c-.4-.4-.92-.59-1.43-.59-.52 0-1.04.2-1.43.59L10.3 9.45l-7.72 7.72c-.78.78-.78 2.05 0 2.83L4 21.41c.39.39.9.59 1.41.59.51 0 1.02-.2 1.41-.59l7.78-7.78 2.81-2.81c.8-.78.8-2.07 0-2.86zM5.41 20L4 18.59l7.72-7.72 1.47 1.35L5.41 20z\"/>\n",
              "  </svg>\n",
              "      </button>\n",
              "      \n",
              "  <style>\n",
              "    .colab-df-container {\n",
              "      display:flex;\n",
              "      flex-wrap:wrap;\n",
              "      gap: 12px;\n",
              "    }\n",
              "\n",
              "    .colab-df-convert {\n",
              "      background-color: #E8F0FE;\n",
              "      border: none;\n",
              "      border-radius: 50%;\n",
              "      cursor: pointer;\n",
              "      display: none;\n",
              "      fill: #1967D2;\n",
              "      height: 32px;\n",
              "      padding: 0 0 0 0;\n",
              "      width: 32px;\n",
              "    }\n",
              "\n",
              "    .colab-df-convert:hover {\n",
              "      background-color: #E2EBFA;\n",
              "      box-shadow: 0px 1px 2px rgba(60, 64, 67, 0.3), 0px 1px 3px 1px rgba(60, 64, 67, 0.15);\n",
              "      fill: #174EA6;\n",
              "    }\n",
              "\n",
              "    [theme=dark] .colab-df-convert {\n",
              "      background-color: #3B4455;\n",
              "      fill: #D2E3FC;\n",
              "    }\n",
              "\n",
              "    [theme=dark] .colab-df-convert:hover {\n",
              "      background-color: #434B5C;\n",
              "      box-shadow: 0px 1px 3px 1px rgba(0, 0, 0, 0.15);\n",
              "      filter: drop-shadow(0px 1px 2px rgba(0, 0, 0, 0.3));\n",
              "      fill: #FFFFFF;\n",
              "    }\n",
              "  </style>\n",
              "\n",
              "      <script>\n",
              "        const buttonEl =\n",
              "          document.querySelector('#df-a75c8454-1c8e-4128-9c7a-b0092a970a73 button.colab-df-convert');\n",
              "        buttonEl.style.display =\n",
              "          google.colab.kernel.accessAllowed ? 'block' : 'none';\n",
              "\n",
              "        async function convertToInteractive(key) {\n",
              "          const element = document.querySelector('#df-a75c8454-1c8e-4128-9c7a-b0092a970a73');\n",
              "          const dataTable =\n",
              "            await google.colab.kernel.invokeFunction('convertToInteractive',\n",
              "                                                     [key], {});\n",
              "          if (!dataTable) return;\n",
              "\n",
              "          const docLinkHtml = 'Like what you see? Visit the ' +\n",
              "            '<a target=\"_blank\" href=https://colab.research.google.com/notebooks/data_table.ipynb>data table notebook</a>'\n",
              "            + ' to learn more about interactive tables.';\n",
              "          element.innerHTML = '';\n",
              "          dataTable['output_type'] = 'display_data';\n",
              "          await google.colab.output.renderOutput(dataTable, element);\n",
              "          const docLink = document.createElement('div');\n",
              "          docLink.innerHTML = docLinkHtml;\n",
              "          element.appendChild(docLink);\n",
              "        }\n",
              "      </script>\n",
              "    </div>\n",
              "  </div>\n",
              "  "
            ]
          },
          "metadata": {},
          "execution_count": 225
        }
      ]
    },
    {
      "cell_type": "markdown",
      "source": [
        "# Pembagian data latih dan data uji"
      ],
      "metadata": {
        "id": "8z1Ezh35DXKg"
      }
    },
    {
      "cell_type": "markdown",
      "source": [
        "Data label harus dibulatkan terlebih dahulu agar dapat diproses pada penerapan model."
      ],
      "metadata": {
        "id": "806SFGG4EBjr"
      }
    },
    {
      "cell_type": "code",
      "source": [
        "y = y.round()"
      ],
      "metadata": {
        "id": "TgBJ_WTKD1Si"
      },
      "execution_count": null,
      "outputs": []
    },
    {
      "cell_type": "markdown",
      "source": [
        "Data semula (Fitur dan Label) masing-masing dibagi menjadi 2 bagian, yakni:\n",
        "- X_train : Data Latih\n",
        "- X_test  : Data Uji\n",
        "- y_train : Label Latih\n",
        "- y_test : Label Uji\n",
        "\n",
        "Pembagian data ini menggunakan train_test_split dari library scikit-learn dengan pembagian 80% data latih dan 20% data uji."
      ],
      "metadata": {
        "id": "8brS8vRBEJGy"
      }
    },
    {
      "cell_type": "code",
      "source": [
        "from sklearn.model_selection import train_test_split\n",
        "X_train, X_test, y_train, y_test = train_test_split(X, y, test_size = 0.2, random_state=42)"
      ],
      "metadata": {
        "id": "_jaIaEsr4Mdl"
      },
      "execution_count": null,
      "outputs": []
    },
    {
      "cell_type": "markdown",
      "source": [
        "Merapikan index pada setiap data yang sudah dibagi."
      ],
      "metadata": {
        "id": "pgS_1VqzEp2F"
      }
    },
    {
      "cell_type": "code",
      "source": [
        "X_train = X_train.reset_index(drop=True)\n",
        "X_train.head(len(X_train))"
      ],
      "metadata": {
        "colab": {
          "base_uri": "https://localhost:8080/",
          "height": 424
        },
        "id": "TXYduxSeEvDQ",
        "outputId": "f45343d1-ae1a-491b-8ddd-4bfb185ce173"
      },
      "execution_count": null,
      "outputs": [
        {
          "output_type": "execute_result",
          "data": {
            "text/plain": [
              "        Price  Time_Minutes  Category  City\n",
              "0    0.000000      0.207456         2     0\n",
              "1    0.000000      0.057143         2     3\n",
              "2    0.000000      0.207456         1     1\n",
              "3    0.006667      0.314286         4     4\n",
              "4    0.011111      0.207456         2     0\n",
              "..        ...           ...       ...   ...\n",
              "344  0.005556      0.207456         1     4\n",
              "345  0.000000      0.100000         4     0\n",
              "346  0.005556      0.228571         2     2\n",
              "347  0.000000      0.207456         4     3\n",
              "348  0.000000      0.014286         4     4\n",
              "\n",
              "[349 rows x 4 columns]"
            ],
            "text/html": [
              "\n",
              "  <div id=\"df-924ae771-69c2-43aa-b780-e006ffb307a2\">\n",
              "    <div class=\"colab-df-container\">\n",
              "      <div>\n",
              "<style scoped>\n",
              "    .dataframe tbody tr th:only-of-type {\n",
              "        vertical-align: middle;\n",
              "    }\n",
              "\n",
              "    .dataframe tbody tr th {\n",
              "        vertical-align: top;\n",
              "    }\n",
              "\n",
              "    .dataframe thead th {\n",
              "        text-align: right;\n",
              "    }\n",
              "</style>\n",
              "<table border=\"1\" class=\"dataframe\">\n",
              "  <thead>\n",
              "    <tr style=\"text-align: right;\">\n",
              "      <th></th>\n",
              "      <th>Price</th>\n",
              "      <th>Time_Minutes</th>\n",
              "      <th>Category</th>\n",
              "      <th>City</th>\n",
              "    </tr>\n",
              "  </thead>\n",
              "  <tbody>\n",
              "    <tr>\n",
              "      <th>0</th>\n",
              "      <td>0.000000</td>\n",
              "      <td>0.207456</td>\n",
              "      <td>2</td>\n",
              "      <td>0</td>\n",
              "    </tr>\n",
              "    <tr>\n",
              "      <th>1</th>\n",
              "      <td>0.000000</td>\n",
              "      <td>0.057143</td>\n",
              "      <td>2</td>\n",
              "      <td>3</td>\n",
              "    </tr>\n",
              "    <tr>\n",
              "      <th>2</th>\n",
              "      <td>0.000000</td>\n",
              "      <td>0.207456</td>\n",
              "      <td>1</td>\n",
              "      <td>1</td>\n",
              "    </tr>\n",
              "    <tr>\n",
              "      <th>3</th>\n",
              "      <td>0.006667</td>\n",
              "      <td>0.314286</td>\n",
              "      <td>4</td>\n",
              "      <td>4</td>\n",
              "    </tr>\n",
              "    <tr>\n",
              "      <th>4</th>\n",
              "      <td>0.011111</td>\n",
              "      <td>0.207456</td>\n",
              "      <td>2</td>\n",
              "      <td>0</td>\n",
              "    </tr>\n",
              "    <tr>\n",
              "      <th>...</th>\n",
              "      <td>...</td>\n",
              "      <td>...</td>\n",
              "      <td>...</td>\n",
              "      <td>...</td>\n",
              "    </tr>\n",
              "    <tr>\n",
              "      <th>344</th>\n",
              "      <td>0.005556</td>\n",
              "      <td>0.207456</td>\n",
              "      <td>1</td>\n",
              "      <td>4</td>\n",
              "    </tr>\n",
              "    <tr>\n",
              "      <th>345</th>\n",
              "      <td>0.000000</td>\n",
              "      <td>0.100000</td>\n",
              "      <td>4</td>\n",
              "      <td>0</td>\n",
              "    </tr>\n",
              "    <tr>\n",
              "      <th>346</th>\n",
              "      <td>0.005556</td>\n",
              "      <td>0.228571</td>\n",
              "      <td>2</td>\n",
              "      <td>2</td>\n",
              "    </tr>\n",
              "    <tr>\n",
              "      <th>347</th>\n",
              "      <td>0.000000</td>\n",
              "      <td>0.207456</td>\n",
              "      <td>4</td>\n",
              "      <td>3</td>\n",
              "    </tr>\n",
              "    <tr>\n",
              "      <th>348</th>\n",
              "      <td>0.000000</td>\n",
              "      <td>0.014286</td>\n",
              "      <td>4</td>\n",
              "      <td>4</td>\n",
              "    </tr>\n",
              "  </tbody>\n",
              "</table>\n",
              "<p>349 rows × 4 columns</p>\n",
              "</div>\n",
              "      <button class=\"colab-df-convert\" onclick=\"convertToInteractive('df-924ae771-69c2-43aa-b780-e006ffb307a2')\"\n",
              "              title=\"Convert this dataframe to an interactive table.\"\n",
              "              style=\"display:none;\">\n",
              "        \n",
              "  <svg xmlns=\"http://www.w3.org/2000/svg\" height=\"24px\"viewBox=\"0 0 24 24\"\n",
              "       width=\"24px\">\n",
              "    <path d=\"M0 0h24v24H0V0z\" fill=\"none\"/>\n",
              "    <path d=\"M18.56 5.44l.94 2.06.94-2.06 2.06-.94-2.06-.94-.94-2.06-.94 2.06-2.06.94zm-11 1L8.5 8.5l.94-2.06 2.06-.94-2.06-.94L8.5 2.5l-.94 2.06-2.06.94zm10 10l.94 2.06.94-2.06 2.06-.94-2.06-.94-.94-2.06-.94 2.06-2.06.94z\"/><path d=\"M17.41 7.96l-1.37-1.37c-.4-.4-.92-.59-1.43-.59-.52 0-1.04.2-1.43.59L10.3 9.45l-7.72 7.72c-.78.78-.78 2.05 0 2.83L4 21.41c.39.39.9.59 1.41.59.51 0 1.02-.2 1.41-.59l7.78-7.78 2.81-2.81c.8-.78.8-2.07 0-2.86zM5.41 20L4 18.59l7.72-7.72 1.47 1.35L5.41 20z\"/>\n",
              "  </svg>\n",
              "      </button>\n",
              "      \n",
              "  <style>\n",
              "    .colab-df-container {\n",
              "      display:flex;\n",
              "      flex-wrap:wrap;\n",
              "      gap: 12px;\n",
              "    }\n",
              "\n",
              "    .colab-df-convert {\n",
              "      background-color: #E8F0FE;\n",
              "      border: none;\n",
              "      border-radius: 50%;\n",
              "      cursor: pointer;\n",
              "      display: none;\n",
              "      fill: #1967D2;\n",
              "      height: 32px;\n",
              "      padding: 0 0 0 0;\n",
              "      width: 32px;\n",
              "    }\n",
              "\n",
              "    .colab-df-convert:hover {\n",
              "      background-color: #E2EBFA;\n",
              "      box-shadow: 0px 1px 2px rgba(60, 64, 67, 0.3), 0px 1px 3px 1px rgba(60, 64, 67, 0.15);\n",
              "      fill: #174EA6;\n",
              "    }\n",
              "\n",
              "    [theme=dark] .colab-df-convert {\n",
              "      background-color: #3B4455;\n",
              "      fill: #D2E3FC;\n",
              "    }\n",
              "\n",
              "    [theme=dark] .colab-df-convert:hover {\n",
              "      background-color: #434B5C;\n",
              "      box-shadow: 0px 1px 3px 1px rgba(0, 0, 0, 0.15);\n",
              "      filter: drop-shadow(0px 1px 2px rgba(0, 0, 0, 0.3));\n",
              "      fill: #FFFFFF;\n",
              "    }\n",
              "  </style>\n",
              "\n",
              "      <script>\n",
              "        const buttonEl =\n",
              "          document.querySelector('#df-924ae771-69c2-43aa-b780-e006ffb307a2 button.colab-df-convert');\n",
              "        buttonEl.style.display =\n",
              "          google.colab.kernel.accessAllowed ? 'block' : 'none';\n",
              "\n",
              "        async function convertToInteractive(key) {\n",
              "          const element = document.querySelector('#df-924ae771-69c2-43aa-b780-e006ffb307a2');\n",
              "          const dataTable =\n",
              "            await google.colab.kernel.invokeFunction('convertToInteractive',\n",
              "                                                     [key], {});\n",
              "          if (!dataTable) return;\n",
              "\n",
              "          const docLinkHtml = 'Like what you see? Visit the ' +\n",
              "            '<a target=\"_blank\" href=https://colab.research.google.com/notebooks/data_table.ipynb>data table notebook</a>'\n",
              "            + ' to learn more about interactive tables.';\n",
              "          element.innerHTML = '';\n",
              "          dataTable['output_type'] = 'display_data';\n",
              "          await google.colab.output.renderOutput(dataTable, element);\n",
              "          const docLink = document.createElement('div');\n",
              "          docLink.innerHTML = docLinkHtml;\n",
              "          element.appendChild(docLink);\n",
              "        }\n",
              "      </script>\n",
              "    </div>\n",
              "  </div>\n",
              "  "
            ]
          },
          "metadata": {},
          "execution_count": 228
        }
      ]
    },
    {
      "cell_type": "code",
      "source": [
        "X_test = X_test.reset_index(drop=True)\n",
        "X_test.head(len(X_test))"
      ],
      "metadata": {
        "colab": {
          "base_uri": "https://localhost:8080/",
          "height": 424
        },
        "id": "aM3IF-ykExHe",
        "outputId": "c7787bc9-fa95-46f8-aec7-56193647b727"
      },
      "execution_count": null,
      "outputs": [
        {
          "output_type": "execute_result",
          "data": {
            "text/plain": [
              "       Price  Time_Minutes  Category  City\n",
              "0   0.016667      0.057143         1     3\n",
              "1   0.000000      0.057143         4     1\n",
              "2   0.000000      0.207456         5     0\n",
              "3   0.166667      0.207456         2     0\n",
              "4   0.011111      0.207456         2     0\n",
              "..       ...           ...       ...   ...\n",
              "83  0.000000      0.100000         4     1\n",
              "84  0.022222      0.314286         4     4\n",
              "85  0.000000      0.100000         3     1\n",
              "86  0.002222      0.207456         1     1\n",
              "87  0.027778      0.014286         2     1\n",
              "\n",
              "[88 rows x 4 columns]"
            ],
            "text/html": [
              "\n",
              "  <div id=\"df-adc82994-2798-4fc8-8d6b-2315f3e46810\">\n",
              "    <div class=\"colab-df-container\">\n",
              "      <div>\n",
              "<style scoped>\n",
              "    .dataframe tbody tr th:only-of-type {\n",
              "        vertical-align: middle;\n",
              "    }\n",
              "\n",
              "    .dataframe tbody tr th {\n",
              "        vertical-align: top;\n",
              "    }\n",
              "\n",
              "    .dataframe thead th {\n",
              "        text-align: right;\n",
              "    }\n",
              "</style>\n",
              "<table border=\"1\" class=\"dataframe\">\n",
              "  <thead>\n",
              "    <tr style=\"text-align: right;\">\n",
              "      <th></th>\n",
              "      <th>Price</th>\n",
              "      <th>Time_Minutes</th>\n",
              "      <th>Category</th>\n",
              "      <th>City</th>\n",
              "    </tr>\n",
              "  </thead>\n",
              "  <tbody>\n",
              "    <tr>\n",
              "      <th>0</th>\n",
              "      <td>0.016667</td>\n",
              "      <td>0.057143</td>\n",
              "      <td>1</td>\n",
              "      <td>3</td>\n",
              "    </tr>\n",
              "    <tr>\n",
              "      <th>1</th>\n",
              "      <td>0.000000</td>\n",
              "      <td>0.057143</td>\n",
              "      <td>4</td>\n",
              "      <td>1</td>\n",
              "    </tr>\n",
              "    <tr>\n",
              "      <th>2</th>\n",
              "      <td>0.000000</td>\n",
              "      <td>0.207456</td>\n",
              "      <td>5</td>\n",
              "      <td>0</td>\n",
              "    </tr>\n",
              "    <tr>\n",
              "      <th>3</th>\n",
              "      <td>0.166667</td>\n",
              "      <td>0.207456</td>\n",
              "      <td>2</td>\n",
              "      <td>0</td>\n",
              "    </tr>\n",
              "    <tr>\n",
              "      <th>4</th>\n",
              "      <td>0.011111</td>\n",
              "      <td>0.207456</td>\n",
              "      <td>2</td>\n",
              "      <td>0</td>\n",
              "    </tr>\n",
              "    <tr>\n",
              "      <th>...</th>\n",
              "      <td>...</td>\n",
              "      <td>...</td>\n",
              "      <td>...</td>\n",
              "      <td>...</td>\n",
              "    </tr>\n",
              "    <tr>\n",
              "      <th>83</th>\n",
              "      <td>0.000000</td>\n",
              "      <td>0.100000</td>\n",
              "      <td>4</td>\n",
              "      <td>1</td>\n",
              "    </tr>\n",
              "    <tr>\n",
              "      <th>84</th>\n",
              "      <td>0.022222</td>\n",
              "      <td>0.314286</td>\n",
              "      <td>4</td>\n",
              "      <td>4</td>\n",
              "    </tr>\n",
              "    <tr>\n",
              "      <th>85</th>\n",
              "      <td>0.000000</td>\n",
              "      <td>0.100000</td>\n",
              "      <td>3</td>\n",
              "      <td>1</td>\n",
              "    </tr>\n",
              "    <tr>\n",
              "      <th>86</th>\n",
              "      <td>0.002222</td>\n",
              "      <td>0.207456</td>\n",
              "      <td>1</td>\n",
              "      <td>1</td>\n",
              "    </tr>\n",
              "    <tr>\n",
              "      <th>87</th>\n",
              "      <td>0.027778</td>\n",
              "      <td>0.014286</td>\n",
              "      <td>2</td>\n",
              "      <td>1</td>\n",
              "    </tr>\n",
              "  </tbody>\n",
              "</table>\n",
              "<p>88 rows × 4 columns</p>\n",
              "</div>\n",
              "      <button class=\"colab-df-convert\" onclick=\"convertToInteractive('df-adc82994-2798-4fc8-8d6b-2315f3e46810')\"\n",
              "              title=\"Convert this dataframe to an interactive table.\"\n",
              "              style=\"display:none;\">\n",
              "        \n",
              "  <svg xmlns=\"http://www.w3.org/2000/svg\" height=\"24px\"viewBox=\"0 0 24 24\"\n",
              "       width=\"24px\">\n",
              "    <path d=\"M0 0h24v24H0V0z\" fill=\"none\"/>\n",
              "    <path d=\"M18.56 5.44l.94 2.06.94-2.06 2.06-.94-2.06-.94-.94-2.06-.94 2.06-2.06.94zm-11 1L8.5 8.5l.94-2.06 2.06-.94-2.06-.94L8.5 2.5l-.94 2.06-2.06.94zm10 10l.94 2.06.94-2.06 2.06-.94-2.06-.94-.94-2.06-.94 2.06-2.06.94z\"/><path d=\"M17.41 7.96l-1.37-1.37c-.4-.4-.92-.59-1.43-.59-.52 0-1.04.2-1.43.59L10.3 9.45l-7.72 7.72c-.78.78-.78 2.05 0 2.83L4 21.41c.39.39.9.59 1.41.59.51 0 1.02-.2 1.41-.59l7.78-7.78 2.81-2.81c.8-.78.8-2.07 0-2.86zM5.41 20L4 18.59l7.72-7.72 1.47 1.35L5.41 20z\"/>\n",
              "  </svg>\n",
              "      </button>\n",
              "      \n",
              "  <style>\n",
              "    .colab-df-container {\n",
              "      display:flex;\n",
              "      flex-wrap:wrap;\n",
              "      gap: 12px;\n",
              "    }\n",
              "\n",
              "    .colab-df-convert {\n",
              "      background-color: #E8F0FE;\n",
              "      border: none;\n",
              "      border-radius: 50%;\n",
              "      cursor: pointer;\n",
              "      display: none;\n",
              "      fill: #1967D2;\n",
              "      height: 32px;\n",
              "      padding: 0 0 0 0;\n",
              "      width: 32px;\n",
              "    }\n",
              "\n",
              "    .colab-df-convert:hover {\n",
              "      background-color: #E2EBFA;\n",
              "      box-shadow: 0px 1px 2px rgba(60, 64, 67, 0.3), 0px 1px 3px 1px rgba(60, 64, 67, 0.15);\n",
              "      fill: #174EA6;\n",
              "    }\n",
              "\n",
              "    [theme=dark] .colab-df-convert {\n",
              "      background-color: #3B4455;\n",
              "      fill: #D2E3FC;\n",
              "    }\n",
              "\n",
              "    [theme=dark] .colab-df-convert:hover {\n",
              "      background-color: #434B5C;\n",
              "      box-shadow: 0px 1px 3px 1px rgba(0, 0, 0, 0.15);\n",
              "      filter: drop-shadow(0px 1px 2px rgba(0, 0, 0, 0.3));\n",
              "      fill: #FFFFFF;\n",
              "    }\n",
              "  </style>\n",
              "\n",
              "      <script>\n",
              "        const buttonEl =\n",
              "          document.querySelector('#df-adc82994-2798-4fc8-8d6b-2315f3e46810 button.colab-df-convert');\n",
              "        buttonEl.style.display =\n",
              "          google.colab.kernel.accessAllowed ? 'block' : 'none';\n",
              "\n",
              "        async function convertToInteractive(key) {\n",
              "          const element = document.querySelector('#df-adc82994-2798-4fc8-8d6b-2315f3e46810');\n",
              "          const dataTable =\n",
              "            await google.colab.kernel.invokeFunction('convertToInteractive',\n",
              "                                                     [key], {});\n",
              "          if (!dataTable) return;\n",
              "\n",
              "          const docLinkHtml = 'Like what you see? Visit the ' +\n",
              "            '<a target=\"_blank\" href=https://colab.research.google.com/notebooks/data_table.ipynb>data table notebook</a>'\n",
              "            + ' to learn more about interactive tables.';\n",
              "          element.innerHTML = '';\n",
              "          dataTable['output_type'] = 'display_data';\n",
              "          await google.colab.output.renderOutput(dataTable, element);\n",
              "          const docLink = document.createElement('div');\n",
              "          docLink.innerHTML = docLinkHtml;\n",
              "          element.appendChild(docLink);\n",
              "        }\n",
              "      </script>\n",
              "    </div>\n",
              "  </div>\n",
              "  "
            ]
          },
          "metadata": {},
          "execution_count": 229
        }
      ]
    },
    {
      "cell_type": "code",
      "source": [
        "y_train = y_train.reset_index(drop=True)\n",
        "y_train.head(len(y_train))"
      ],
      "metadata": {
        "colab": {
          "base_uri": "https://localhost:8080/"
        },
        "id": "wUSP7mLfEzp2",
        "outputId": "ffc5d9ec-5c22-4f1f-fb32-26664b893318"
      },
      "execution_count": null,
      "outputs": [
        {
          "output_type": "execute_result",
          "data": {
            "text/plain": [
              "0      4.0\n",
              "1      4.0\n",
              "2      4.0\n",
              "3      4.0\n",
              "4      4.0\n",
              "      ... \n",
              "344    5.0\n",
              "345    4.0\n",
              "346    4.0\n",
              "347    5.0\n",
              "348    5.0\n",
              "Name: Rating, Length: 349, dtype: float64"
            ]
          },
          "metadata": {},
          "execution_count": 230
        }
      ]
    },
    {
      "cell_type": "code",
      "source": [
        "y_test = y_test.reset_index(drop=True)\n",
        "y_test.head(len(y_test))"
      ],
      "metadata": {
        "colab": {
          "base_uri": "https://localhost:8080/"
        },
        "id": "B1Jj_TOaE0gE",
        "outputId": "3757e6d7-2844-477b-91f5-171e72fe6059"
      },
      "execution_count": null,
      "outputs": [
        {
          "output_type": "execute_result",
          "data": {
            "text/plain": [
              "0     4.0\n",
              "1     5.0\n",
              "2     5.0\n",
              "3     5.0\n",
              "4     4.0\n",
              "     ... \n",
              "83    4.0\n",
              "84    4.0\n",
              "85    4.0\n",
              "86    5.0\n",
              "87    4.0\n",
              "Name: Rating, Length: 88, dtype: float64"
            ]
          },
          "metadata": {},
          "execution_count": 231
        }
      ]
    },
    {
      "cell_type": "markdown",
      "source": [
        "# Implementasi Model"
      ],
      "metadata": {
        "id": "JmgQnQDxspAs"
      }
    },
    {
      "cell_type": "markdown",
      "source": [
        "## Decision Tree"
      ],
      "metadata": {
        "id": "teJvCWEAE2rb"
      }
    },
    {
      "cell_type": "markdown",
      "source": [
        "Penerapan algoritma Decision Tree menggunakan DecisionTreeClassifier dari library scikit-learn pada data yang sudah disiapkan."
      ],
      "metadata": {
        "id": "x7C0jzwilrrW"
      }
    },
    {
      "cell_type": "code",
      "source": [
        "from sklearn.tree import DecisionTreeClassifier\n",
        "dtc = DecisionTreeClassifier()\n",
        "dtc = dtc.fit(X_train,y_train)"
      ],
      "metadata": {
        "id": "48j2e1ujE5j7"
      },
      "execution_count": null,
      "outputs": []
    },
    {
      "cell_type": "code",
      "source": [
        "dtc.tree_.max_depth"
      ],
      "metadata": {
        "colab": {
          "base_uri": "https://localhost:8080/"
        },
        "id": "_2JQpxd_E63w",
        "outputId": "1faa11da-633a-4d0f-9390-ea77c3fe1731"
      },
      "execution_count": null,
      "outputs": [
        {
          "output_type": "execute_result",
          "data": {
            "text/plain": [
              "15"
            ]
          },
          "metadata": {},
          "execution_count": 233
        }
      ]
    },
    {
      "cell_type": "markdown",
      "source": [
        "Max depth adalah jarak maksimum antara *root* dengan *leaf* apa pun."
      ],
      "metadata": {
        "id": "argiFssWmHkB"
      }
    },
    {
      "cell_type": "code",
      "source": [
        "plt.figure(figsize=(15,10))\n",
        "plot_tree(DecisionTreeClassifier().fit(X_train, y_train), filled = True)\n",
        "plt.show()"
      ],
      "metadata": {
        "colab": {
          "base_uri": "https://localhost:8080/",
          "height": 575
        },
        "id": "4Va-HjNHE7pr",
        "outputId": "e8c0a850-a59a-483a-e192-7a5cc1fcc12c"
      },
      "execution_count": null,
      "outputs": [
        {
          "output_type": "display_data",
          "data": {
            "text/plain": [
              "<Figure size 1080x720 with 1 Axes>"
            ],
            "image/png": "[encoded data removed]"
          },
          "metadata": {}
        }
      ]
    },
    {
      "cell_type": "markdown",
      "source": [
        "Gambar diatas merupakan visualisasi Tree yang sudah ditrain menggunakan max_depth 15, data latih, data uji, dan klasifikasi dari library scikit-learn."
      ],
      "metadata": {
        "id": "irvBN7BbmhId"
      }
    },
    {
      "cell_type": "code",
      "source": [
        "y_pred = dtc.predict(X_test)\n",
        "print(\"Hasil Akurasi Menggunakan Decision Tree : \", accuracy_score(y_test, y_pred))"
      ],
      "metadata": {
        "colab": {
          "base_uri": "https://localhost:8080/"
        },
        "id": "1fzRzDUuE8sE",
        "outputId": "365dc9ee-0dda-4c03-8f46-e32027b7db81"
      },
      "execution_count": null,
      "outputs": [
        {
          "output_type": "stream",
          "name": "stdout",
          "text": [
            "Hasil Akurasi Menggunakan Decision Tree :  0.7272727272727273\n"
          ]
        }
      ]
    },
    {
      "cell_type": "code",
      "source": [
        "ax = sns.heatmap(confusion_matrix(y_test, y_pred), annot=True, cmap='Blues')\n",
        "\n",
        "ax.set_title('Seaborn Confusion Matrix with labels\\n\\n');\n",
        "ax.set_xlabel('\\nPredicted Values')\n",
        "ax.set_ylabel('Actual Values ');\n",
        "\n",
        "ax.xaxis.set_ticklabels(['False','True'])\n",
        "ax.yaxis.set_ticklabels(['False','True'])\n",
        "\n",
        "plt.show()"
      ],
      "metadata": {
        "colab": {
          "base_uri": "https://localhost:8080/",
          "height": 346
        },
        "id": "60B7me6Grmfw",
        "outputId": "702bc12d-9319-4259-9c75-6153bb48917f"
      },
      "execution_count": null,
      "outputs": [
        {
          "output_type": "display_data",
          "data": {
            "text/plain": [
              "<Figure size 432x288 with 2 Axes>"
            ],
            "image/png": "[encoded data removed]"
          },
          "metadata": {}
        }
      ]
    },
    {
      "cell_type": "markdown",
      "source": [
        "Berdasarkan confusion matrix, didapatkan nilai TP = 52, FN = 9, FP = 15, dan TN = 12."
      ],
      "metadata": {
        "id": "iUaPIAGKwKnC"
      }
    },
    {
      "cell_type": "markdown",
      "source": [
        "### Hyperparameter"
      ],
      "metadata": {
        "id": "hfRXB6T24u3u"
      }
    },
    {
      "cell_type": "code",
      "source": [
        "param_grid = {\"max_depth\": [3, None],\n",
        "              \"min_samples_leaf\": np.arange(1,9),\n",
        "              \"criterion\": [\"gini\", \"entropy\"]}"
      ],
      "metadata": {
        "id": "618XdRClFAA9"
      },
      "execution_count": null,
      "outputs": []
    },
    {
      "cell_type": "markdown",
      "source": [
        "param_grid merupakan *dictionary* yang menyimpan parameter-parameter yang dapat diterapkan saat implementasi model dan mencari nilai *hyperparameter*"
      ],
      "metadata": {
        "id": "rQZ9_97ToHb1"
      }
    },
    {
      "cell_type": "code",
      "source": [
        "grid_tree = GridSearchCV(dtc,param_grid,cv=5,refit=True,verbose=2)\n",
        "grid_tree.fit(X_train, y_train)"
      ],
      "metadata": {
        "colab": {
          "base_uri": "https://localhost:8080/"
        },
        "id": "Ex3_3-VKG1Fq",
        "outputId": "ea9fe8e5-e32e-4711-b1a7-78e90404ff9a"
      },
      "execution_count": null,
      "outputs": [
        {
          "output_type": "stream",
          "name": "stdout",
          "text": [
            "Fitting 5 folds for each of 32 candidates, totalling 160 fits\n",
            "[CV] END ....criterion=gini, max_depth=3, min_samples_leaf=1; total time=   0.0s\n",
            "[CV] END ....criterion=gini, max_depth=3, min_samples_leaf=1; total time=   0.0s\n",
            "[CV] END ....criterion=gini, max_depth=3, min_samples_leaf=1; total time=   0.0s\n",
            "[CV] END ....criterion=gini, max_depth=3, min_samples_leaf=1; total time=   0.0s\n",
            "[CV] END ....criterion=gini, max_depth=3, min_samples_leaf=1; total time=   0.0s\n",
            "[CV] END ....criterion=gini, max_depth=3, min_samples_leaf=2; total time=   0.0s\n",
            "[CV] END ....criterion=gini, max_depth=3, min_samples_leaf=2; total time=   0.0s\n",
            "[CV] END ....criterion=gini, max_depth=3, min_samples_leaf=2; total time=   0.0s\n",
            "[CV] END ....criterion=gini, max_depth=3, min_samples_leaf=2; total time=   0.0s\n",
            "[CV] END ....criterion=gini, max_depth=3, min_samples_leaf=2; total time=   0.0s\n",
            "[CV] END ....criterion=gini, max_depth=3, min_samples_leaf=3; total time=   0.0s\n",
            "[CV] END ....criterion=gini, max_depth=3, min_samples_leaf=3; total time=   0.0s\n",
            "[CV] END ....criterion=gini, max_depth=3, min_samples_leaf=3; total time=   0.0s\n",
            "[CV] END ....criterion=gini, max_depth=3, min_samples_leaf=3; total time=   0.0s\n",
            "[CV] END ....criterion=gini, max_depth=3, min_samples_leaf=3; total time=   0.0s\n",
            "[CV] END ....criterion=gini, max_depth=3, min_samples_leaf=4; total time=   0.0s\n",
            "[CV] END ....criterion=gini, max_depth=3, min_samples_leaf=4; total time=   0.0s\n",
            "[CV] END ....criterion=gini, max_depth=3, min_samples_leaf=4; total time=   0.0s\n",
            "[CV] END ....criterion=gini, max_depth=3, min_samples_leaf=4; total time=   0.0s\n",
            "[CV] END ....criterion=gini, max_depth=3, min_samples_leaf=4; total time=   0.0s\n"
          ]
        },
        {
          "output_type": "stream",
          "name": "stderr",
          "text": [
            "/usr/local/lib/python3.7/dist-packages/sklearn/model_selection/_split.py:680: UserWarning:\n",
            "\n",
            "The least populated class in y has only 1 members, which is less than n_splits=5.\n",
            "\n"
          ]
        },
        {
          "output_type": "stream",
          "name": "stdout",
          "text": [
            "[CV] END ....criterion=gini, max_depth=3, min_samples_leaf=5; total time=   0.0s\n",
            "[CV] END ....criterion=gini, max_depth=3, min_samples_leaf=5; total time=   0.0s\n",
            "[CV] END ....criterion=gini, max_depth=3, min_samples_leaf=5; total time=   0.0s\n",
            "[CV] END ....criterion=gini, max_depth=3, min_samples_leaf=5; total time=   0.0s\n",
            "[CV] END ....criterion=gini, max_depth=3, min_samples_leaf=5; total time=   0.0s\n",
            "[CV] END ....criterion=gini, max_depth=3, min_samples_leaf=6; total time=   0.0s\n",
            "[CV] END ....criterion=gini, max_depth=3, min_samples_leaf=6; total time=   0.0s\n",
            "[CV] END ....criterion=gini, max_depth=3, min_samples_leaf=6; total time=   0.0s\n",
            "[CV] END ....criterion=gini, max_depth=3, min_samples_leaf=6; total time=   0.0s\n",
            "[CV] END ....criterion=gini, max_depth=3, min_samples_leaf=6; total time=   0.0s\n",
            "[CV] END ....criterion=gini, max_depth=3, min_samples_leaf=7; total time=   0.0s\n",
            "[CV] END ....criterion=gini, max_depth=3, min_samples_leaf=7; total time=   0.0s\n",
            "[CV] END ....criterion=gini, max_depth=3, min_samples_leaf=7; total time=   0.0s\n",
            "[CV] END ....criterion=gini, max_depth=3, min_samples_leaf=7; total time=   0.0s\n",
            "[CV] END ....criterion=gini, max_depth=3, min_samples_leaf=7; total time=   0.0s\n",
            "[CV] END ....criterion=gini, max_depth=3, min_samples_leaf=8; total time=   0.0s\n",
            "[CV] END ....criterion=gini, max_depth=3, min_samples_leaf=8; total time=   0.0s\n",
            "[CV] END ....criterion=gini, max_depth=3, min_samples_leaf=8; total time=   0.0s\n",
            "[CV] END ....criterion=gini, max_depth=3, min_samples_leaf=8; total time=   0.0s\n",
            "[CV] END ....criterion=gini, max_depth=3, min_samples_leaf=8; total time=   0.0s\n",
            "[CV] END .criterion=gini, max_depth=None, min_samples_leaf=1; total time=   0.0s\n",
            "[CV] END .criterion=gini, max_depth=None, min_samples_leaf=1; total time=   0.0s\n",
            "[CV] END .criterion=gini, max_depth=None, min_samples_leaf=1; total time=   0.0s\n",
            "[CV] END .criterion=gini, max_depth=None, min_samples_leaf=1; total time=   0.0s\n",
            "[CV] END .criterion=gini, max_depth=None, min_samples_leaf=1; total time=   0.0s\n",
            "[CV] END .criterion=gini, max_depth=None, min_samples_leaf=2; total time=   0.0s\n",
            "[CV] END .criterion=gini, max_depth=None, min_samples_leaf=2; total time=   0.0s\n",
            "[CV] END .criterion=gini, max_depth=None, min_samples_leaf=2; total time=   0.0s\n",
            "[CV] END .criterion=gini, max_depth=None, min_samples_leaf=2; total time=   0.0s\n",
            "[CV] END .criterion=gini, max_depth=None, min_samples_leaf=2; total time=   0.0s\n",
            "[CV] END .criterion=gini, max_depth=None, min_samples_leaf=3; total time=   0.0s\n",
            "[CV] END .criterion=gini, max_depth=None, min_samples_leaf=3; total time=   0.0s\n",
            "[CV] END .criterion=gini, max_depth=None, min_samples_leaf=3; total time=   0.0s\n",
            "[CV] END .criterion=gini, max_depth=None, min_samples_leaf=3; total time=   0.0s\n",
            "[CV] END .criterion=gini, max_depth=None, min_samples_leaf=3; total time=   0.0s\n",
            "[CV] END .criterion=gini, max_depth=None, min_samples_leaf=4; total time=   0.0s\n",
            "[CV] END .criterion=gini, max_depth=None, min_samples_leaf=4; total time=   0.0s\n",
            "[CV] END .criterion=gini, max_depth=None, min_samples_leaf=4; total time=   0.0s\n",
            "[CV] END .criterion=gini, max_depth=None, min_samples_leaf=4; total time=   0.0s\n",
            "[CV] END .criterion=gini, max_depth=None, min_samples_leaf=4; total time=   0.0s\n",
            "[CV] END .criterion=gini, max_depth=None, min_samples_leaf=5; total time=   0.0s\n",
            "[CV] END .criterion=gini, max_depth=None, min_samples_leaf=5; total time=   0.0s\n",
            "[CV] END .criterion=gini, max_depth=None, min_samples_leaf=5; total time=   0.0s\n",
            "[CV] END .criterion=gini, max_depth=None, min_samples_leaf=5; total time=   0.0s\n",
            "[CV] END .criterion=gini, max_depth=None, min_samples_leaf=5; total time=   0.0s\n",
            "[CV] END .criterion=gini, max_depth=None, min_samples_leaf=6; total time=   0.0s\n",
            "[CV] END .criterion=gini, max_depth=None, min_samples_leaf=6; total time=   0.0s\n",
            "[CV] END .criterion=gini, max_depth=None, min_samples_leaf=6; total time=   0.0s\n",
            "[CV] END .criterion=gini, max_depth=None, min_samples_leaf=6; total time=   0.0s\n",
            "[CV] END .criterion=gini, max_depth=None, min_samples_leaf=6; total time=   0.0s\n",
            "[CV] END .criterion=gini, max_depth=None, min_samples_leaf=7; total time=   0.0s\n",
            "[CV] END .criterion=gini, max_depth=None, min_samples_leaf=7; total time=   0.0s\n",
            "[CV] END .criterion=gini, max_depth=None, min_samples_leaf=7; total time=   0.0s\n",
            "[CV] END .criterion=gini, max_depth=None, min_samples_leaf=7; total time=   0.0s\n",
            "[CV] END .criterion=gini, max_depth=None, min_samples_leaf=7; total time=   0.0s\n",
            "[CV] END .criterion=gini, max_depth=None, min_samples_leaf=8; total time=   0.0s\n",
            "[CV] END .criterion=gini, max_depth=None, min_samples_leaf=8; total time=   0.0s\n",
            "[CV] END .criterion=gini, max_depth=None, min_samples_leaf=8; total time=   0.0s\n",
            "[CV] END .criterion=gini, max_depth=None, min_samples_leaf=8; total time=   0.0s\n",
            "[CV] END .criterion=gini, max_depth=None, min_samples_leaf=8; total time=   0.0s\n",
            "[CV] END .criterion=entropy, max_depth=3, min_samples_leaf=1; total time=   0.0s\n",
            "[CV] END .criterion=entropy, max_depth=3, min_samples_leaf=1; total time=   0.0s\n",
            "[CV] END .criterion=entropy, max_depth=3, min_samples_leaf=1; total time=   0.0s\n",
            "[CV] END .criterion=entropy, max_depth=3, min_samples_leaf=1; total time=   0.0s\n",
            "[CV] END .criterion=entropy, max_depth=3, min_samples_leaf=1; total time=   0.0s\n",
            "[CV] END .criterion=entropy, max_depth=3, min_samples_leaf=2; total time=   0.0s\n",
            "[CV] END .criterion=entropy, max_depth=3, min_samples_leaf=2; total time=   0.0s\n",
            "[CV] END .criterion=entropy, max_depth=3, min_samples_leaf=2; total time=   0.0s\n",
            "[CV] END .criterion=entropy, max_depth=3, min_samples_leaf=2; total time=   0.0s\n",
            "[CV] END .criterion=entropy, max_depth=3, min_samples_leaf=2; total time=   0.0s\n",
            "[CV] END .criterion=entropy, max_depth=3, min_samples_leaf=3; total time=   0.0s\n",
            "[CV] END .criterion=entropy, max_depth=3, min_samples_leaf=3; total time=   0.0s\n",
            "[CV] END .criterion=entropy, max_depth=3, min_samples_leaf=3; total time=   0.0s\n",
            "[CV] END .criterion=entropy, max_depth=3, min_samples_leaf=3; total time=   0.0s\n",
            "[CV] END .criterion=entropy, max_depth=3, min_samples_leaf=3; total time=   0.0s\n",
            "[CV] END .criterion=entropy, max_depth=3, min_samples_leaf=4; total time=   0.0s\n",
            "[CV] END .criterion=entropy, max_depth=3, min_samples_leaf=4; total time=   0.0s\n",
            "[CV] END .criterion=entropy, max_depth=3, min_samples_leaf=4; total time=   0.0s\n",
            "[CV] END .criterion=entropy, max_depth=3, min_samples_leaf=4; total time=   0.0s\n",
            "[CV] END .criterion=entropy, max_depth=3, min_samples_leaf=4; total time=   0.0s\n",
            "[CV] END .criterion=entropy, max_depth=3, min_samples_leaf=5; total time=   0.0s\n",
            "[CV] END .criterion=entropy, max_depth=3, min_samples_leaf=5; total time=   0.0s\n",
            "[CV] END .criterion=entropy, max_depth=3, min_samples_leaf=5; total time=   0.0s\n",
            "[CV] END .criterion=entropy, max_depth=3, min_samples_leaf=5; total time=   0.0s\n",
            "[CV] END .criterion=entropy, max_depth=3, min_samples_leaf=5; total time=   0.0s\n",
            "[CV] END .criterion=entropy, max_depth=3, min_samples_leaf=6; total time=   0.0s\n",
            "[CV] END .criterion=entropy, max_depth=3, min_samples_leaf=6; total time=   0.0s\n",
            "[CV] END .criterion=entropy, max_depth=3, min_samples_leaf=6; total time=   0.0s\n",
            "[CV] END .criterion=entropy, max_depth=3, min_samples_leaf=6; total time=   0.0s\n",
            "[CV] END .criterion=entropy, max_depth=3, min_samples_leaf=6; total time=   0.0s\n",
            "[CV] END .criterion=entropy, max_depth=3, min_samples_leaf=7; total time=   0.0s\n",
            "[CV] END .criterion=entropy, max_depth=3, min_samples_leaf=7; total time=   0.0s\n",
            "[CV] END .criterion=entropy, max_depth=3, min_samples_leaf=7; total time=   0.0s\n",
            "[CV] END .criterion=entropy, max_depth=3, min_samples_leaf=7; total time=   0.0s\n",
            "[CV] END .criterion=entropy, max_depth=3, min_samples_leaf=7; total time=   0.0s\n",
            "[CV] END .criterion=entropy, max_depth=3, min_samples_leaf=8; total time=   0.0s\n",
            "[CV] END .criterion=entropy, max_depth=3, min_samples_leaf=8; total time=   0.0s\n",
            "[CV] END .criterion=entropy, max_depth=3, min_samples_leaf=8; total time=   0.0s\n",
            "[CV] END .criterion=entropy, max_depth=3, min_samples_leaf=8; total time=   0.0s\n",
            "[CV] END .criterion=entropy, max_depth=3, min_samples_leaf=8; total time=   0.0s\n",
            "[CV] END criterion=entropy, max_depth=None, min_samples_leaf=1; total time=   0.0s\n",
            "[CV] END criterion=entropy, max_depth=None, min_samples_leaf=1; total time=   0.0s\n",
            "[CV] END criterion=entropy, max_depth=None, min_samples_leaf=1; total time=   0.0s\n",
            "[CV] END criterion=entropy, max_depth=None, min_samples_leaf=1; total time=   0.0s\n",
            "[CV] END criterion=entropy, max_depth=None, min_samples_leaf=1; total time=   0.0s\n",
            "[CV] END criterion=entropy, max_depth=None, min_samples_leaf=2; total time=   0.0s\n",
            "[CV] END criterion=entropy, max_depth=None, min_samples_leaf=2; total time=   0.0s\n",
            "[CV] END criterion=entropy, max_depth=None, min_samples_leaf=2; total time=   0.0s\n",
            "[CV] END criterion=entropy, max_depth=None, min_samples_leaf=2; total time=   0.0s\n",
            "[CV] END criterion=entropy, max_depth=None, min_samples_leaf=2; total time=   0.0s\n",
            "[CV] END criterion=entropy, max_depth=None, min_samples_leaf=3; total time=   0.0s\n",
            "[CV] END criterion=entropy, max_depth=None, min_samples_leaf=3; total time=   0.0s\n",
            "[CV] END criterion=entropy, max_depth=None, min_samples_leaf=3; total time=   0.0s\n",
            "[CV] END criterion=entropy, max_depth=None, min_samples_leaf=3; total time=   0.0s\n",
            "[CV] END criterion=entropy, max_depth=None, min_samples_leaf=3; total time=   0.0s\n",
            "[CV] END criterion=entropy, max_depth=None, min_samples_leaf=4; total time=   0.0s\n",
            "[CV] END criterion=entropy, max_depth=None, min_samples_leaf=4; total time=   0.0s\n",
            "[CV] END criterion=entropy, max_depth=None, min_samples_leaf=4; total time=   0.0s\n",
            "[CV] END criterion=entropy, max_depth=None, min_samples_leaf=4; total time=   0.0s\n",
            "[CV] END criterion=entropy, max_depth=None, min_samples_leaf=4; total time=   0.0s\n",
            "[CV] END criterion=entropy, max_depth=None, min_samples_leaf=5; total time=   0.0s\n",
            "[CV] END criterion=entropy, max_depth=None, min_samples_leaf=5; total time=   0.0s\n",
            "[CV] END criterion=entropy, max_depth=None, min_samples_leaf=5; total time=   0.0s\n",
            "[CV] END criterion=entropy, max_depth=None, min_samples_leaf=5; total time=   0.0s\n",
            "[CV] END criterion=entropy, max_depth=None, min_samples_leaf=5; total time=   0.0s\n",
            "[CV] END criterion=entropy, max_depth=None, min_samples_leaf=6; total time=   0.0s\n",
            "[CV] END criterion=entropy, max_depth=None, min_samples_leaf=6; total time=   0.0s\n",
            "[CV] END criterion=entropy, max_depth=None, min_samples_leaf=6; total time=   0.0s\n",
            "[CV] END criterion=entropy, max_depth=None, min_samples_leaf=6; total time=   0.0s\n",
            "[CV] END criterion=entropy, max_depth=None, min_samples_leaf=6; total time=   0.0s\n",
            "[CV] END criterion=entropy, max_depth=None, min_samples_leaf=7; total time=   0.0s\n",
            "[CV] END criterion=entropy, max_depth=None, min_samples_leaf=7; total time=   0.0s\n",
            "[CV] END criterion=entropy, max_depth=None, min_samples_leaf=7; total time=   0.0s\n",
            "[CV] END criterion=entropy, max_depth=None, min_samples_leaf=7; total time=   0.0s\n",
            "[CV] END criterion=entropy, max_depth=None, min_samples_leaf=7; total time=   0.0s\n",
            "[CV] END criterion=entropy, max_depth=None, min_samples_leaf=8; total time=   0.0s\n",
            "[CV] END criterion=entropy, max_depth=None, min_samples_leaf=8; total time=   0.0s\n",
            "[CV] END criterion=entropy, max_depth=None, min_samples_leaf=8; total time=   0.0s\n",
            "[CV] END criterion=entropy, max_depth=None, min_samples_leaf=8; total time=   0.0s\n",
            "[CV] END criterion=entropy, max_depth=None, min_samples_leaf=8; total time=   0.0s\n"
          ]
        },
        {
          "output_type": "execute_result",
          "data": {
            "text/plain": [
              "GridSearchCV(cv=5, estimator=DecisionTreeClassifier(),\n",
              "             param_grid={'criterion': ['gini', 'entropy'],\n",
              "                         'max_depth': [3, None],\n",
              "                         'min_samples_leaf': array([1, 2, 3, 4, 5, 6, 7, 8])},\n",
              "             verbose=2)"
            ]
          },
          "metadata": {},
          "execution_count": 238
        }
      ]
    },
    {
      "cell_type": "code",
      "source": [
        "print(grid_tree.best_estimator_)"
      ],
      "metadata": {
        "colab": {
          "base_uri": "https://localhost:8080/"
        },
        "id": "hVwLn49bFNfR",
        "outputId": "c69b9204-eee4-400e-8b55-b1e8bc6fb744"
      },
      "execution_count": null,
      "outputs": [
        {
          "output_type": "stream",
          "name": "stdout",
          "text": [
            "DecisionTreeClassifier(max_depth=3, min_samples_leaf=2)\n"
          ]
        }
      ]
    },
    {
      "cell_type": "code",
      "source": [
        "grid_predictions = grid_tree.predict(X_test)"
      ],
      "metadata": {
        "id": "8kzq4iwa48rF"
      },
      "execution_count": null,
      "outputs": []
    },
    {
      "cell_type": "markdown",
      "source": [
        "Dengan menggunakan GridSearchCV dari library scikit-learn, didapatkan hyperparameter untuk Decision Tree adalah max_depth=3 dan min_samples_leaf=2."
      ],
      "metadata": {
        "id": "gBKiBg0Iojyv"
      }
    },
    {
      "cell_type": "markdown",
      "source": [
        "### Evaluasi"
      ],
      "metadata": {
        "id": "zsUiMk3i5LOI"
      }
    },
    {
      "cell_type": "code",
      "source": [
        "ax = sns.heatmap(confusion_matrix(y_test, grid_predictions), annot=True, cmap='Blues')\n",
        "\n",
        "ax.set_title('Seaborn Confusion Matrix with labels\\n\\n');\n",
        "ax.set_xlabel('\\nPredicted Values')\n",
        "ax.set_ylabel('Actual Values ');\n",
        "\n",
        "ax.xaxis.set_ticklabels(['False','True'])\n",
        "ax.yaxis.set_ticklabels(['False','True'])\n",
        "\n",
        "plt.show()"
      ],
      "metadata": {
        "colab": {
          "base_uri": "https://localhost:8080/",
          "height": 346
        },
        "id": "J4CIYRCJsAex",
        "outputId": "a327928e-5a58-4889-f7a2-c86fc5a75fa5"
      },
      "execution_count": null,
      "outputs": [
        {
          "output_type": "display_data",
          "data": {
            "text/plain": [
              "<Figure size 432x288 with 2 Axes>"
            ],
            "image/png": "[encoded data removed]"
          },
          "metadata": {}
        }
      ]
    },
    {
      "cell_type": "markdown",
      "source": [
        "Berdasarkan confusion matrix, didapatkan nilai TP = 61, FN = 0, FP = 21, dan TN = 6."
      ],
      "metadata": {
        "id": "8b0CjRXZwbSk"
      }
    },
    {
      "cell_type": "code",
      "source": [
        "print(classification_report(y_test,grid_predictions))"
      ],
      "metadata": {
        "colab": {
          "base_uri": "https://localhost:8080/"
        },
        "id": "97QowwHBJyUq",
        "outputId": "425fcfa8-0df5-43b7-c321-0156f358a49e"
      },
      "execution_count": null,
      "outputs": [
        {
          "output_type": "stream",
          "name": "stdout",
          "text": [
            "              precision    recall  f1-score   support\n",
            "\n",
            "         4.0       0.74      1.00      0.85        61\n",
            "         5.0       1.00      0.22      0.36        27\n",
            "\n",
            "    accuracy                           0.76        88\n",
            "   macro avg       0.87      0.61      0.61        88\n",
            "weighted avg       0.82      0.76      0.70        88\n",
            "\n"
          ]
        }
      ]
    },
    {
      "cell_type": "markdown",
      "source": [
        "Model dijalankan kembali dengan hyperparameter yang sudah didapatkan. Hasil yang didapatkan dapat dilihat dari classification_report diatas."
      ],
      "metadata": {
        "id": "BS0JJzdxo01Z"
      }
    },
    {
      "cell_type": "markdown",
      "source": [
        "## Support Vector Machine (SVM)"
      ],
      "metadata": {
        "id": "e-9Rr-n1FRuN"
      }
    },
    {
      "cell_type": "markdown",
      "source": [
        "Penerapan algoritma SVM menggunakan SVC dari library scikit-learn pada data yang sudah disiapkan."
      ],
      "metadata": {
        "id": "_SDqbddxpRZB"
      }
    },
    {
      "cell_type": "code",
      "source": [
        "from sklearn.svm import SVC\n",
        "svm = SVC()\n",
        "svm.fit(X_train, y_train)"
      ],
      "metadata": {
        "colab": {
          "base_uri": "https://localhost:8080/"
        },
        "id": "B23-zp5cFWPi",
        "outputId": "24184ff6-a907-4ee1-d83d-2f435f83f882"
      },
      "execution_count": null,
      "outputs": [
        {
          "output_type": "execute_result",
          "data": {
            "text/plain": [
              "SVC()"
            ]
          },
          "metadata": {},
          "execution_count": 243
        }
      ]
    },
    {
      "cell_type": "code",
      "source": [
        "y_pred = svm.predict(X_test)\n",
        "print(\"Hasil Akurasi SVM : \", accuracy_score(y_test, y_pred))"
      ],
      "metadata": {
        "colab": {
          "base_uri": "https://localhost:8080/"
        },
        "id": "1NzWrvwrFXWH",
        "outputId": "5a3468eb-1914-431e-9bb7-380741890b67"
      },
      "execution_count": null,
      "outputs": [
        {
          "output_type": "stream",
          "name": "stdout",
          "text": [
            "Hasil Akurasi SVM :  0.6931818181818182\n"
          ]
        }
      ]
    },
    {
      "cell_type": "markdown",
      "source": [
        "Hasil akurasi yang didapatkan dari dataset yang sudah dimasukkan ke dalam algoritma dengan parameter kosong adalah 0.69\n"
      ],
      "metadata": {
        "id": "I0o4w9XUpXya"
      }
    },
    {
      "cell_type": "code",
      "source": [
        "ax = sns.heatmap(confusion_matrix(y_test, y_pred), annot=True, cmap='Blues')\n",
        "\n",
        "ax.set_title('Seaborn Confusion Matrix with labels\\n\\n');\n",
        "ax.set_xlabel('\\nPredicted Values')\n",
        "ax.set_ylabel('Actual Values ');\n",
        "\n",
        "ax.xaxis.set_ticklabels(['False','True'])\n",
        "ax.yaxis.set_ticklabels(['False','True'])\n",
        "\n",
        "plt.show()"
      ],
      "metadata": {
        "colab": {
          "base_uri": "https://localhost:8080/",
          "height": 346
        },
        "id": "kn43hPKBsUMC",
        "outputId": "6af77382-3ebd-4d66-ea8e-e6ac40897043"
      },
      "execution_count": null,
      "outputs": [
        {
          "output_type": "display_data",
          "data": {
            "text/plain": [
              "<Figure size 432x288 with 2 Axes>"
            ],
            "image/png": "[encoded data removed]"
          },
          "metadata": {}
        }
      ]
    },
    {
      "cell_type": "markdown",
      "source": [
        "Berdasarkan confusion matrix, didapatkan nilai TP = 61, FN = 0, FP = 27, dan TN = 0."
      ],
      "metadata": {
        "id": "R0XPJAVawm5N"
      }
    },
    {
      "cell_type": "markdown",
      "source": [
        "### Hyperparameter"
      ],
      "metadata": {
        "id": "CQ_FVmb11wgv"
      }
    },
    {
      "cell_type": "code",
      "source": [
        "param_grid = {'C': [0.1,1, 10, 100], \n",
        "              'gamma': [1,0.1,0.01,0.001],\n",
        "              'kernel': ['rbf', 'poly', 'sigmoid']\n",
        "              }"
      ],
      "metadata": {
        "id": "MmLVB5ZhFY2e"
      },
      "execution_count": null,
      "outputs": []
    },
    {
      "cell_type": "markdown",
      "source": [
        "param_grid merupakan *dictionary* yang menyimpan parameter-parameter yang dapat diterapkan saat implementasi model dan mencari nilai *hyperparameter*"
      ],
      "metadata": {
        "id": "5cmTbdYWpokM"
      }
    },
    {
      "cell_type": "code",
      "source": [
        "grid = GridSearchCV(SVC(),param_grid,cv=5,refit=True,verbose=2)\n",
        "grid.fit(X_train, y_train)"
      ],
      "metadata": {
        "colab": {
          "base_uri": "https://localhost:8080/"
        },
        "id": "ms8sO2K7FaSm",
        "outputId": "acec5564-0835-4b75-cdc8-b7f636393cec"
      },
      "execution_count": null,
      "outputs": [
        {
          "output_type": "stream",
          "name": "stdout",
          "text": [
            "Fitting 5 folds for each of 48 candidates, totalling 240 fits\n",
            "[CV] END .........................C=0.1, gamma=1, kernel=rbf; total time=   0.0s\n",
            "[CV] END .........................C=0.1, gamma=1, kernel=rbf; total time=   0.0s\n",
            "[CV] END .........................C=0.1, gamma=1, kernel=rbf; total time=   0.0s\n",
            "[CV] END .........................C=0.1, gamma=1, kernel=rbf; total time=   0.0s\n",
            "[CV] END .........................C=0.1, gamma=1, kernel=rbf; total time=   0.0s\n"
          ]
        },
        {
          "output_type": "stream",
          "name": "stderr",
          "text": [
            "/usr/local/lib/python3.7/dist-packages/sklearn/model_selection/_split.py:680: UserWarning:\n",
            "\n",
            "The least populated class in y has only 1 members, which is less than n_splits=5.\n",
            "\n"
          ]
        },
        {
          "output_type": "stream",
          "name": "stdout",
          "text": [
            "[CV] END ........................C=0.1, gamma=1, kernel=poly; total time=   1.2s\n",
            "[CV] END ........................C=0.1, gamma=1, kernel=poly; total time=   1.8s\n",
            "[CV] END ........................C=0.1, gamma=1, kernel=poly; total time=   0.4s\n",
            "[CV] END ........................C=0.1, gamma=1, kernel=poly; total time=   0.5s\n",
            "[CV] END ........................C=0.1, gamma=1, kernel=poly; total time=   0.6s\n",
            "[CV] END .....................C=0.1, gamma=1, kernel=sigmoid; total time=   0.0s\n",
            "[CV] END .....................C=0.1, gamma=1, kernel=sigmoid; total time=   0.0s\n",
            "[CV] END .....................C=0.1, gamma=1, kernel=sigmoid; total time=   0.0s\n",
            "[CV] END .....................C=0.1, gamma=1, kernel=sigmoid; total time=   0.0s\n",
            "[CV] END .....................C=0.1, gamma=1, kernel=sigmoid; total time=   0.0s\n",
            "[CV] END .......................C=0.1, gamma=0.1, kernel=rbf; total time=   0.0s\n",
            "[CV] END .......................C=0.1, gamma=0.1, kernel=rbf; total time=   0.0s\n",
            "[CV] END .......................C=0.1, gamma=0.1, kernel=rbf; total time=   0.0s\n",
            "[CV] END .......................C=0.1, gamma=0.1, kernel=rbf; total time=   0.0s\n",
            "[CV] END .......................C=0.1, gamma=0.1, kernel=rbf; total time=   0.0s\n",
            "[CV] END ......................C=0.1, gamma=0.1, kernel=poly; total time=   0.0s\n",
            "[CV] END ......................C=0.1, gamma=0.1, kernel=poly; total time=   0.0s\n",
            "[CV] END ......................C=0.1, gamma=0.1, kernel=poly; total time=   0.0s\n",
            "[CV] END ......................C=0.1, gamma=0.1, kernel=poly; total time=   0.0s\n",
            "[CV] END ......................C=0.1, gamma=0.1, kernel=poly; total time=   0.0s\n",
            "[CV] END ...................C=0.1, gamma=0.1, kernel=sigmoid; total time=   0.0s\n",
            "[CV] END ...................C=0.1, gamma=0.1, kernel=sigmoid; total time=   0.0s\n",
            "[CV] END ...................C=0.1, gamma=0.1, kernel=sigmoid; total time=   0.0s\n",
            "[CV] END ...................C=0.1, gamma=0.1, kernel=sigmoid; total time=   0.0s\n",
            "[CV] END ...................C=0.1, gamma=0.1, kernel=sigmoid; total time=   0.0s\n",
            "[CV] END ......................C=0.1, gamma=0.01, kernel=rbf; total time=   0.0s\n",
            "[CV] END ......................C=0.1, gamma=0.01, kernel=rbf; total time=   0.0s\n",
            "[CV] END ......................C=0.1, gamma=0.01, kernel=rbf; total time=   0.0s\n",
            "[CV] END ......................C=0.1, gamma=0.01, kernel=rbf; total time=   0.0s\n",
            "[CV] END ......................C=0.1, gamma=0.01, kernel=rbf; total time=   0.0s\n",
            "[CV] END .....................C=0.1, gamma=0.01, kernel=poly; total time=   0.0s\n",
            "[CV] END .....................C=0.1, gamma=0.01, kernel=poly; total time=   0.0s\n",
            "[CV] END .....................C=0.1, gamma=0.01, kernel=poly; total time=   0.0s\n",
            "[CV] END .....................C=0.1, gamma=0.01, kernel=poly; total time=   0.0s\n",
            "[CV] END .....................C=0.1, gamma=0.01, kernel=poly; total time=   0.0s\n",
            "[CV] END ..................C=0.1, gamma=0.01, kernel=sigmoid; total time=   0.0s\n",
            "[CV] END ..................C=0.1, gamma=0.01, kernel=sigmoid; total time=   0.0s\n",
            "[CV] END ..................C=0.1, gamma=0.01, kernel=sigmoid; total time=   0.0s\n",
            "[CV] END ..................C=0.1, gamma=0.01, kernel=sigmoid; total time=   0.0s\n",
            "[CV] END ..................C=0.1, gamma=0.01, kernel=sigmoid; total time=   0.0s\n",
            "[CV] END .....................C=0.1, gamma=0.001, kernel=rbf; total time=   0.0s\n",
            "[CV] END .....................C=0.1, gamma=0.001, kernel=rbf; total time=   0.0s\n",
            "[CV] END .....................C=0.1, gamma=0.001, kernel=rbf; total time=   0.0s\n",
            "[CV] END .....................C=0.1, gamma=0.001, kernel=rbf; total time=   0.0s\n",
            "[CV] END .....................C=0.1, gamma=0.001, kernel=rbf; total time=   0.0s\n",
            "[CV] END ....................C=0.1, gamma=0.001, kernel=poly; total time=   0.0s\n",
            "[CV] END ....................C=0.1, gamma=0.001, kernel=poly; total time=   0.0s\n",
            "[CV] END ....................C=0.1, gamma=0.001, kernel=poly; total time=   0.0s\n",
            "[CV] END ....................C=0.1, gamma=0.001, kernel=poly; total time=   0.0s\n",
            "[CV] END ....................C=0.1, gamma=0.001, kernel=poly; total time=   0.0s\n",
            "[CV] END .................C=0.1, gamma=0.001, kernel=sigmoid; total time=   0.0s\n",
            "[CV] END .................C=0.1, gamma=0.001, kernel=sigmoid; total time=   0.0s\n",
            "[CV] END .................C=0.1, gamma=0.001, kernel=sigmoid; total time=   0.0s\n",
            "[CV] END .................C=0.1, gamma=0.001, kernel=sigmoid; total time=   0.0s\n",
            "[CV] END .................C=0.1, gamma=0.001, kernel=sigmoid; total time=   0.0s\n",
            "[CV] END ...........................C=1, gamma=1, kernel=rbf; total time=   0.0s\n",
            "[CV] END ...........................C=1, gamma=1, kernel=rbf; total time=   0.0s\n",
            "[CV] END ...........................C=1, gamma=1, kernel=rbf; total time=   0.0s\n",
            "[CV] END ...........................C=1, gamma=1, kernel=rbf; total time=   0.0s\n",
            "[CV] END ...........................C=1, gamma=1, kernel=rbf; total time=   0.0s\n",
            "[CV] END ..........................C=1, gamma=1, kernel=poly; total time=   1.5s\n",
            "[CV] END ..........................C=1, gamma=1, kernel=poly; total time=   8.5s\n",
            "[CV] END ..........................C=1, gamma=1, kernel=poly; total time=   2.9s\n",
            "[CV] END ..........................C=1, gamma=1, kernel=poly; total time=   8.8s\n",
            "[CV] END ..........................C=1, gamma=1, kernel=poly; total time=   3.4s\n",
            "[CV] END .......................C=1, gamma=1, kernel=sigmoid; total time=   0.0s\n",
            "[CV] END .......................C=1, gamma=1, kernel=sigmoid; total time=   0.0s\n",
            "[CV] END .......................C=1, gamma=1, kernel=sigmoid; total time=   0.0s\n",
            "[CV] END .......................C=1, gamma=1, kernel=sigmoid; total time=   0.0s\n",
            "[CV] END .......................C=1, gamma=1, kernel=sigmoid; total time=   0.0s\n",
            "[CV] END .........................C=1, gamma=0.1, kernel=rbf; total time=   0.0s\n",
            "[CV] END .........................C=1, gamma=0.1, kernel=rbf; total time=   0.0s\n",
            "[CV] END .........................C=1, gamma=0.1, kernel=rbf; total time=   0.0s\n",
            "[CV] END .........................C=1, gamma=0.1, kernel=rbf; total time=   0.0s\n",
            "[CV] END .........................C=1, gamma=0.1, kernel=rbf; total time=   0.0s\n",
            "[CV] END ........................C=1, gamma=0.1, kernel=poly; total time=   0.0s\n",
            "[CV] END ........................C=1, gamma=0.1, kernel=poly; total time=   0.0s\n",
            "[CV] END ........................C=1, gamma=0.1, kernel=poly; total time=   0.0s\n",
            "[CV] END ........................C=1, gamma=0.1, kernel=poly; total time=   0.0s\n",
            "[CV] END ........................C=1, gamma=0.1, kernel=poly; total time=   0.0s\n",
            "[CV] END .....................C=1, gamma=0.1, kernel=sigmoid; total time=   0.0s\n",
            "[CV] END .....................C=1, gamma=0.1, kernel=sigmoid; total time=   0.0s\n",
            "[CV] END .....................C=1, gamma=0.1, kernel=sigmoid; total time=   0.0s\n",
            "[CV] END .....................C=1, gamma=0.1, kernel=sigmoid; total time=   0.0s\n",
            "[CV] END .....................C=1, gamma=0.1, kernel=sigmoid; total time=   0.0s\n",
            "[CV] END ........................C=1, gamma=0.01, kernel=rbf; total time=   0.0s\n",
            "[CV] END ........................C=1, gamma=0.01, kernel=rbf; total time=   0.0s\n",
            "[CV] END ........................C=1, gamma=0.01, kernel=rbf; total time=   0.0s\n",
            "[CV] END ........................C=1, gamma=0.01, kernel=rbf; total time=   0.0s\n",
            "[CV] END ........................C=1, gamma=0.01, kernel=rbf; total time=   0.0s\n",
            "[CV] END .......................C=1, gamma=0.01, kernel=poly; total time=   0.0s\n",
            "[CV] END .......................C=1, gamma=0.01, kernel=poly; total time=   0.0s\n",
            "[CV] END .......................C=1, gamma=0.01, kernel=poly; total time=   0.0s\n",
            "[CV] END .......................C=1, gamma=0.01, kernel=poly; total time=   0.0s\n",
            "[CV] END .......................C=1, gamma=0.01, kernel=poly; total time=   0.0s\n",
            "[CV] END ....................C=1, gamma=0.01, kernel=sigmoid; total time=   0.0s\n",
            "[CV] END ....................C=1, gamma=0.01, kernel=sigmoid; total time=   0.0s\n",
            "[CV] END ....................C=1, gamma=0.01, kernel=sigmoid; total time=   0.0s\n",
            "[CV] END ....................C=1, gamma=0.01, kernel=sigmoid; total time=   0.0s\n",
            "[CV] END ....................C=1, gamma=0.01, kernel=sigmoid; total time=   0.0s\n",
            "[CV] END .......................C=1, gamma=0.001, kernel=rbf; total time=   0.0s\n",
            "[CV] END .......................C=1, gamma=0.001, kernel=rbf; total time=   0.0s\n",
            "[CV] END .......................C=1, gamma=0.001, kernel=rbf; total time=   0.0s\n",
            "[CV] END .......................C=1, gamma=0.001, kernel=rbf; total time=   0.0s\n",
            "[CV] END .......................C=1, gamma=0.001, kernel=rbf; total time=   0.0s\n",
            "[CV] END ......................C=1, gamma=0.001, kernel=poly; total time=   0.0s\n",
            "[CV] END ......................C=1, gamma=0.001, kernel=poly; total time=   0.0s\n",
            "[CV] END ......................C=1, gamma=0.001, kernel=poly; total time=   0.0s\n",
            "[CV] END ......................C=1, gamma=0.001, kernel=poly; total time=   0.0s\n",
            "[CV] END ......................C=1, gamma=0.001, kernel=poly; total time=   0.0s\n",
            "[CV] END ...................C=1, gamma=0.001, kernel=sigmoid; total time=   0.0s\n",
            "[CV] END ...................C=1, gamma=0.001, kernel=sigmoid; total time=   0.0s\n",
            "[CV] END ...................C=1, gamma=0.001, kernel=sigmoid; total time=   0.0s\n",
            "[CV] END ...................C=1, gamma=0.001, kernel=sigmoid; total time=   0.0s\n",
            "[CV] END ...................C=1, gamma=0.001, kernel=sigmoid; total time=   0.0s\n",
            "[CV] END ..........................C=10, gamma=1, kernel=rbf; total time=   0.0s\n",
            "[CV] END ..........................C=10, gamma=1, kernel=rbf; total time=   0.0s\n",
            "[CV] END ..........................C=10, gamma=1, kernel=rbf; total time=   0.0s\n",
            "[CV] END ..........................C=10, gamma=1, kernel=rbf; total time=   0.0s\n",
            "[CV] END ..........................C=10, gamma=1, kernel=rbf; total time=   0.0s\n",
            "[CV] END .........................C=10, gamma=1, kernel=poly; total time=  21.4s\n",
            "[CV] END .........................C=10, gamma=1, kernel=poly; total time=  25.1s\n",
            "[CV] END .........................C=10, gamma=1, kernel=poly; total time=  10.7s\n",
            "[CV] END .........................C=10, gamma=1, kernel=poly; total time=  11.1s\n",
            "[CV] END .........................C=10, gamma=1, kernel=poly; total time=  12.9s\n",
            "[CV] END ......................C=10, gamma=1, kernel=sigmoid; total time=   0.0s\n",
            "[CV] END ......................C=10, gamma=1, kernel=sigmoid; total time=   0.0s\n",
            "[CV] END ......................C=10, gamma=1, kernel=sigmoid; total time=   0.0s\n",
            "[CV] END ......................C=10, gamma=1, kernel=sigmoid; total time=   0.0s\n",
            "[CV] END ......................C=10, gamma=1, kernel=sigmoid; total time=   0.0s\n",
            "[CV] END ........................C=10, gamma=0.1, kernel=rbf; total time=   0.0s\n",
            "[CV] END ........................C=10, gamma=0.1, kernel=rbf; total time=   0.0s\n",
            "[CV] END ........................C=10, gamma=0.1, kernel=rbf; total time=   0.0s\n",
            "[CV] END ........................C=10, gamma=0.1, kernel=rbf; total time=   0.0s\n",
            "[CV] END ........................C=10, gamma=0.1, kernel=rbf; total time=   0.0s\n",
            "[CV] END .......................C=10, gamma=0.1, kernel=poly; total time=   0.1s\n",
            "[CV] END .......................C=10, gamma=0.1, kernel=poly; total time=   0.0s\n",
            "[CV] END .......................C=10, gamma=0.1, kernel=poly; total time=   0.2s\n",
            "[CV] END .......................C=10, gamma=0.1, kernel=poly; total time=   0.1s\n",
            "[CV] END .......................C=10, gamma=0.1, kernel=poly; total time=   0.2s\n",
            "[CV] END ....................C=10, gamma=0.1, kernel=sigmoid; total time=   0.0s\n",
            "[CV] END ....................C=10, gamma=0.1, kernel=sigmoid; total time=   0.0s\n",
            "[CV] END ....................C=10, gamma=0.1, kernel=sigmoid; total time=   0.0s\n",
            "[CV] END ....................C=10, gamma=0.1, kernel=sigmoid; total time=   0.0s\n",
            "[CV] END ....................C=10, gamma=0.1, kernel=sigmoid; total time=   0.0s\n",
            "[CV] END .......................C=10, gamma=0.01, kernel=rbf; total time=   0.0s\n",
            "[CV] END .......................C=10, gamma=0.01, kernel=rbf; total time=   0.0s\n",
            "[CV] END .......................C=10, gamma=0.01, kernel=rbf; total time=   0.0s\n",
            "[CV] END .......................C=10, gamma=0.01, kernel=rbf; total time=   0.0s\n",
            "[CV] END .......................C=10, gamma=0.01, kernel=rbf; total time=   0.0s\n",
            "[CV] END ......................C=10, gamma=0.01, kernel=poly; total time=   0.0s\n",
            "[CV] END ......................C=10, gamma=0.01, kernel=poly; total time=   0.0s\n",
            "[CV] END ......................C=10, gamma=0.01, kernel=poly; total time=   0.0s\n",
            "[CV] END ......................C=10, gamma=0.01, kernel=poly; total time=   0.0s\n",
            "[CV] END ......................C=10, gamma=0.01, kernel=poly; total time=   0.0s\n",
            "[CV] END ...................C=10, gamma=0.01, kernel=sigmoid; total time=   0.0s\n",
            "[CV] END ...................C=10, gamma=0.01, kernel=sigmoid; total time=   0.0s\n",
            "[CV] END ...................C=10, gamma=0.01, kernel=sigmoid; total time=   0.0s\n",
            "[CV] END ...................C=10, gamma=0.01, kernel=sigmoid; total time=   0.0s\n",
            "[CV] END ...................C=10, gamma=0.01, kernel=sigmoid; total time=   0.0s\n",
            "[CV] END ......................C=10, gamma=0.001, kernel=rbf; total time=   0.0s\n",
            "[CV] END ......................C=10, gamma=0.001, kernel=rbf; total time=   0.0s\n",
            "[CV] END ......................C=10, gamma=0.001, kernel=rbf; total time=   0.0s\n",
            "[CV] END ......................C=10, gamma=0.001, kernel=rbf; total time=   0.0s\n",
            "[CV] END ......................C=10, gamma=0.001, kernel=rbf; total time=   0.0s\n",
            "[CV] END .....................C=10, gamma=0.001, kernel=poly; total time=   0.0s\n",
            "[CV] END .....................C=10, gamma=0.001, kernel=poly; total time=   0.0s\n",
            "[CV] END .....................C=10, gamma=0.001, kernel=poly; total time=   0.0s\n",
            "[CV] END .....................C=10, gamma=0.001, kernel=poly; total time=   0.0s\n",
            "[CV] END .....................C=10, gamma=0.001, kernel=poly; total time=   0.0s\n",
            "[CV] END ..................C=10, gamma=0.001, kernel=sigmoid; total time=   0.0s\n",
            "[CV] END ..................C=10, gamma=0.001, kernel=sigmoid; total time=   0.0s\n",
            "[CV] END ..................C=10, gamma=0.001, kernel=sigmoid; total time=   0.0s\n",
            "[CV] END ..................C=10, gamma=0.001, kernel=sigmoid; total time=   0.0s\n",
            "[CV] END ..................C=10, gamma=0.001, kernel=sigmoid; total time=   0.0s\n",
            "[CV] END .........................C=100, gamma=1, kernel=rbf; total time=   0.0s\n",
            "[CV] END .........................C=100, gamma=1, kernel=rbf; total time=   0.0s\n",
            "[CV] END .........................C=100, gamma=1, kernel=rbf; total time=   0.0s\n",
            "[CV] END .........................C=100, gamma=1, kernel=rbf; total time=   0.0s\n",
            "[CV] END .........................C=100, gamma=1, kernel=rbf; total time=   0.0s\n",
            "[CV] END ........................C=100, gamma=1, kernel=poly; total time=  51.3s\n",
            "[CV] END ........................C=100, gamma=1, kernel=poly; total time=  52.2s\n",
            "[CV] END ........................C=100, gamma=1, kernel=poly; total time= 1.6min\n",
            "[CV] END ........................C=100, gamma=1, kernel=poly; total time=  35.3s\n",
            "[CV] END ........................C=100, gamma=1, kernel=poly; total time= 1.4min\n",
            "[CV] END .....................C=100, gamma=1, kernel=sigmoid; total time=   0.0s\n",
            "[CV] END .....................C=100, gamma=1, kernel=sigmoid; total time=   0.0s\n",
            "[CV] END .....................C=100, gamma=1, kernel=sigmoid; total time=   0.0s\n",
            "[CV] END .....................C=100, gamma=1, kernel=sigmoid; total time=   0.0s\n",
            "[CV] END .....................C=100, gamma=1, kernel=sigmoid; total time=   0.0s\n",
            "[CV] END .......................C=100, gamma=0.1, kernel=rbf; total time=   0.0s\n",
            "[CV] END .......................C=100, gamma=0.1, kernel=rbf; total time=   0.0s\n",
            "[CV] END .......................C=100, gamma=0.1, kernel=rbf; total time=   0.0s\n",
            "[CV] END .......................C=100, gamma=0.1, kernel=rbf; total time=   0.0s\n",
            "[CV] END .......................C=100, gamma=0.1, kernel=rbf; total time=   0.0s\n",
            "[CV] END ......................C=100, gamma=0.1, kernel=poly; total time=   0.7s\n",
            "[CV] END ......................C=100, gamma=0.1, kernel=poly; total time=   1.9s\n",
            "[CV] END ......................C=100, gamma=0.1, kernel=poly; total time=   0.4s\n",
            "[CV] END ......................C=100, gamma=0.1, kernel=poly; total time=   0.5s\n",
            "[CV] END ......................C=100, gamma=0.1, kernel=poly; total time=   0.4s\n",
            "[CV] END ...................C=100, gamma=0.1, kernel=sigmoid; total time=   0.0s\n",
            "[CV] END ...................C=100, gamma=0.1, kernel=sigmoid; total time=   0.0s\n",
            "[CV] END ...................C=100, gamma=0.1, kernel=sigmoid; total time=   0.0s\n",
            "[CV] END ...................C=100, gamma=0.1, kernel=sigmoid; total time=   0.0s\n",
            "[CV] END ...................C=100, gamma=0.1, kernel=sigmoid; total time=   0.0s\n",
            "[CV] END ......................C=100, gamma=0.01, kernel=rbf; total time=   0.0s\n",
            "[CV] END ......................C=100, gamma=0.01, kernel=rbf; total time=   0.0s\n",
            "[CV] END ......................C=100, gamma=0.01, kernel=rbf; total time=   0.0s\n",
            "[CV] END ......................C=100, gamma=0.01, kernel=rbf; total time=   0.0s\n",
            "[CV] END ......................C=100, gamma=0.01, kernel=rbf; total time=   0.0s\n",
            "[CV] END .....................C=100, gamma=0.01, kernel=poly; total time=   0.0s\n",
            "[CV] END .....................C=100, gamma=0.01, kernel=poly; total time=   0.0s\n",
            "[CV] END .....................C=100, gamma=0.01, kernel=poly; total time=   0.0s\n",
            "[CV] END .....................C=100, gamma=0.01, kernel=poly; total time=   0.0s\n",
            "[CV] END .....................C=100, gamma=0.01, kernel=poly; total time=   0.0s\n",
            "[CV] END ..................C=100, gamma=0.01, kernel=sigmoid; total time=   0.0s\n",
            "[CV] END ..................C=100, gamma=0.01, kernel=sigmoid; total time=   0.0s\n",
            "[CV] END ..................C=100, gamma=0.01, kernel=sigmoid; total time=   0.0s\n",
            "[CV] END ..................C=100, gamma=0.01, kernel=sigmoid; total time=   0.0s\n",
            "[CV] END ..................C=100, gamma=0.01, kernel=sigmoid; total time=   0.0s\n",
            "[CV] END .....................C=100, gamma=0.001, kernel=rbf; total time=   0.0s\n",
            "[CV] END .....................C=100, gamma=0.001, kernel=rbf; total time=   0.0s\n",
            "[CV] END .....................C=100, gamma=0.001, kernel=rbf; total time=   0.0s\n",
            "[CV] END .....................C=100, gamma=0.001, kernel=rbf; total time=   0.0s\n",
            "[CV] END .....................C=100, gamma=0.001, kernel=rbf; total time=   0.0s\n",
            "[CV] END ....................C=100, gamma=0.001, kernel=poly; total time=   0.0s\n",
            "[CV] END ....................C=100, gamma=0.001, kernel=poly; total time=   0.0s\n",
            "[CV] END ....................C=100, gamma=0.001, kernel=poly; total time=   0.0s\n",
            "[CV] END ....................C=100, gamma=0.001, kernel=poly; total time=   0.0s\n",
            "[CV] END ....................C=100, gamma=0.001, kernel=poly; total time=   0.0s\n",
            "[CV] END .................C=100, gamma=0.001, kernel=sigmoid; total time=   0.0s\n",
            "[CV] END .................C=100, gamma=0.001, kernel=sigmoid; total time=   0.0s\n",
            "[CV] END .................C=100, gamma=0.001, kernel=sigmoid; total time=   0.0s\n",
            "[CV] END .................C=100, gamma=0.001, kernel=sigmoid; total time=   0.0s\n",
            "[CV] END .................C=100, gamma=0.001, kernel=sigmoid; total time=   0.0s\n"
          ]
        },
        {
          "output_type": "execute_result",
          "data": {
            "text/plain": [
              "GridSearchCV(cv=5, estimator=SVC(),\n",
              "             param_grid={'C': [0.1, 1, 10, 100], 'gamma': [1, 0.1, 0.01, 0.001],\n",
              "                         'kernel': ['rbf', 'poly', 'sigmoid']},\n",
              "             verbose=2)"
            ]
          },
          "metadata": {},
          "execution_count": 247
        }
      ]
    },
    {
      "cell_type": "code",
      "source": [
        "print(grid.best_estimator_)"
      ],
      "metadata": {
        "colab": {
          "base_uri": "https://localhost:8080/"
        },
        "id": "-9QyBfdLFbsz",
        "outputId": "104791b4-3d9f-42bc-f636-019d3222a49f"
      },
      "execution_count": null,
      "outputs": [
        {
          "output_type": "stream",
          "name": "stdout",
          "text": [
            "SVC(C=100, gamma=1)\n"
          ]
        }
      ]
    },
    {
      "cell_type": "code",
      "source": [
        "grid_predictions = grid.predict(X_test)"
      ],
      "metadata": {
        "id": "TGq82fSW2LO5"
      },
      "execution_count": null,
      "outputs": []
    },
    {
      "cell_type": "markdown",
      "source": [
        "### Evaluasi"
      ],
      "metadata": {
        "id": "0zes9MGY4Dyg"
      }
    },
    {
      "cell_type": "markdown",
      "source": [
        "Dengan menggunakan GridSearchCV dari library scikit-learn, didapatkan hyperparameter untuk SVm adalah C=100 dan gamma=1."
      ],
      "metadata": {
        "id": "9xQuQrofp1RP"
      }
    },
    {
      "cell_type": "code",
      "source": [
        "ax = sns.heatmap(confusion_matrix(y_test, grid_predictions), annot=True, cmap='Blues')\n",
        "\n",
        "ax.set_title('Seaborn Confusion Matrix with labels\\n\\n');\n",
        "ax.set_xlabel('\\nPredicted Values')\n",
        "ax.set_ylabel('Actual Values ');\n",
        "\n",
        "ax.xaxis.set_ticklabels(['False','True'])\n",
        "ax.yaxis.set_ticklabels(['False','True'])\n",
        "\n",
        "plt.show()"
      ],
      "metadata": {
        "colab": {
          "base_uri": "https://localhost:8080/",
          "height": 346
        },
        "id": "XiCP1DbKsiPZ",
        "outputId": "3adacc33-1e99-415c-edc2-20ea01746398"
      },
      "execution_count": null,
      "outputs": [
        {
          "output_type": "display_data",
          "data": {
            "text/plain": [
              "<Figure size 432x288 with 2 Axes>"
            ],
            "image/png": "[encoded data removed]"
          },
          "metadata": {}
        }
      ]
    },
    {
      "cell_type": "markdown",
      "source": [
        "Berdasarkan confusion matrix, didapatkan nilai TP = 58, FP = 3, FN = 16, dan TP = 11."
      ],
      "metadata": {
        "id": "NvCZN2Ijwr_N"
      }
    },
    {
      "cell_type": "code",
      "source": [
        "print(classification_report(y_test,grid_predictions))"
      ],
      "metadata": {
        "colab": {
          "base_uri": "https://localhost:8080/"
        },
        "id": "xjLsVAk3J01M",
        "outputId": "0d008bb0-8bb8-4678-8f77-21c58d6c665b"
      },
      "execution_count": null,
      "outputs": [
        {
          "output_type": "stream",
          "name": "stdout",
          "text": [
            "              precision    recall  f1-score   support\n",
            "\n",
            "         4.0       0.78      0.95      0.86        61\n",
            "         5.0       0.79      0.41      0.54        27\n",
            "\n",
            "    accuracy                           0.78        88\n",
            "   macro avg       0.78      0.68      0.70        88\n",
            "weighted avg       0.78      0.78      0.76        88\n",
            "\n"
          ]
        }
      ]
    },
    {
      "cell_type": "markdown",
      "source": [
        "Model dijalankan kembali dengan hyperparameter yang sudah didapatkan. Hasil yang didapatkan dapat dilihat dari classification_report diatas."
      ],
      "metadata": {
        "id": "wRTEEQFVr-Cy"
      }
    },
    {
      "cell_type": "markdown",
      "source": [
        "# Hasil"
      ],
      "metadata": {
        "id": "79jC0hJ1sAJp"
      }
    },
    {
      "cell_type": "markdown",
      "source": [
        "Dari hasil implementasi model, didapatkan algoritma SVM dengan akurasi tertinggi (0.78). Oleh karena itu, untuk mendapatkan urutan fitur paling berpengaruh terhadap label, klasifikasi yang digunakan adalah svm dengan parameter hyperparameter."
      ],
      "metadata": {
        "id": "i-64fJ8MshsZ"
      }
    },
    {
      "cell_type": "code",
      "source": [
        "from sklearn.inspection import permutation_importance\n",
        "perm_importance = permutation_importance(grid, X_train, y_train)\n",
        "\n",
        "\n",
        "feature_names = X_test.columns\n",
        "features = np.array(feature_names)\n",
        "\n",
        "sorted_idx = perm_importance.importances_mean.argsort()\n",
        "plt.bar(features[sorted_idx], np.abs(perm_importance.importances_mean[sorted_idx]))\n",
        "plt.ylabel(\"Permutation Importance\")"
      ],
      "metadata": {
        "colab": {
          "base_uri": "https://localhost:8080/",
          "height": 286
        },
        "id": "4pKgTwxjFd5B",
        "outputId": "f653a073-b345-40ba-e566-af88ee5ea5fc"
      },
      "execution_count": null,
      "outputs": [
        {
          "output_type": "execute_result",
          "data": {
            "text/plain": [
              "Text(0, 0.5, 'Permutation Importance')"
            ]
          },
          "metadata": {},
          "execution_count": 252
        },
        {
          "output_type": "display_data",
          "data": {
            "text/plain": [
              "<Figure size 432x288 with 1 Axes>"
            ],
            "image/png": "[encoded data removed]"
          },
          "metadata": {}
        }
      ]
    },
    {
      "cell_type": "markdown",
      "source": [
        "Permutation Importance konsepnya adalah mengacak nilai dalam satu kolom, lalu dibuat prediksi menggunakan klasifikasi SVM. Berdasarkan hasil prediksi tersebut, nilai penurunan kinerja kolom dihitung berdasarkan perbandingan dengan data kolom sebelum diacak. Hasil akhir Permutation Importance ini adalah nilai numerik yang semakin tinggi, berarti semakin berpengaruh fitur tersebut terhadap label. Berdasarkan hasil permutation importance, urutan fitur paling berpengaruh terhadap label adalah dari yang tertinggi Category, City, Time_Minutes, dan Price."
      ],
      "metadata": {
        "id": "6caBOFSZtPNY"
      }
    }
  ]
}